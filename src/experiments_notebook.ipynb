{
 "cells": [
  {
   "cell_type": "markdown",
   "metadata": {},
   "source": [
    "#### Imports"
   ]
  },
  {
   "cell_type": "code",
   "execution_count": 1,
   "metadata": {},
   "outputs": [],
   "source": [
    "import os\n",
    "from configs import ConfigPath\n",
    "from utils.utils import read_json_file\n",
    "from llms.embedding_model import EmbeddingModel\n",
    "from configs.config import ConfigEnv\n",
    "from knowledge_graph.connection import Neo4jConnection\n",
    "from llms.llm import ChatModel\n",
    "from retrieval.tools.vector_search_tool import VectorSearchTool\n",
    "from answer_pip_executor import AnswerPipExecutor\n",
    "from evaluation.evaluation import Evaluator"
   ]
  },
  {
   "cell_type": "markdown",
   "metadata": {},
   "source": [
    "#### Initializations"
   ]
  },
  {
   "cell_type": "code",
   "execution_count": 2,
   "metadata": {},
   "outputs": [
    {
     "name": "stderr",
     "output_type": "stream",
     "text": [
      "2025-03-17 00:27:57,395 [DEBUG] embedding_model - CUDA is available, using GPU\n",
      "2025-03-17 00:28:54,606 [DEBUG] embedding_model - Embedding model initialized: neuml/pubmedbert-base-embeddings\n",
      "2025-03-17 00:28:54,649 [DEBUG] llm - Initialized model gemini-2.0-flash-lite\n",
      "2025-03-17 00:28:58,773 [DEBUG] connection - Connection successful!\n"
     ]
    },
    {
     "name": "stdout",
     "output_type": "stream",
     "text": [
      "Data length: 9\n"
     ]
    }
   ],
   "source": [
    "# models\n",
    "embedding_model = EmbeddingModel()\n",
    "\n",
    "llm = ChatModel(provider=\"google\", model_name=\"gemini-2.0-flash-lite\").initialize_model()\n",
    "\n",
    "# neo4j connection\n",
    "neo4j_connection = Neo4jConnection(uri=ConfigEnv.NEO4J_URI, \n",
    "                 user=ConfigEnv.NEO4J_USER,\n",
    "                 password=ConfigEnv.NEO4J_PASSWORD,\n",
    "                 database=ConfigEnv.NEO4J_DB)\n",
    "\n",
    "answer_type = \"short\"\n",
    "\n",
    "# retriever\n",
    "vector_search_tool = VectorSearchTool(\n",
    "    llm=llm,\n",
    "    embedding_model=embedding_model,\n",
    "    neo4j_connection=neo4j_connection,\n",
    "    return_direct=False,\n",
    "    answer_type=answer_type,\n",
    ")\n",
    "\n",
    "retriever_model_name = vector_search_tool.get_model_name()\n",
    "\n",
    "# data\n",
    "data = read_json_file(file_path=os.path.join(ConfigPath.RAW_DATA_DIR, \"test_pqa.json\"))  \n",
    "print(f\"Data length: {len(data)}\")"
   ]
  },
  {
   "cell_type": "code",
   "execution_count": 3,
   "metadata": {},
   "outputs": [],
   "source": [
    "results = vector_search_tool.invoke(\"Do mitochondria play a role in remodelling lace plant leaves during programmed cell death?\")"
   ]
  },
  {
   "cell_type": "code",
   "execution_count": 3,
   "metadata": {},
   "outputs": [
    {
     "name": "stderr",
     "output_type": "stream",
     "text": [
      "2025-03-17 00:29:00,579 [INFO] answer_pip_executor - Starting the answer generation...\n",
      "Generating results...: 100%|██████████| 9/9 [00:08<00:00,  1.09it/s]\n",
      "2025-03-17 00:29:08,869 [INFO] answer_pip_executor - Generated 9 results.\n"
     ]
    }
   ],
   "source": [
    "answer_pip_executor = AnswerPipExecutor(source_data=data)\n",
    "results = answer_pip_executor.generate_answers(retriever=vector_search_tool, model_name=retriever_model_name, answer_type=answer_type)"
   ]
  },
  {
   "cell_type": "code",
   "execution_count": 4,
   "metadata": {},
   "outputs": [],
   "source": [
    "import pandas as pd\n",
    "\n",
    "results_df = pd.DataFrame(results)"
   ]
  },
  {
   "cell_type": "code",
   "execution_count": 6,
   "metadata": {},
   "outputs": [
    {
     "data": {
      "text/plain": [
       "0    True\n",
       "1    True\n",
       "2    True\n",
       "3    True\n",
       "4    True\n",
       "5    True\n",
       "6    True\n",
       "7    True\n",
       "8    True\n",
       "Name: context_found, dtype: bool"
      ]
     },
     "execution_count": 6,
     "metadata": {},
     "output_type": "execute_result"
    }
   ],
   "source": [
    "results_df[\"context_found\"]"
   ]
  },
  {
   "cell_type": "code",
   "execution_count": 7,
   "metadata": {},
   "outputs": [
    {
     "name": "stderr",
     "output_type": "stream",
     "text": [
      "2025-03-16 23:44:36,174 [INFO] evaluation - Computing metrics...\n"
     ]
    },
    {
     "ename": "KeyError",
     "evalue": "'actual'",
     "output_type": "error",
     "traceback": [
      "\u001b[1;31m---------------------------------------------------------------------------\u001b[0m",
      "\u001b[1;31mKeyError\u001b[0m                                  Traceback (most recent call last)",
      "Cell \u001b[1;32mIn[7], line 2\u001b[0m\n\u001b[0;32m      1\u001b[0m evaluator \u001b[38;5;241m=\u001b[39m Evaluator(ground_truth_data\u001b[38;5;241m=\u001b[39mdata, short_answer_results\u001b[38;5;241m=\u001b[39mresults)\n\u001b[1;32m----> 2\u001b[0m \u001b[43mevaluator\u001b[49m\u001b[38;5;241;43m.\u001b[39;49m\u001b[43mevaluate\u001b[49m\u001b[43m(\u001b[49m\u001b[43m)\u001b[49m\n",
      "File \u001b[1;32mc:\\Users\\melis\\Desktop\\Projects\\python_projects\\thesis\\advanced_graph_rag\\src\\evaluation\\evaluation.py:27\u001b[0m, in \u001b[0;36mEvaluator.evaluate\u001b[1;34m(self, to_save)\u001b[0m\n\u001b[0;32m     25\u001b[0m short_answer_metrics, long_answer_metrics \u001b[38;5;241m=\u001b[39m \u001b[38;5;28;01mNone\u001b[39;00m, \u001b[38;5;28;01mNone\u001b[39;00m\n\u001b[0;32m     26\u001b[0m \u001b[38;5;28;01mif\u001b[39;00m \u001b[38;5;28mself\u001b[39m\u001b[38;5;241m.\u001b[39mshort_answer_results:\n\u001b[1;32m---> 27\u001b[0m     short_answer_metrics \u001b[38;5;241m=\u001b[39m \u001b[38;5;28;43mself\u001b[39;49m\u001b[38;5;241;43m.\u001b[39;49m\u001b[43mcompute_short_answer_metrics\u001b[49m\u001b[43m(\u001b[49m\u001b[43mto_save\u001b[49m\u001b[43m)\u001b[49m\n\u001b[0;32m     28\u001b[0m \u001b[38;5;28;01mif\u001b[39;00m \u001b[38;5;28mself\u001b[39m\u001b[38;5;241m.\u001b[39mlong_answer_results:\n\u001b[0;32m     29\u001b[0m     long_answer_metrics \u001b[38;5;241m=\u001b[39m \u001b[38;5;28mself\u001b[39m\u001b[38;5;241m.\u001b[39mcompute_long_answer_metrics(to_save)\n",
      "File \u001b[1;32mc:\\Users\\melis\\Desktop\\Projects\\python_projects\\thesis\\advanced_graph_rag\\src\\evaluation\\evaluation.py:46\u001b[0m, in \u001b[0;36mEvaluator.compute_short_answer_metrics\u001b[1;34m(self, to_save)\u001b[0m\n\u001b[0;32m     43\u001b[0m generated_decisions \u001b[38;5;241m=\u001b[39m []\n\u001b[0;32m     45\u001b[0m \u001b[38;5;28;01mfor\u001b[39;00m result \u001b[38;5;129;01min\u001b[39;00m \u001b[38;5;28mself\u001b[39m\u001b[38;5;241m.\u001b[39mshort_answer_results:\n\u001b[1;32m---> 46\u001b[0m     actual_decisions\u001b[38;5;241m.\u001b[39mappend(\u001b[43mresult\u001b[49m\u001b[43m[\u001b[49m\u001b[38;5;124;43m\"\u001b[39;49m\u001b[38;5;124;43mactual\u001b[39;49m\u001b[38;5;124;43m\"\u001b[39;49m\u001b[43m]\u001b[49m)\n\u001b[0;32m     47\u001b[0m     generated_decisions\u001b[38;5;241m.\u001b[39mappend(result[\u001b[38;5;124m\"\u001b[39m\u001b[38;5;124mgenerated\u001b[39m\u001b[38;5;124m\"\u001b[39m])\n\u001b[0;32m     49\u001b[0m \u001b[38;5;66;03m# convert to binary (yes=1, no=0)\u001b[39;00m\n",
      "\u001b[1;31mKeyError\u001b[0m: 'actual'"
     ]
    }
   ],
   "source": [
    "evaluator = Evaluator(ground_truth_data=data, short_answer_results=results)\n",
    "evaluator.evaluate()"
   ]
  },
  {
   "cell_type": "code",
   "execution_count": null,
   "metadata": {},
   "outputs": [
    {
     "name": "stderr",
     "output_type": "stream",
     "text": [
      "2025-03-07 00:15:50,392 [INFO] evaluation - Computing metrics...\n",
      "2025-03-07 00:15:50,508 [INFO] evaluation - Accuracy: 0.6780\n",
      "2025-03-07 00:15:50,511 [INFO] evaluation - Precision: 0.6423\n",
      "2025-03-07 00:15:50,512 [INFO] evaluation - Recall: 0.9402\n",
      "2025-03-07 00:15:50,514 [INFO] evaluation - F1: 0.7632\n",
      "2025-03-07 00:15:50,517 [INFO] evaluation - Results saved to C:\\Users\\melis\\Desktop\\Projects\\python_projects\\thesis\\advanced_graph_rag\\data\\metrics\\answering_metrics_20250307_001550.json\n"
     ]
    },
    {
     "data": {
      "text/plain": [
       "{'accuracy': 0.678,\n",
       " 'precision': 0.6423267326732673,\n",
       " 'recall': 0.9402173913043478,\n",
       " 'f1': 0.763235294117647}"
      ]
     },
     "execution_count": 5,
     "metadata": {},
     "output_type": "execute_result"
    }
   ],
   "source": [
    "evaluator.compute_short_answer_metrics()"
   ]
  },
  {
   "cell_type": "code",
   "execution_count": null,
   "metadata": {},
   "outputs": [],
   "source": []
  },
  {
   "cell_type": "code",
   "execution_count": 4,
   "metadata": {},
   "outputs": [
    {
     "data": {
      "text/plain": [
       "['Programmed cell death (PCD) is the regulated death of cells within an organism. The lace plant (Aponogeton madagascariensis) produces perforations in its leaves through PCD. The leaves of the plant consist of a latticework of longitudinal and transverse veins enclosing areoles. PCD occurs in the cells at the center of these areoles and progresses outwards, stopping approximately five cells from the vasculature. The role of mitochondria during PCD has been recognized in animals; however, it has been less studied during PCD in plants. The following paper elucidates the role of mitochondrial dynamics during developmentally regulated PCD in vivo in A. madagascariensis. A single areole within a window stage leaf (PCD is occurring) was divided into three areas based on the progression of PCD; cells that will not undergo PCD (NPCD), cells in early stages of PCD (EPCD), and cells in late stages of PCD (LPCD). Window stage leaves were stained with the mitochondrial dye MitoTracker Red CMXRos and examined. Mitochondrial dynamics were delineated into four categories (M1-M4) based on characteristics including distribution, motility, and membrane potential (ΔΨm). A TUNEL assay showed fragmented nDNA in a gradient over these mitochondrial stages. Chloroplasts and transvacuolar strands were also examined using live cell imaging. The possible importance of mitochondrial permeability transition pore (PTP) formation during PCD was indirectly examined via in vivo cyclosporine A (CsA) treatment. This treatment resulted in lace plant leaves with a significantly lower number of perforations compared to controls, and that displayed mitochondrial dynamics similar to that of non-PCD cells.',\n",
       " 'The hypothesis was tested that pectin content and methylation degree participate in regulation of cell wall mechanical properties and in this way may affect tissue growth and freezing resistance over the course of plant cold acclimation and de-acclimation. Experiments were carried on the leaves of two double-haploid lines of winter oil-seed rape (Brassica napus subsp. oleifera), differing in winter survival and resistance to blackleg fungus (Leptosphaeria maculans). Plant acclimation in the cold (2 degrees C) brought about retardation of leaf expansion, concomitant with development of freezing resistance. These effects were associated with the increases in leaf tensile stiffness, cell wall and pectin contents, pectin methylesterase (EC 3.1.1.11) activity and the low-methylated pectin content, independently of the genotype studied. However, the cold-induced modifications in the cell wall properties were more pronounced in the leaves of the more pathogen-resistant genotype. De-acclimation promoted leaf expansion and reversed most of the cold-induced effects, with the exception of pectin methylesterase activity.']"
      ]
     },
     "execution_count": 4,
     "metadata": {},
     "output_type": "execute_result"
    }
   ],
   "source": [
    "contexts = [element['content'] for element in results['context']]\n",
    "contexts"
   ]
  },
  {
   "cell_type": "code",
   "execution_count": 5,
   "metadata": {},
   "outputs": [],
   "source": [
    "from ragas import EvaluationDataset\n",
    "\n",
    "\n",
    "dataset = []\n",
    "dataset.append(\n",
    "        {\n",
    "            \"user_input\": \"Do mitochondria play a role in remodelling lace plant leaves during programmed cell death?\",\n",
    "            \"retrieved_contexts\": contexts,\n",
    "            \"response\": \"yes\",\n",
    "            \"reference\": \"yes\", # expected response\n",
    "        }\n",
    "    )\n",
    "evaluation_dataset = EvaluationDataset.from_list(dataset)"
   ]
  },
  {
   "cell_type": "code",
   "execution_count": 15,
   "metadata": {},
   "outputs": [
    {
     "data": {
      "application/vnd.jupyter.widget-view+json": {
       "model_id": "4b474f3c4d9a4ed4a8172d8b4aa05001",
       "version_major": 2,
       "version_minor": 0
      },
      "text/plain": [
       "Evaluating:   0%|          | 0/4 [00:00<?, ?it/s]"
      ]
     },
     "metadata": {},
     "output_type": "display_data"
    },
    {
     "data": {
      "text/plain": [
       "{'context_precision': 1.0000, 'context_recall': 1.0000, 'answer_relevancy': 0.0526, 'factual_correctness(mode=f1)': 1.0000}"
      ]
     },
     "execution_count": 15,
     "metadata": {},
     "output_type": "execute_result"
    }
   ],
   "source": [
    "from ragas import evaluate\n",
    "from ragas.llms import LangchainLLMWrapper\n",
    "from ragas.embeddings import LangchainEmbeddingsWrapper\n",
    "from ragas.metrics import ContextPrecision, ContextRecall, ResponseRelevancy, FactualCorrectness\n",
    "\n",
    "evaluator_llm = LangchainLLMWrapper(llm)\n",
    "evaluator_embedding = LangchainEmbeddingsWrapper(embedding_model)\n",
    "\n",
    "context_precision = ContextPrecision()\n",
    "context_recall = ContextRecall()\n",
    "response_relevancy = ResponseRelevancy()\n",
    "factual_correctness = FactualCorrectness()\n",
    "\n",
    "result = evaluate(\n",
    "    dataset=evaluation_dataset,\n",
    "    metrics=[context_precision, context_recall, response_relevancy, factual_correctness],\n",
    "    llm=evaluator_llm,\n",
    "    embeddings=evaluator_embedding\n",
    ")\n",
    "\n",
    "result"
   ]
  },
  {
   "cell_type": "code",
   "execution_count": null,
   "metadata": {},
   "outputs": [],
   "source": []
  }
 ],
 "metadata": {
  "kernelspec": {
   "display_name": ".venv",
   "language": "python",
   "name": "python3"
  },
  "language_info": {
   "codemirror_mode": {
    "name": "ipython",
    "version": 3
   },
   "file_extension": ".py",
   "mimetype": "text/x-python",
   "name": "python",
   "nbconvert_exporter": "python",
   "pygments_lexer": "ipython3",
   "version": "3.10.0"
  }
 },
 "nbformat": 4,
 "nbformat_minor": 2
}
