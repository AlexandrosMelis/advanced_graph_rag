{
 "cells": [
  {
   "cell_type": "markdown",
   "metadata": {},
   "source": [
    "#### Imports"
   ]
  },
  {
   "cell_type": "code",
   "execution_count": null,
   "metadata": {},
   "outputs": [],
   "source": [
    "import os\n",
    "from configs import ConfigPath\n",
    "from utils.utils import read_json_file\n",
    "from llms.embedding_model import EmbeddingModel\n",
    "from configs.config import ConfigEnv\n",
    "from knowledge_graph.connection import Neo4jConnection\n",
    "from llms.llm import ChatModel\n",
    "from retrieval.tools.vector_search_tool import VectorSimilaritySearchTool\n",
    "from data_collection.reader import BioASQDataReader\n",
    "from evaluation.retrieval_evaluation import run_evaluation_on_retrieved_chunks\n",
    "from tqdm import tqdm"
   ]
  },
  {
   "cell_type": "markdown",
   "metadata": {},
   "source": [
    "#### Initializations"
   ]
  },
  {
   "cell_type": "code",
   "execution_count": null,
   "metadata": {},
   "outputs": [
    {
     "name": "stderr",
     "output_type": "stream",
     "text": [
      "2025-04-01 23:57:33,572 [DEBUG] embedding_model - CUDA is available, using GPU\n",
      "2025-04-01 23:57:53,555 [DEBUG] embedding_model - Embedding model initialized: neuml/pubmedbert-base-embeddings\n",
      "2025-04-01 23:57:53,569 [DEBUG] llm - Initialized model gemini-2.0-flash-lite\n",
      "2025-04-01 23:57:57,675 [DEBUG] connection - Connection successful!\n",
      "2025-04-01 23:57:57,717 [INFO] reader - Limiting the number of rows to 3...\n",
      "2025-04-01 23:57:57,719 [INFO] reader - Data file loaded with shape: (3, 4)\n"
     ]
    },
    {
     "name": "stdout",
     "output_type": "stream",
     "text": [
      "Data length: 3\n"
     ]
    }
   ],
   "source": [
    "# models\n",
    "embedding_model = EmbeddingModel()\n",
    "\n",
    "llm = ChatModel(provider=\"google\", model_name=\"gemini-2.0-flash-lite\").initialize_model()\n",
    "\n",
    "# neo4j connection\n",
    "neo4j_connection = Neo4jConnection(uri=ConfigEnv.NEO4J_URI, \n",
    "                 user=ConfigEnv.NEO4J_USER,\n",
    "                 password=ConfigEnv.NEO4J_PASSWORD,\n",
    "                 database=ConfigEnv.NEO4J_DB)\n",
    "\n",
    "# retriever\n",
    "vector_search_tool = VectorSimilaritySearchTool(\n",
    "    llm=llm,\n",
    "    embedding_model=embedding_model,\n",
    "    neo4j_connection=neo4j_connection,\n",
    "    return_direct=True\n",
    ")\n",
    "\n",
    "retriever_model_name = vector_search_tool.get_model_name()\n",
    "\n",
    "# data\n",
    "data_path = os.path.join(ConfigPath.RAW_DATA_DIR, \"bioasq_train.parquet\")\n",
    "reader = BioASQDataReader(samples_limit=3)\n",
    "data = reader.read_parquet_file(file_path=data_path) \n",
    "print(f\"Data length: {len(data)}\")"
   ]
  },
  {
   "cell_type": "code",
   "execution_count": 3,
   "metadata": {},
   "outputs": [
    {
     "name": "stderr",
     "output_type": "stream",
     "text": [
      "Executing retriever...: 100%|██████████| 3/3 [00:00<00:00,  3.21it/s]\n"
     ]
    },
    {
     "data": {
      "text/plain": [
       "{1682: [{'pmid': '26598646',\n",
       "   'content': 'Covalent post-translational modifications (PTMs) of proteins can regulate the structural and functional state of a protein in the absence of primary changes in the underlying sequence. Common PTMs include phosphorylation, acetylation, and methylation. Histone proteins are critical regulators of the genome and are subject to a highly abundant and diverse array of PTMs. To highlight the functional complexity added to the proteome by lysine methylation signaling, here we will focus on lysine methylation of histone proteins, an important modification in the regulation of chromatin and epigenetic processes. We review the signaling pathways and functions associated with a single residue, H4K20, as a model chromatin and clinically important mark that regulates biological processes ranging from the DNA damage response and DNA replication to gene expression and silencing.',\n",
       "   'score': 0.8392342925071716},\n",
       "  {'pmid': '20735237',\n",
       "   'content': 'The molecular biology of histone H4 lysine 20 (H4K20) methylation, like many other post-translational modifications of histones, has been the subject of intensive interest in recent years. While there is an emerging consensus linking H4K20me1, H4K20me2, and H4K20me3 to transcription, repair, and constitutive heterochromatin, respectively, the specific details of these associations and the biological mechanisms by which the methylated histones are introduced and function are now the subject of active investigation. Although a large number of methylases capable of methylating H4K20 have been identified and characterized; there is no known demethylase of H4K20, though the search is ongoing. Additionally, many recent studies have been directed at understanding the role of methylated H4K20 and other histone modifications associated with different biological processes in the context of a combinatorial histone code. It seems likely that continued study of the methylation of H4K20 will yield extremely valuable insights concerning the regulation of histone modifications before and during cell division and the impact of these modifications on subsequent gene expression.',\n",
       "   'score': 0.8274540901184082},\n",
       "  {'pmid': '19270706',\n",
       "   'content': 'We used high-resolution SNP genotyping to identify regions of genomic gain and loss in the genomes of 212 medulloblastomas, malignant pediatric brain tumors. We found focal amplifications of 15 known oncogenes and focal deletions of 20 known tumor suppressor genes (TSG), most not previously implicated in medulloblastoma. Notably, we identified previously unknown amplifications and homozygous deletions, including recurrent, mutually exclusive, highly focal genetic events in genes targeting histone lysine methylation, particularly that of histone 3, lysine 9 (H3K9). Post-translational modification of histone proteins is critical for regulation of gene expression, can participate in determination of stem cell fates and has been implicated in carcinogenesis. Consistent with our genetic data, restoration of expression of genes controlling H3K9 methylation greatly diminishes proliferation of medulloblastoma in vitro. Copy number aberrations of genes with critical roles in writing, reading, removing and blocking the state of histone lysine methylation, particularly at H3K9, suggest that defective control of the histone code contributes to the pathogenesis of medulloblastoma.',\n",
       "   'score': 0.8076298832893372},\n",
       "  {'pmid': '28413449',\n",
       "   'content': 'BACKGROUND: DNA methylation is an epigenetic modification that is enriched in heterochromatin but depleted at active promoters and enhancers. However, the debate on whether or not DNA methylation is a reliable indicator of high nucleosome occupancy has not been settled. For example, the methylation levels of DNA flanking CTCF sites are higher in linker DNA than in nucleosomal DNA, while other studies have shown that the nucleosome core is the preferred site of methylation. In this study, we make progress toward understanding these conflicting phenomena by implementing a bioinformatics approach that combines MNase-seq and NOMe-seq data and by comprehensively profiling DNA methylation and nucleosome occupancy throughout the human genome. RESULTS: The results demonstrated that increasing methylated CpG density is correlated with nucleosome occupancy in the total genome and within nearly all subgenomic regions. Features with elevated methylated CpG density such as exons, SINE-Alu sequences, H3K36-trimethylated peaks, and methylated CpG islands are among the highest nucleosome occupied elements in the genome, while some of the lowest occupancies are displayed by unmethylated CpG islands and unmethylated transcription factor binding sites. Additionally, outside of CpG islands, the density of CpGs within nucleosomes was shown to be important for the nucleosomal location of DNA methylation with low CpG frequencies favoring linker methylation and high CpG frequencies favoring core particle methylation. Prominent exceptions to the correlations between methylated CpG density and nucleosome occupancy include CpG islands marked by H3K27me3 and CpG-poor heterochromatin marked by H3K9me3, and these modifications, along with DNA methylation, distinguish the major silencing mechanisms of the human epigenome. CONCLUSIONS: Thus, the relationship between DNA methylation and nucleosome occupancy is influenced by the density of methylated CpG dinucleotides and by other epigenomic components in chromatin.',\n",
       "   'score': 0.7908698320388794},\n",
       "  {'pmid': '23345616',\n",
       "   'content': 'Maintenance of genomic integrity is essential to ensure normal organismal development and to prevent diseases such as cancer. Nuclear DNA is packaged into chromatin, and thus genome maintenance can be influenced by distinct chromatin environments. In particular, post-translational modifications of histones have emerged as key regulators of genomic integrity. Intense research during the past few years has revealed histone H4 lysine 20 methylation (H4K20me) as critically important for the biological processes that ensure genome integrity, such as DNA damage repair, DNA replication and chromatin compaction. The distinct H4K20 methylation states are mediated by SET8/PR-Set7 that catalyses monomethylation of H4K20, whereas SUV4-20H1 and SUV4-20H2 enzymes mediate further H4K20 methylation to H4K20me2 and H4K20me3. Disruption of these H4K20-specific histone methyltransferases leads to genomic instability, demonstrating the important functions of H4K20 methylation in genome maintenance. In this review, we explain molecular mechanisms underlying these defects and discuss novel ideas for furthering our understanding of genome maintenance in higher eukaryotes.',\n",
       "   'score': 0.787659227848053},\n",
       "  {'pmid': '23754963',\n",
       "   'content': 'Mammalian DNA replication starts at distinct chromosomal sites in a tissue-specific pattern coordinated with transcription, but previous studies have not yet identified a chromatin modification that correlates with the initiation of DNA replication at particular genomic locations. Here we report that a distinct fraction of replication initiation sites in the human genome are associated with a high frequency of dimethylation of histone H3 lysine K79 (H3K79Me2). H3K79Me2-containing chromatin exhibited the highest genome-wide enrichment for replication initiation events observed for any chromatin modification examined thus far (23.39% of H3K79Me2 peaks were detected in regions adjacent to replication initiation events). The association of H3K79Me2 with replication initiation sites was independent and not synergistic with other chromatin modifications. H3K79 dimethylation exhibited wider distribution on chromatin during S-phase, but only regions with H3K79 methylation in G1 and G2 were enriched in replication initiation events. H3K79 was dimethylated in a region containing a functional replicator (a DNA sequence capable of initiating DNA replication), but the methylation was not evident in a mutant replicator that could not initiate replication. Depletion of DOT1L, the sole enzyme responsible for H3K79 methylation, triggered limited genomic over-replication although most cells could continue to proliferate and replicate DNA in the absence of methylated H3K79. Thus, prevention of H3K79 methylation might affect regulatory processes that modulate the order and timing of DNA replication. These data are consistent with the hypothesis that dimethylated H3K79 associates with some replication origins and marks replicated chromatin during S-phase to prevent re-replication and preserve genomic stability.',\n",
       "   'score': 0.7714850306510925},\n",
       "  {'pmid': '24013172',\n",
       "   'content': 'Faithful propagation of DNA methylation patterns during DNA replication is critical for maintaining cellular phenotypes of individual differentiated cells. Although it is well established that Uhrf1 (ubiquitin-like with PHD and ring finger domains 1; also known as Np95 and ICBP90) specifically binds to hemi-methylated DNA through its SRA (SET and RING finger associated) domain and has an essential role in maintenance of DNA methylation by recruiting Dnmt1 to hemi-methylated DNA sites, the mechanism by which Uhrf1 coordinates the maintenance of DNA methylation and DNA replication is largely unknown. Here we show that Uhrf1-dependent histone H3 ubiquitylation has a prerequisite role in the maintenance DNA methylation. Using Xenopus egg extracts, we successfully reproduce maintenance DNA methylation in vitro. Dnmt1 depletion results in a marked accumulation of Uhrf1-dependent ubiquitylation of histone H3 at lysine 23. Dnmt1 preferentially associates with ubiquitylated H3 in vitro though a region previously identified as a replication foci targeting sequence. The RING finger mutant of Uhrf1 fails to recruit Dnmt1 to DNA replication sites and maintain DNA methylation in mammalian cultured cells. Our findings represent the first evidence, to our knowledge, of the mechanistic link between DNA methylation and DNA replication through histone H3 ubiquitylation.',\n",
       "   'score': 0.7588621377944946},\n",
       "  {'pmid': '27131378',\n",
       "   'content': 'The methylation state of lysine 20 on histone H4 (H4K20) has been linked to chromatin compaction, transcription, DNA repair and DNA replication. Monomethylation of H4K20 (H4K20me1) is mediated by the cell cycle-regulated histone methyltransferase PR-Set7. PR-Set7 depletion in mammalian cells results in defective S phase progression and the accumulation of DNA damage, which has been partially attributed to defects in origin selection and activation. However, these studies were limited to only a handful of mammalian origins, and it remains unclear how PR-Set7 and H4K20 methylation impact the replication program on a genomic scale. We employed genetic, cytological, and genomic approaches to better understand the role of PR-Set7 and H4K20 methylation in regulating DNA replication and genome stability in Drosophila cells. We find that deregulation of H4K20 methylation had no impact on origin activation throughout the genome. Instead, depletion of PR-Set7 and loss of H4K20me1 results in the accumulation of DNA damage and an ATR-dependent cell cycle arrest. Coincident with the ATR-dependent cell cycle arrest, we find increased DNA damage that is specifically limited to late replicating regions of the Drosophila genome, suggesting that PR-Set7-mediated monomethylation of H4K20 is critical for maintaining the genomic integrity of late replicating domains.',\n",
       "   'score': 0.7578957080841064},\n",
       "  {'pmid': '24049080',\n",
       "   'content': 'The delivery of site-specific post-translational modifications to histones generates an epigenetic regulatory network that directs fundamental DNA-mediated processes and governs key stages in development. Methylation of histone H4 lysine-20 has been implicated in DNA repair, transcriptional silencing, genomic stability and regulation of replication. We present the structure of the histone H4K20 methyltransferase Suv4-20h2 in complex with its histone H4 peptide substrate and S-adenosyl methionine cofactor. Analysis of the structure reveals that the Suv4-20h2 active site diverges from the canonical SET domain configuration and generates a high degree of both substrate and product specificity. Together with supporting biochemical data comparing Suv4-20h1 and Suv4-20h2, we demonstrate that the Suv4-20 family enzymes take a previously mono-methylated H4K20 substrate and generate an exclusively di-methylated product. We therefore predict that other enzymes are responsible for the tri-methylation of histone H4K20 that marks silenced heterochromatin.',\n",
       "   'score': 0.7308673858642578},\n",
       "  {'pmid': '23179372',\n",
       "   'content': 'Recent studies showed frequent mutations in histone H3 lysine 27 (H3K27) demethylases in medulloblastomas of Group 3 and Group 4, suggesting a role for H3K27 methylation in these tumors. Indeed, trimethylated H3K27 (H3K27me3) levels were shown to be higher in Group 3 and 4 tumors compared to WNT and SHH medulloblastomas, also in tumors without detectable mutations in demethylases. Here, we report that polycomb genes, required for H3K27 methylation, are consistently upregulated in Group 3 and 4 tumors. These tumors show high expression of the homeobox transcription factor OTX2. Silencing of OTX2 in D425 medulloblastoma cells resulted in downregulation of polycomb genes such as EZH2, EED, SUZ12 and RBBP4 and upregulation of H3K27 demethylases KDM6A, KDM6B, JARID2 and KDM7A. This was accompanied by decreased H3K27me3 and increased H3K27me1 levels in promoter regions. Strikingly, the decrease of H3K27me3 was most prominent in promoters that bind OTX2. OTX2-bound promoters showed high levels of the H3K4me3 and H3K9ac activation marks and intermediate levels of the H3K27me3 inactivation mark, reminiscent of a bivalent modification. After silencing of OTX2, H3K27me3 levels strongly dropped, but H3K4me3 and H3K9ac levels remained high. OTX2-bound bivalent genes showed high expression levels in D425, but the expression of most of these genes did not change after OTX2 silencing and loss of the H3K27me3 mark. Maintaining promoters in a bivalent state by sustaining H3K27 trimethylation therefore seems to be an important function of OTX2 in medulloblastoma, while other transcription factors might regulate the actual expression levels of these genes.',\n",
       "   'score': 0.7294235229492188}],\n",
       " 3722: [{'pmid': '12034751',\n",
       "   'content': 'STAG/SA proteins are specific cohesin complex subunits that maintain sister chromatid cohesion in mitosis and meiosis. Two members of this family, STAG1/SA1 and STAG2/SA2,double dagger are classified as mitotic cohesins, as they are found in human somatic cells and in Xenopus laevis as components of the cohesin(SA1) and cohesin(SA2) complexes, in which the shared subunits are Rad21/SCC1, SMC1 and SMC3 proteins. A recently reported third family member, STAG3, is germinal cell-specific and is a subunit of the meiotic cohesin complex. To date, the meiosis-specific cohesin complex has been considered to be responsible for sister chromatid cohesion during meiosis. We studied replacement of the mitotic by the meiotic cohesin complex during mouse germinal cell maturation, and we show that mammalian STAG2 and Rad21 are also involved in several meiosis stages. Immunofluorescence results suggest that a cohesin complex containing Rad21 and STAG2 cooperates with a STAG3-specific complex to maintain sister chromatid cohesion during the diplotene stage of meiosis.',\n",
       "   'score': 0.7689440250396729},\n",
       "  {'pmid': '28430577',\n",
       "   'content': 'Cohesin is a multi-protein complex that tethers sister chromatids during mitosis and mediates DNA repair, genome compartmentalisation and regulation of gene expression. Cohesin subunits frequently acquire cancer loss-of-function alterations and act as tumour suppressors in several tumour types. This has led to increased interest in cohesin as potential target in anti-cancer therapy. Here we show that the loss-of-function of STAG2, a core component of cohesin and an emerging tumour suppressor, leads to synthetic dependency of mutated cancer cells on its paralog STAG1. STAG1 and STAG2 share high sequence identity, encode mutually exclusive cohesin subunits and retain partially overlapping functions. We inhibited STAG1 and STAG2 in several cancer cell lines where the two genes have variable mutation and copy number status. In all cases, we observed that the simultaneous blocking of STAG1 and STAG2 significantly reduces cell proliferation. We further confirmed the synthetic lethal interaction developing a vector-free CRISPR system to induce STAG1/STAG2 double gene knockout. We provide strong evidence that STAG1 is a promising therapeutic target in cancers with inactivating alterations of STAG2.',\n",
       "   'score': 0.7571097612380981}],\n",
       " 1235: [{'pmid': '23095687',\n",
       "   'content': 'BACKGROUND: We analysed the survival of patients after glioma diagnosis in relation to the use of wireless phones. METHODS: All cases diagnosed between 1997 and 2003 with a malignant brain tumour (n = 1,251) in our case-control studies were included and followed from the date of diagnosis to the date of death or until May 30, 2012. RESULTS: For glioma, the use of wireless phones (mobile and cordless phones) gave a hazard ratio (HR) = 1.1 (95% confidence interval, CI = 0.9-1.2), with > 10-year latency HR = 1.2 (95% CI = 1.002-1.5, p trend = 0.02). For astrocytoma grade I-II (low-grade), the results were, HR = 0.5 (95% CI = 0.3-0.9) and for astrocytoma grade IV (glioblastoma), HR = 1.1 (95% CI = 0.95-1.4), with > 10 year latency HR = 1.3 (95% CI = 1.03-1.7). In the highest tertile (> 426 h) of cumulative use, HR = 1.2 (95% CI = 0.95-1.5) was found for glioblastoma. The results were similar for mobile and cordless phones. CONCLUSIONS: Decreased survival of glioma cases with long-term and high cumulative use of wireless phones was found. A survival disadvantage for astrocytoma grade IV, but a survival benefit for astrocytoma grade I-II was observed which could be due to exposure-related tumour symptoms leading to earlier diagnosis and surgery in that patient group.',\n",
       "   'score': 0.788306713104248},\n",
       "  {'pmid': '17851009',\n",
       "   'content': 'BACKGROUND: Use of cell phones has increased dramatically since 1992 when they were first introduced in France. Certain electromagnetic fields (at extremely low frequency) have been recognized as possibly carcinogenic by the International Agency for Research on Cancer. Given the use of radiofrequency technology in cell phones, the rapid increase in the number of cell phones has generated concerns about the existence of a potential health hazard. To evaluate the relationship between the use of cell phones and the development of tumors of the head, a multicentric international study (INTERPHONE), coordinated by the International Agency for Research on Cancer, was carried out in 13 countries. This publication reports the results of the French part of the INTERPHONE study. METHODS: INTERPHONE is a case-control study focused on tumors of the brain and central nervous system: gliomas, meningiomas and neuromas of cranial nerves. Eligible cases were men and women, residents of Paris or Lyon, aged 30-59, newly diagnosed with a first primary tumor between February 2001 and August 2003. The diagnoses were all either histologically confirmed or based upon unequivocal radiological images. Controls were matched for gender, age (+/-5 years) and place of residence. They were randomly drawn from electoral rolls. Detailed information was collected for all subjects during a computer-assisted face-to-face interview. Conditional logistic regression was used to estimate the odds ratio (OR) for an association between the use of cell phones and risk of each type of cancer. RESULTS: Regular cell phone use was not associated with an increased risk of neuroma (OR=0,92; 95% confidence interval=[0.53-1.59]), meningioma (OR=0,74; 95% confidence interval=[0.43-1.28]) or glioma (OR=1.15; 95% confidence interval=[0.65-2.05]). Although these results are not statistically significant, a general tendency was observed for an increased risk of glioma among the heaviest users: long-term users, heavy users, users with the largest numbers of telephones. CONCLUSION: No significant increased risk for glioma, meningioma or neuroma was observed among cell phone users participating in Interphone. The statistical power of the study is limited, however. Our results, suggesting the possibility of an increased risk among the heaviest users, therefore need to be verified in the international INTERPHONE analyses.',\n",
       "   'score': 0.7714697122573853},\n",
       "  {'pmid': '24064953',\n",
       "   'content': \"Previous studies have shown a consistent association between long-term use of mobile and cordless phones and glioma and acoustic neuroma, but not for meningioma. When used these phones emit radiofrequency electromagnetic fields (RF-EMFs) and the brain is the main target organ for the handheld phone. The International Agency for Research on Cancer (IARC) classified in May, 2011 RF-EMF as a group 2B, i.e. a 'possible' human carcinogen. The aim of this study was to further explore the relationship between especially long-term (>10 years) use of wireless phones and the development of malignant brain tumours. We conducted a new case-control study of brain tumour cases of both genders aged 18-75 years and diagnosed during 2007-2009. One population-based control matched on gender and age (within 5 years) was used to each case. Here, we report on malignant cases including all available controls. Exposures on e.g. use of mobile phones and cordless phones were assessed by a self-administered questionnaire. Unconditional logistic regression analysis was performed, adjusting for age, gender, year of diagnosis and socio-economic index using the whole control sample. Of the cases with a malignant brain tumour, 87% (n=593) participated, and 85% (n=1,368) of controls in the whole study answered the questionnaire. The odds ratio (OR) for mobile phone use of the analogue type was 1.8, 95% confidence interval (CI)=1.04‑3.3, increasing with >25 years of latency (time since first exposure) to an OR=3.3, 95% CI=1.6-6.9. Digital 2G mobile phone use rendered an OR=1.6, 95% CI=0.996-2.7, increasing with latency >15-20 years to an OR=2.1, 95% CI=1.2-3.6. The results for cordless phone use were OR=1.7, 95% CI=1.1-2.9, and, for latency of 15-20 years, the OR=2.1, 95% CI=1.2-3.8. Few participants had used a cordless phone for >20-25 years. Digital type of wireless phones (2G and 3G mobile phones, cordless phones) gave increased risk with\",\n",
       "   'score': 0.765315592288971},\n",
       "  {'pmid': '24064953',\n",
       "   'content': '3.6. The results for cordless phone use were OR=1.7, 95% CI=1.1-2.9, and, for latency of 15-20 years, the OR=2.1, 95% CI=1.2-3.8. Few participants had used a cordless phone for >20-25 years. Digital type of wireless phones (2G and 3G mobile phones, cordless phones) gave increased risk with latency >1-5 years, then a lower risk in the following latency groups, but again increasing risk with latency >15-20 years. Ipsilateral use resulted in a higher risk than contralateral mobile and cordless phone use. Higher ORs were calculated for tumours in the temporal and overlapping lobes. Using the meningioma cases in the same study as reference entity gave somewhat higher ORs indicating that the results were unlikely to be explained by recall or observational bias. This study confirmed previous results of an association between mobile and cordless phone use and malignant brain tumours. These findings provide support for the hypothesis that RF-EMFs play a role both in the initiation and promotion stages of carcinogenesis.',\n",
       "   'score': 0.7627575397491455},\n",
       "  {'pmid': '10375602',\n",
       "   'content': \"The use of cellular telephones has increased dramatically during the 1990's in the world. In the 1980's the analogue NMT system was used whereas the digital GSM system was introduced in early 1990's and is now the preferred system. Case reports of brain tumours in users initiated this case-control study on brain tumours and use of cellular telephones. Also other exposures were assessed. All cases, both males and females, with histopathologically verified brain tumour living in Uppsala-Orebro region (1994-96) and Stockholm region (1995-96) aged 20-80 at the time of diagnosis and alive at start of the study were included, 233 in total. Two controls to each case were selected from the Swedish Population Register matched for sex, age and study region. Exposure was assessed by questionnaires supplemented over the phone. The analyses were based on answers from 209 (90%) cases and 425 (91%) controls. Use of cellular telephone gave odds ratio (OR) = 0.98 with 95% confidence interval (CI) = 0. 69-1.41. For the digital GSM system OR = 0.97, CI = 0.61-1.56 and for the analogue NMT system OR = 0.94, CI = 0.62-1.44 were calculated. Dose-response analysis and using different tumour induction periods gave similar results. Non-significantly increased risk was found for tumour in the temporal or occipital lobe on the same side as a cellular phone had been used, right side OR = 2.45, CI = 0.78-7.76, left side OR = 2.40, CI = 0.52-10.9 Increased risk was found only for use of the NMT system. For GSM use the observation time is still too short for definite conclusions. An increased risk for brain tumour in the anatomical area close to the use of a cellular telephone should be especially studied in the future.\",\n",
       "   'score': 0.7618776559829712},\n",
       "  {'pmid': '12527940',\n",
       "   'content': 'We included in a case-control study on brain tumours and mobile and cordless telephones 1,617 patients aged 20-80 years of both sexes diagnosed during January 1, 1997 to June 30, 2000. They were alive at the study time and had histopathology verified brain tumour. One matched control to each case was selected from the Swedish Population Register. The study area was the Uppsala-Orebro, Stockholm, Linkoping and Goteborg medical regions of Sweden. Exposure was assessed by a questionnaire that was answered by 1,429 (88%) cases and 1,470 (91%) controls. In total use of analogue cellular telephones gave an increased risk with odds ratio (OR)=1.3, 95% confidence interval (CI)=1.04-1.6, whereas digital and cordless phones did not overall increase the risk significantly. Ipsilateral use of analogue phones gave OR=1.7, 95% CI=1.2-2.3, digital phones OR=1.3, 95% CI=1.02-1.8 and cordless phones OR=1.2, 95% CI=0.9-1.6. The risk for ipsilateral use was significantly increased for astrocytoma for all studied phone types, analogue phones OR=1.8,95% CI=1.1-3.2, digital phones OR=1.8, 95% CI=1.1-2.8, cordless phones OR=1.8, 95% CI=1.1-2.9. Use of a telephone on the opposite side of the brain was not associated with a significantly increased risk for brain tumours. Regarding anatomical area of the tumour and exposure to microwaves, the risk was increased for tumours located in the temporal area on the same side of the brain that was used during phone calls, significantly so for analogue cellular telephones OR=2.3, 95% CI=1.2-4.1. For acoustic neurinoma OR=4.4, 95% CI=2.1-9.2 was calculated among analogue cellular telephone users. When duration of use was analysed as a continuous variable in the total material, the risk increased per year for analogue phones with OR=1.04, 95% CI=1.01-1.08. For astrocytoma and ipsilateral use',\n",
       "   'score': 0.7559013366699219},\n",
       "  {'pmid': '12527940',\n",
       "   'content': '2.3, 95% CI=1.2-4.1. For acoustic neurinoma OR=4.4, 95% CI=2.1-9.2 was calculated among analogue cellular telephone users. When duration of use was analysed as a continuous variable in the total material, the risk increased per year for analogue phones with OR=1.04, 95% CI=1.01-1.08. For astrocytoma and ipsilateral use the trend was for analogue phones OR=1.10, 95% CI=1.02-1.19, digital phones OR=1.11, 95% CI=1.01-1.22, and cordless phones OR=1.09, 95% CI=1.01-1.19. There was a tendency of a shorter tumour induction period for ipsilateral exposure to microwaves than for contralateral, which may indicate a tumour promotor effect.',\n",
       "   'score': 0.7257356643676758},\n",
       "  {'pmid': '23261330',\n",
       "   'content': \"The International Agency for Research on Cancer (IARC) at WHO evaluation of the carcinogenic effect of RF-EMF on humans took place during a 24-31 May 2011 meeting at Lyon in France. The Working Group consisted of 30 scientists and categorised the radiofrequency electromagnetic fields from mobile phones, and from other devices that emit similar non-ionising electromagnetic fields (RF-EMF), as Group 2B, i.e., a 'possible', human carcinogen. The decision on mobile phones was based mainly on the Hardell group of studies from Sweden and the IARC Interphone study. We give an overview of current epidemiological evidence for an increased risk for brain tumours including a meta-analysis of the Hardell group and Interphone results for mobile phone use. Results for cordless phones are lacking in Interphone. The meta-analysis gave for glioma in the most exposed part of the brain, the temporal lobe, odds ratio (OR)=1.71, 95% confidence interval (CI)=1.04-2.81 in the >/=10 years (>10 years in the Hardell group) latency group. Ipsilateral mobile phone use >/=1640h in total gave OR=2.29, 95% CI=1.56-3.37. The results for meningioma were OR=1.25, 95% CI=0.31-4.98 and OR=1.35, 95% CI=0.81-2.23, respectively. Regarding acoustic neuroma ipsilateral mobile phone use in the latency group >/=10 years gave OR=1.81, 95% CI=0.73-4.45. For ipsilateral cumulative use >/=1640h OR=2.55, 95% CI=1.50-4.40 was obtained. Also use of cordless phones increased the risk for glioma and acoustic neuroma in the Hardell group studies. Survival of patients with glioma was analysed in the Hardell group studies yielding in the >10 years latency period hazard ratio (HR)=1.2, 95% CI=1.002-1.5 for use of wireless phones. This increased HR was based on results for astrocytoma WHO grade IV (glioblastoma multiforme). Decreased HR was found for low-grade astrocytoma, WHO grades I-II, which might be caused by RF-EMF exposure leading to tumour-associated symptoms and earlier\",\n",
       "   'score': 0.7163815498352051},\n",
       "  {'pmid': '23261330',\n",
       "   'content': \" the Hardell group studies yielding in the >10 years latency period hazard ratio (HR)=1.2, 95% CI=1.002-1.5 for use of wireless phones. This increased HR was based on results for astrocytoma WHO grade IV (glioblastoma multiforme). Decreased HR was found for low-grade astrocytoma, WHO grades I-II, which might be caused by RF-EMF exposure leading to tumour-associated symptoms and earlier detection and surgery with better prognosis. Some studies show increasing incidence of brain tumours whereas other studies do not. It is concluded that one should be careful using incidence data to dismiss results in analytical epidemiology. The IARC carcinogenic classification does not seem to have had any significant impact on governments' perceptions of their responsibilities to protect public health from this widespread source of radiation.\",\n",
       "   'score': 0.7102558612823486}]}"
      ]
     },
     "execution_count": 3,
     "metadata": {},
     "output_type": "execute_result"
    }
   ],
   "source": [
    "\n",
    "\n",
    "def run_retriever(benchmark_data: list, retriever) -> dict:\n",
    "    results = {}\n",
    "    for sample in tqdm(benchmark_data, desc=\"Executing retriever...\"):\n",
    "        sample_id = sample.get('id')\n",
    "        question = sample.get('question')\n",
    "        retrieved_data = retriever.invoke(question)\n",
    "        results[sample_id] = retrieved_data\n",
    "    return results\n",
    "\n",
    "results = run_retriever(benchmark_data=data, retriever=vector_search_tool)\n",
    "results"
   ]
  },
  {
   "cell_type": "code",
   "execution_count": null,
   "metadata": {},
   "outputs": [
    {
     "name": "stdout",
     "output_type": "stream",
     "text": [
      "defaultdict(<class 'dict'>, {'precision@1': 0.6666666666666666, 'recall@1': 0.056644880174291944, 'f1@1': 0.1037037037037037, 'mrr@1': 0.6666666666666666, 'ndcg@1': 0.6666666666666666, 'success@1': 0.6666666666666666, 'map@1': 0.056644880174291944, 'coverage@1': 0.06896551724137931, 'precision@3': 0.7777777777777777, 'recall@3': 0.24400871459694992, 'f1@3': 0.3323232323232323, 'mrr@3': 0.7777777777777777, 'ndcg@3': 0.6666666666666666, 'success@3': 1.0, 'map@3': 0.1699346405228758, 'coverage@3': 0.20689655172413793, 'precision@5': 0.6666666666666666, 'recall@5': 0.26361655773420484, 'f1@5': 0.3257575757575757, 'mrr@5': 0.7777777777777777, 'ndcg@5': 0.5959286110065073, 'success@5': 1.0, 'map@5': 0.20915032679738563, 'coverage@5': 0.2413793103448276, 'precision@10': 0.6222222222222222, 'recall@10': 0.4139433551198257, 'f1@10': 0.37762237762237766, 'mrr@10': 0.7777777777777777, 'ndcg@10': 0.5633377760765029, 'success@10': 1.0, 'map@10': 0.30980392156862746, 'coverage@10': 0.3448275862068966, 'precision@20': 0.6222222222222222, 'recall@20': 0.4139433551198257, 'f1@20': 0.37762237762237766, 'mrr@20': 0.7777777777777777, 'ndcg@20': 0.4746918438680991, 'success@20': 1.0, 'map@20': 0.30980392156862746, 'coverage@20': 0.3448275862068966})\n"
     ]
    }
   ],
   "source": [
    "\n",
    "\n",
    "metrics, new_evaluator = run_evaluation_on_retrieved_chunks(\n",
    "    retrieval_results=results,\n",
    "    benchmark_data=data\n",
    ")\n",
    "print(metrics)"
   ]
  },
  {
   "cell_type": "code",
   "execution_count": null,
   "metadata": {},
   "outputs": [],
   "source": []
  },
  {
   "cell_type": "code",
   "execution_count": null,
   "metadata": {},
   "outputs": [],
   "source": []
  },
  {
   "cell_type": "code",
   "execution_count": null,
   "metadata": {},
   "outputs": [],
   "source": [
    "answer_pip_executor = RetrieverExecutor(source_qa_data=data)\n",
    "results = answer_pip_executor.generate_answers(retriever=vector_search_tool, model_name=retriever_model_name, answer_type=answer_type)"
   ]
  },
  {
   "cell_type": "code",
   "execution_count": null,
   "metadata": {},
   "outputs": [],
   "source": [
    "import pandas as pd\n",
    "\n",
    "results_df = pd.DataFrame(results)\n",
    "results_df['response_match'] = results_df['actual_response'] == results_df['generated_response']"
   ]
  },
  {
   "cell_type": "code",
   "execution_count": null,
   "metadata": {},
   "outputs": [],
   "source": [
    "results_df.head()"
   ]
  },
  {
   "cell_type": "code",
   "execution_count": null,
   "metadata": {},
   "outputs": [],
   "source": [
    "results_df[[\"context_found\", \"context_order\", \"response_match\"]]"
   ]
  },
  {
   "cell_type": "code",
   "execution_count": null,
   "metadata": {},
   "outputs": [],
   "source": [
    "evaluator = Evaluator(ground_truth_data=data, short_answer_results=results)\n",
    "evaluator.evaluate()"
   ]
  },
  {
   "cell_type": "code",
   "execution_count": null,
   "metadata": {},
   "outputs": [],
   "source": [
    "evaluator.compute_short_answer_metrics()"
   ]
  },
  {
   "cell_type": "code",
   "execution_count": null,
   "metadata": {},
   "outputs": [],
   "source": []
  },
  {
   "cell_type": "code",
   "execution_count": null,
   "metadata": {},
   "outputs": [],
   "source": [
    "contexts = [element['content'] for element in results['context']]\n",
    "contexts"
   ]
  },
  {
   "cell_type": "code",
   "execution_count": null,
   "metadata": {},
   "outputs": [],
   "source": [
    "from ragas import EvaluationDataset\n",
    "\n",
    "\n",
    "dataset = []\n",
    "dataset.append(\n",
    "        {\n",
    "            \"user_input\": \"Do mitochondria play a role in remodelling lace plant leaves during programmed cell death?\",\n",
    "            \"retrieved_contexts\": contexts,\n",
    "            \"response\": \"yes\",\n",
    "            \"reference\": \"yes\", # expected response\n",
    "        }\n",
    "    )\n",
    "evaluation_dataset = EvaluationDataset.from_list(dataset)"
   ]
  },
  {
   "cell_type": "code",
   "execution_count": null,
   "metadata": {},
   "outputs": [],
   "source": [
    "from ragas import evaluate\n",
    "from ragas.llms import LangchainLLMWrapper\n",
    "from ragas.embeddings import LangchainEmbeddingsWrapper\n",
    "from ragas.metrics import ContextPrecision, ContextRecall, ResponseRelevancy, FactualCorrectness\n",
    "\n",
    "evaluator_llm = LangchainLLMWrapper(llm)\n",
    "evaluator_embedding = LangchainEmbeddingsWrapper(embedding_model)\n",
    "\n",
    "context_precision = ContextPrecision()\n",
    "context_recall = ContextRecall()\n",
    "response_relevancy = ResponseRelevancy()\n",
    "factual_correctness = FactualCorrectness()\n",
    "\n",
    "result = evaluate(\n",
    "    dataset=evaluation_dataset,\n",
    "    metrics=[context_precision, context_recall, response_relevancy, factual_correctness],\n",
    "    llm=evaluator_llm,\n",
    "    embeddings=evaluator_embedding\n",
    ")\n",
    "\n",
    "result"
   ]
  },
  {
   "cell_type": "code",
   "execution_count": null,
   "metadata": {},
   "outputs": [],
   "source": []
  },
  {
   "cell_type": "code",
   "execution_count": null,
   "metadata": {},
   "outputs": [],
   "source": [
    "# read paquet data\n",
    "import os\n",
    "import pandas as pd\n",
    "from configs.config import ConfigPath\n",
    "\n",
    "from data_collection.reader import BioASQDataReader"
   ]
  },
  {
   "cell_type": "code",
   "execution_count": null,
   "metadata": {},
   "outputs": [],
   "source": [
    "asq_reader = BioASQDataReader()\n",
    "data = asq_reader.read_parquet_file(file_path=os.path.join(ConfigPath.RAW_DATA_DIR, \"bioasq_train.parquet\"))"
   ]
  },
  {
   "cell_type": "code",
   "execution_count": null,
   "metadata": {},
   "outputs": [],
   "source": [
    "for sample in data:\n",
    "    if 20007090 in sample[\"relevant_passage_ids\"]:\n",
    "        print(sample)\n",
    "        print(data.index(sample))\n",
    "        break"
   ]
  },
  {
   "cell_type": "code",
   "execution_count": null,
   "metadata": {},
   "outputs": [],
   "source": [
    "asq_reader.get_data_to_dict()"
   ]
  },
  {
   "cell_type": "code",
   "execution_count": null,
   "metadata": {},
   "outputs": [],
   "source": [
    "from data_collection.fetcher import PubMedArticleFetcher\n",
    "\n",
    "fetcher = PubMedArticleFetcher()"
   ]
  },
  {
   "cell_type": "code",
   "execution_count": null,
   "metadata": {},
   "outputs": [],
   "source": [
    "results = fetcher.fetch_articles(pmids=['20007090'])"
   ]
  },
  {
   "cell_type": "code",
   "execution_count": null,
   "metadata": {},
   "outputs": [],
   "source": []
  },
  {
   "cell_type": "code",
   "execution_count": null,
   "metadata": {},
   "outputs": [],
   "source": []
  }
 ],
 "metadata": {
  "kernelspec": {
   "display_name": ".venv",
   "language": "python",
   "name": "python3"
  },
  "language_info": {
   "codemirror_mode": {
    "name": "ipython",
    "version": 3
   },
   "file_extension": ".py",
   "mimetype": "text/x-python",
   "name": "python",
   "nbconvert_exporter": "python",
   "pygments_lexer": "ipython3",
   "version": "3.10.0"
  }
 },
 "nbformat": 4,
 "nbformat_minor": 2
}
