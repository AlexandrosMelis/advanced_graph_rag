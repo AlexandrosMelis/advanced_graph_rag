{
 "cells": [
  {
   "cell_type": "markdown",
   "metadata": {},
   "source": [
    "#### Imports"
   ]
  },
  {
   "cell_type": "code",
   "execution_count": 1,
   "metadata": {},
   "outputs": [],
   "source": [
    "import os\n",
    "import json\n",
    "from tqdm import tqdm\n",
    "\n",
    "from configs import ConfigPath\n",
    "from data_preprocessing.text_splitter import TextSplitter\n",
    "from utils.utils import read_json_file\n",
    "from llms.embedding_model import EmbeddingModel\n",
    "from knowledge_graph.loader import GraphLoader\n",
    "from knowledge_graph.crud import GraphCrud\n",
    "from configs.config import ConfigEnv"
   ]
  },
  {
   "cell_type": "markdown",
   "metadata": {},
   "source": [
    "#### Initializations"
   ]
  },
  {
   "cell_type": "code",
   "execution_count": 2,
   "metadata": {},
   "outputs": [
    {
     "name": "stderr",
     "output_type": "stream",
     "text": [
      "2025-03-01 00:22:09,217 [DEBUG] embedding_model - CUDA is available, using GPU\n",
      "2025-03-01 00:22:27,741 [DEBUG] embedding_model - Embedding model initialized: neuml/pubmedbert-base-embeddings\n"
     ]
    },
    {
     "name": "stdout",
     "output_type": "stream",
     "text": [
      "Connection successful!\n"
     ]
    }
   ],
   "source": [
    "data = read_json_file(file_path=os.path.join(ConfigPath.RAW_DATA_DIR, \"pqa_labeled.json\"))  \n",
    "\n",
    "text_splitter = TextSplitter()\n",
    "embedding_model = EmbeddingModel()\n",
    "crud = GraphCrud(uri=ConfigEnv.NEO4J_URI, \n",
    "                 user=ConfigEnv.NEO4J_USER,\n",
    "                 password=ConfigEnv.NEO4J_PASSWORD,\n",
    "                 database=ConfigEnv.NEO4J_DB)\n",
    "\n",
    "graph_loader = GraphLoader(text_splitter=text_splitter,\n",
    "                           embedding_model=embedding_model,\n",
    "                           crud=crud,\n",
    "                           data=data)\n",
    "\n"
   ]
  },
  {
   "cell_type": "code",
   "execution_count": 4,
   "metadata": {},
   "outputs": [],
   "source": [
    "records = graph_loader.get_embeddings_from_graph()"
   ]
  },
  {
   "cell_type": "code",
   "execution_count": 5,
   "metadata": {},
   "outputs": [],
   "source": [
    "import numpy as np\n",
    "\n",
    "ids_list = [element['id'] for element in records]\n",
    "embeddings_list = [element['embedding'] for element in records]\n",
    "embeddings_array = np.array(embeddings_list)"
   ]
  },
  {
   "cell_type": "code",
   "execution_count": 6,
   "metadata": {},
   "outputs": [],
   "source": [
    "# similarities\n",
    "from sklearn.metrics.pairwise import cosine_similarity\n",
    "\n",
    "def _compute_similarities(embeddings):\n",
    "    \"\"\"\n",
    "    Computes the cosine similarity matrix for the embeddings.\n",
    "    \n",
    "    Args:\n",
    "    - embeddings (numpy.ndarray): An array of embeddings.\n",
    "    \n",
    "    Returns:\n",
    "    - numpy.ndarray: A cosine similarity matrix for the embeddings.\n",
    "    \"\"\"\n",
    "    return cosine_similarity(embeddings)\n",
    "\n",
    "similarity_results = _compute_similarities(embeddings=embeddings_array)"
   ]
  },
  {
   "cell_type": "code",
   "execution_count": 8,
   "metadata": {},
   "outputs": [],
   "source": [
    "def filter_similarities(similarity_matrix, node_ids, threshold=0.8):\n",
    "    \"\"\"\n",
    "    Filters a cosine similarity matrix to find pairs of nodes with similarity above a threshold.\n",
    "\n",
    "    Args:\n",
    "        similarity_matrix (numpy.ndarray): The cosine similarity matrix.\n",
    "        node_ids (list): A list of node IDs corresponding to the rows/columns of the matrix.\n",
    "        threshold (float): The similarity threshold.\n",
    "\n",
    "    Returns:\n",
    "        list: A list of dictionaries, where each dictionary represents a pair of nodes with\n",
    "              similarity above the threshold and contains:\n",
    "                - node1: The ID of the first node.\n",
    "                - node2: The ID of the second node.\n",
    "                - similarity: The cosine similarity between the two nodes.\n",
    "    \"\"\"\n",
    "\n",
    "    num_nodes = len(node_ids)\n",
    "    filtered_pairs = []\n",
    "\n",
    "    # Check if similarity_matrix is empty\n",
    "    if similarity_matrix.size == 0:\n",
    "      return []\n",
    "\n",
    "    for i in range(num_nodes):\n",
    "        for j in range(i + 1, num_nodes):  # Avoid duplicates and self-comparison\n",
    "            similarity = similarity_matrix[i, j]\n",
    "            if similarity >= threshold:\n",
    "                filtered_pairs.append(\n",
    "                    {\n",
    "                        \"node1\": node_ids[i],\n",
    "                        \"node2\": node_ids[j],\n",
    "                        \"similarity\": similarity,\n",
    "                    }\n",
    "                )\n",
    "\n",
    "    return filtered_pairs\n",
    "\n",
    "filtered_results = filter_similarities(similarity_matrix=similarity_results, node_ids=ids_list, threshold=0.70)"
   ]
  },
  {
   "cell_type": "code",
   "execution_count": 10,
   "metadata": {},
   "outputs": [
    {
     "data": {
      "text/plain": [
       "53"
      ]
     },
     "execution_count": 10,
     "metadata": {},
     "output_type": "execute_result"
    }
   ],
   "source": [
    "len(filtered_results)"
   ]
  },
  {
   "cell_type": "markdown",
   "metadata": {},
   "source": [
    "### Nodes deletion"
   ]
  },
  {
   "cell_type": "code",
   "execution_count": 8,
   "metadata": {},
   "outputs": [],
   "source": [
    "# graph_loader.crud.delete_node(node_id=\"4:31b5014d-cb89-451c-ae23-47ad943d4cb4:3409\")"
   ]
  },
  {
   "cell_type": "code",
   "execution_count": null,
   "metadata": {},
   "outputs": [],
   "source": []
  }
 ],
 "metadata": {
  "kernelspec": {
   "display_name": ".venv",
   "language": "python",
   "name": "python3"
  },
  "language_info": {
   "codemirror_mode": {
    "name": "ipython",
    "version": 3
   },
   "file_extension": ".py",
   "mimetype": "text/x-python",
   "name": "python",
   "nbconvert_exporter": "python",
   "pygments_lexer": "ipython3",
   "version": "3.10.0"
  }
 },
 "nbformat": 4,
 "nbformat_minor": 2
}
