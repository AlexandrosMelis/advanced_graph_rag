{
 "cells": [
  {
   "cell_type": "markdown",
   "metadata": {},
   "source": [
    "#### Imports"
   ]
  },
  {
   "cell_type": "code",
   "execution_count": 1,
   "metadata": {},
   "outputs": [],
   "source": [
    "import os\n",
    "from configs import ConfigPath\n",
    "from utils.utils import read_json_file\n",
    "from llms.embedding_model import EmbeddingModel\n",
    "from configs.config import ConfigEnv\n",
    "from knowledge_graph.connection import Neo4jConnection\n",
    "from llms.llm import ChatModel\n",
    "from retrieval.tools.vector_search_tool import VectorSimilaritySearchTool\n",
    "from data_collection.reader import BioASQDataReader\n",
    "from tqdm import tqdm\n",
    "from langchain_neo4j import Neo4jVector\n",
    "from configs.config import ConfigEnv\n",
    "from retrieval_techniques.similarity_search import SimilaritySearchRetriever"
   ]
  },
  {
   "cell_type": "markdown",
   "metadata": {},
   "source": [
    "#### Initializations"
   ]
  },
  {
   "cell_type": "code",
   "execution_count": 2,
   "metadata": {},
   "outputs": [
    {
     "name": "stderr",
     "output_type": "stream",
     "text": [
      "2025-04-07 01:22:43,566 [DEBUG] embedding_model - CUDA is available, using GPU\n",
      "2025-04-07 01:23:06,346 [DEBUG] embedding_model - Embedding model initialized: neuml/pubmedbert-base-embeddings\n",
      "2025-04-07 01:23:06,359 [DEBUG] llm - Initialized model gemini-2.0-flash-lite\n",
      "2025-04-07 01:23:10,476 [DEBUG] connection - Connection successful!\n",
      "2025-04-07 01:23:10,518 [INFO] reader - Limiting the number of rows to 3...\n",
      "2025-04-07 01:23:10,521 [INFO] reader - Data file loaded with shape: (3, 4)\n"
     ]
    },
    {
     "name": "stdout",
     "output_type": "stream",
     "text": [
      "Data length: 3\n"
     ]
    }
   ],
   "source": [
    "# models\n",
    "embedding_model = EmbeddingModel()\n",
    "\n",
    "llm = ChatModel(provider=\"google\", model_name=\"gemini-2.0-flash-lite\").initialize_model()\n",
    "\n",
    "# neo4j connection\n",
    "neo4j_connection = Neo4jConnection(uri=ConfigEnv.NEO4J_URI, \n",
    "                 user=ConfigEnv.NEO4J_USER,\n",
    "                 password=ConfigEnv.NEO4J_PASSWORD,\n",
    "                 database=ConfigEnv.NEO4J_DB)\n",
    "\n",
    "# retriever\n",
    "vector_search_tool = VectorSimilaritySearchTool(\n",
    "    llm=llm,\n",
    "    embedding_model=embedding_model,\n",
    "    neo4j_connection=neo4j_connection,\n",
    "    return_direct=True,\n",
    "    k=4\n",
    ")\n",
    "\n",
    "similarity_retriever = SimilaritySearchRetriever(\n",
    "    llm=llm,\n",
    "    embedding_model=embedding_model,\n",
    "    neo4j_connection=neo4j_connection,\n",
    ")\n",
    "\n",
    "retriever_model_name = vector_search_tool.get_model_name()\n",
    "\n",
    "# data\n",
    "data_path = os.path.join(ConfigPath.RAW_DATA_DIR, \"bioasq_train.parquet\")\n",
    "reader = BioASQDataReader(samples_limit=3)\n",
    "data = reader.read_parquet_file(file_path=data_path) \n",
    "print(f\"Data length: {len(data)}\")"
   ]
  },
  {
   "cell_type": "code",
   "execution_count": 12,
   "metadata": {},
   "outputs": [
    {
     "name": "stdout",
     "output_type": "stream",
     "text": [
      "Executing func_a with input: Hello World\n"
     ]
    }
   ],
   "source": [
    "def func_a(input: str):\n",
    "    print(f\"Executing func_a with input: {input}\")\n",
    "    \n",
    "def func_b(input: str):\n",
    "    print(f\"Executing func_b with input: {input}\")\n",
    "\n",
    "def execute_func(**kwargs):\n",
    "    mapper = {\n",
    "        \"func_a\": func_a,\n",
    "        \"func_b\": func_b,\n",
    "    }\n",
    "    func_name = kwargs.pop(\"func_name\")\n",
    "    func = mapper.get(func_name)\n",
    "    if func:\n",
    "        func_input = kwargs.pop(\"input\", None)\n",
    "        func(func_input)\n",
    "    else:\n",
    "        print(f\"Function {func_name} not found.\")\n",
    "        \n",
    "\n",
    "result = execute_func(func_name=\"func_a\", input=\"Hello World\")\n",
    "result"
   ]
  },
  {
   "cell_type": "code",
   "execution_count": 3,
   "metadata": {},
   "outputs": [
    {
     "data": {
      "text/plain": [
       "[{'pmid': '24348390',\n",
       "  'content': \"Glioblastoma multiforme (GBM) is the most lethal subtype of glioma, classified as a WHO grade 4 infiltrative glioma. The etiology of GBM remains unknown and risk factors can be identified only in a small minority. We report the synchronous occurrence of GBM in an otherwise unrelated married couple, i.e. a husband and his wife, who developed GBM within an interval of 1 month. No specific causative environmental factors were identified for both patients, and the genetic screens were negative for hereditary syndromes. Family history was negative for tumors, and no other incidence of cancer in either siblings, parents or other children was reported. An analysis of the couple's exposure to nonionizing electromagnetic fields and ionizing radiations revealed values within the normal ranges usually found in homes. Overall, conjugal tumors are rarely reported. However, the case reported herein raises important questions about possible etiologic factors.\",\n",
       "  'score': 0.7882180213928223},\n",
       " {'pmid': '22882019',\n",
       "  'content': 'A practical mathematical model for glioblastomas (brain tumours), which incorporates the two key parameters of tumour growth, namely the cancer cell diffusion and the cell proliferation rate, has been shown to be clinically useful and predictive. Previous studies explain why multifocal recurrence is inevitable and show how various treatment scenarios have been incorporated in the model. In most tumours, it is not known when the cancer started. Based on patient in vivo parameters, obtained from two brain scans, it is shown how to estimate the time, after initial detection, when the tumour started. This is an input of potential importance in any future controlled clinical study of any connection between cell phone radiation and brain tumour incidence. It is also used to estimate more accurately survival times from detection. Finally, based on patient parameters, the solution of the model equation of the tumour growth helps to explain why certain patients live longer than others after similar treatment protocols specifically surgical resection (removal) and irradiation.',\n",
       "  'score': 0.7499463558197021},\n",
       " {'pmid': '23261330',\n",
       "  'content': \" the Hardell group studies yielding in the >10 years latency period hazard ratio (HR)=1.2, 95% CI=1.002-1.5 for use of wireless phones. This increased HR was based on results for astrocytoma WHO grade IV (glioblastoma multiforme). Decreased HR was found for low-grade astrocytoma, WHO grades I-II, which might be caused by RF-EMF exposure leading to tumour-associated symptoms and earlier detection and surgery with better prognosis. Some studies show increasing incidence of brain tumours whereas other studies do not. It is concluded that one should be careful using incidence data to dismiss results in analytical epidemiology. The IARC carcinogenic classification does not seem to have had any significant impact on governments' perceptions of their responsibilities to protect public health from this widespread source of radiation.\",\n",
       "  'score': 0.6956987380981445},\n",
       " {'pmid': '23095687',\n",
       "  'content': 'BACKGROUND: We analysed the survival of patients after glioma diagnosis in relation to the use of wireless phones. METHODS: All cases diagnosed between 1997 and 2003 with a malignant brain tumour (n = 1,251) in our case-control studies were included and followed from the date of diagnosis to the date of death or until May 30, 2012. RESULTS: For glioma, the use of wireless phones (mobile and cordless phones) gave a hazard ratio (HR) = 1.1 (95% confidence interval, CI = 0.9-1.2), with > 10-year latency HR = 1.2 (95% CI = 1.002-1.5, p trend = 0.02). For astrocytoma grade I-II (low-grade), the results were, HR = 0.5 (95% CI = 0.3-0.9) and for astrocytoma grade IV (glioblastoma), HR = 1.1 (95% CI = 0.95-1.4), with > 10 year latency HR = 1.3 (95% CI = 1.03-1.7). In the highest tertile (> 426 h) of cumulative use, HR = 1.2 (95% CI = 0.95-1.5) was found for glioblastoma. The results were similar for mobile and cordless phones. CONCLUSIONS: Decreased survival of glioma cases with long-term and high cumulative use of wireless phones was found. A survival disadvantage for astrocytoma grade IV, but a survival benefit for astrocytoma grade I-II was observed which could be due to exposure-related tumour symptoms leading to earlier diagnosis and surgery in that patient group.',\n",
       "  'score': 0.6744163036346436}]"
      ]
     },
     "execution_count": 3,
     "metadata": {},
     "output_type": "execute_result"
    }
   ],
   "source": [
    "similarity_retriever.get_relevant_contexts(query=\"Glioblastoma multiforme (GBM) is\", k=4)"
   ]
  },
  {
   "cell_type": "code",
   "execution_count": 4,
   "metadata": {},
   "outputs": [
    {
     "data": {
      "text/plain": [
       "{'answer': 'Glioblastoma multiforme (GBM) is the most lethal subtype of glioma, classified as a WHO grade 4 infiltrative glioma. The context states that GBM is a type of brain tumor.'}"
      ]
     },
     "execution_count": 4,
     "metadata": {},
     "output_type": "execute_result"
    }
   ],
   "source": [
    "similarity_retriever.get_answer_based_on_contexts(query=\"Glioblastoma multiforme (GBM) is\", k=4)"
   ]
  },
  {
   "cell_type": "code",
   "execution_count": 3,
   "metadata": {},
   "outputs": [
    {
     "data": {
      "text/plain": [
       "[{'pmid': '24348390',\n",
       "  'content': \"Glioblastoma multiforme (GBM) is the most lethal subtype of glioma, classified as a WHO grade 4 infiltrative glioma. The etiology of GBM remains unknown and risk factors can be identified only in a small minority. We report the synchronous occurrence of GBM in an otherwise unrelated married couple, i.e. a husband and his wife, who developed GBM within an interval of 1 month. No specific causative environmental factors were identified for both patients, and the genetic screens were negative for hereditary syndromes. Family history was negative for tumors, and no other incidence of cancer in either siblings, parents or other children was reported. An analysis of the couple's exposure to nonionizing electromagnetic fields and ionizing radiations revealed values within the normal ranges usually found in homes. Overall, conjugal tumors are rarely reported. However, the case reported herein raises important questions about possible etiologic factors.\",\n",
       "  'score': 0.7882180213928223},\n",
       " {'pmid': '22882019',\n",
       "  'content': 'A practical mathematical model for glioblastomas (brain tumours), which incorporates the two key parameters of tumour growth, namely the cancer cell diffusion and the cell proliferation rate, has been shown to be clinically useful and predictive. Previous studies explain why multifocal recurrence is inevitable and show how various treatment scenarios have been incorporated in the model. In most tumours, it is not known when the cancer started. Based on patient in vivo parameters, obtained from two brain scans, it is shown how to estimate the time, after initial detection, when the tumour started. This is an input of potential importance in any future controlled clinical study of any connection between cell phone radiation and brain tumour incidence. It is also used to estimate more accurately survival times from detection. Finally, based on patient parameters, the solution of the model equation of the tumour growth helps to explain why certain patients live longer than others after similar treatment protocols specifically surgical resection (removal) and irradiation.',\n",
       "  'score': 0.7499463558197021},\n",
       " {'pmid': '23261330',\n",
       "  'content': \" the Hardell group studies yielding in the >10 years latency period hazard ratio (HR)=1.2, 95% CI=1.002-1.5 for use of wireless phones. This increased HR was based on results for astrocytoma WHO grade IV (glioblastoma multiforme). Decreased HR was found for low-grade astrocytoma, WHO grades I-II, which might be caused by RF-EMF exposure leading to tumour-associated symptoms and earlier detection and surgery with better prognosis. Some studies show increasing incidence of brain tumours whereas other studies do not. It is concluded that one should be careful using incidence data to dismiss results in analytical epidemiology. The IARC carcinogenic classification does not seem to have had any significant impact on governments' perceptions of their responsibilities to protect public health from this widespread source of radiation.\",\n",
       "  'score': 0.6956987380981445},\n",
       " {'pmid': '23095687',\n",
       "  'content': 'BACKGROUND: We analysed the survival of patients after glioma diagnosis in relation to the use of wireless phones. METHODS: All cases diagnosed between 1997 and 2003 with a malignant brain tumour (n = 1,251) in our case-control studies were included and followed from the date of diagnosis to the date of death or until May 30, 2012. RESULTS: For glioma, the use of wireless phones (mobile and cordless phones) gave a hazard ratio (HR) = 1.1 (95% confidence interval, CI = 0.9-1.2), with > 10-year latency HR = 1.2 (95% CI = 1.002-1.5, p trend = 0.02). For astrocytoma grade I-II (low-grade), the results were, HR = 0.5 (95% CI = 0.3-0.9) and for astrocytoma grade IV (glioblastoma), HR = 1.1 (95% CI = 0.95-1.4), with > 10 year latency HR = 1.3 (95% CI = 1.03-1.7). In the highest tertile (> 426 h) of cumulative use, HR = 1.2 (95% CI = 0.95-1.5) was found for glioblastoma. The results were similar for mobile and cordless phones. CONCLUSIONS: Decreased survival of glioma cases with long-term and high cumulative use of wireless phones was found. A survival disadvantage for astrocytoma grade IV, but a survival benefit for astrocytoma grade I-II was observed which could be due to exposure-related tumour symptoms leading to earlier diagnosis and surgery in that patient group.',\n",
       "  'score': 0.6744163036346436}]"
      ]
     },
     "execution_count": 3,
     "metadata": {},
     "output_type": "execute_result"
    }
   ],
   "source": [
    "vector_search_tool.invoke(\"Glioblastoma multiforme (GBM) is \")"
   ]
  },
  {
   "cell_type": "code",
   "execution_count": 15,
   "metadata": {},
   "outputs": [
    {
     "data": {
      "text/plain": [
       "[{'pmid': '24348390',\n",
       "  'content': \"Glioblastoma multiforme (GBM) is the most lethal subtype of glioma, classified as a WHO grade 4 infiltrative glioma. The etiology of GBM remains unknown and risk factors can be identified only in a small minority. We report the synchronous occurrence of GBM in an otherwise unrelated married couple, i.e. a husband and his wife, who developed GBM within an interval of 1 month. No specific causative environmental factors were identified for both patients, and the genetic screens were negative for hereditary syndromes. Family history was negative for tumors, and no other incidence of cancer in either siblings, parents or other children was reported. An analysis of the couple's exposure to nonionizing electromagnetic fields and ionizing radiations revealed values within the normal ranges usually found in homes. Overall, conjugal tumors are rarely reported. However, the case reported herein raises important questions about possible etiologic factors.\",\n",
       "  'score': 0.758817195892334},\n",
       " {'pmid': '22882019',\n",
       "  'content': 'A practical mathematical model for glioblastomas (brain tumours), which incorporates the two key parameters of tumour growth, namely the cancer cell diffusion and the cell proliferation rate, has been shown to be clinically useful and predictive. Previous studies explain why multifocal recurrence is inevitable and show how various treatment scenarios have been incorporated in the model. In most tumours, it is not known when the cancer started. Based on patient in vivo parameters, obtained from two brain scans, it is shown how to estimate the time, after initial detection, when the tumour started. This is an input of potential importance in any future controlled clinical study of any connection between cell phone radiation and brain tumour incidence. It is also used to estimate more accurately survival times from detection. Finally, based on patient parameters, the solution of the model equation of the tumour growth helps to explain why certain patients live longer than others after similar treatment protocols specifically surgical resection (removal) and irradiation.',\n",
       "  'score': 0.7271931171417236},\n",
       " {'pmid': '23184418',\n",
       "  'content': 'Recent sequencing efforts have described the mutational landscape of the pediatric brain tumor medulloblastoma. Although MLL2 is among the most frequent somatic single nucleotide variants (SNV), the clinical and biological significance of these mutations remains uncharacterized. Through targeted re-sequencing, we identified mutations of MLL2 in 8 % (14/175) of MBs, the majority of which were loss of function. Notably, we also report mutations affecting the MLL2-binding partner KDM6A, in 4 % (7/175) of tumors. While MLL2 mutations were independent of age, gender, histological subtype, M-stage or molecular subgroup, KDM6A mutations were most commonly identified in Group 4 MBs, and were mutually exclusive with MLL2 mutations. Immunohistochemical staining for H3K4me3 and H3K27me3, the chromatin effectors of MLL2 and KDM6A activity, respectively, demonstrated alterations of the histone code in 24 % (53/220) of MBs across all subgroups. Correlating these MLL2- and KDM6A-driven histone marks with prognosis, we identified populations of MB with improved (K4+/K27-) and dismal (K4-/K27-) outcomes, observed primarily within Group 3 and 4 MBs. Group 3 and 4 MBs demonstrate somatic copy number aberrations, and transcriptional profiles that converge on modifiers of H3K27-methylation (EZH2, KDM6A, KDM6B), leading to silencing of PRC2-target genes. As PRC2-mediated aberrant methylation of H3K27 has recently been targeted for therapy in other diseases, it represents an actionable target for a substantial percentage of medulloblastoma patients with aggressive forms of the disease.',\n",
       "  'score': 0.7256412506103516},\n",
       " {'pmid': '23095687',\n",
       "  'content': 'BACKGROUND: We analysed the survival of patients after glioma diagnosis in relation to the use of wireless phones. METHODS: All cases diagnosed between 1997 and 2003 with a malignant brain tumour (n = 1,251) in our case-control studies were included and followed from the date of diagnosis to the date of death or until May 30, 2012. RESULTS: For glioma, the use of wireless phones (mobile and cordless phones) gave a hazard ratio (HR) = 1.1 (95% confidence interval, CI = 0.9-1.2), with > 10-year latency HR = 1.2 (95% CI = 1.002-1.5, p trend = 0.02). For astrocytoma grade I-II (low-grade), the results were, HR = 0.5 (95% CI = 0.3-0.9) and for astrocytoma grade IV (glioblastoma), HR = 1.1 (95% CI = 0.95-1.4), with > 10 year latency HR = 1.3 (95% CI = 1.03-1.7). In the highest tertile (> 426 h) of cumulative use, HR = 1.2 (95% CI = 0.95-1.5) was found for glioblastoma. The results were similar for mobile and cordless phones. CONCLUSIONS: Decreased survival of glioma cases with long-term and high cumulative use of wireless phones was found. A survival disadvantage for astrocytoma grade IV, but a survival benefit for astrocytoma grade I-II was observed which could be due to exposure-related tumour symptoms leading to earlier diagnosis and surgery in that patient group.',\n",
       "  'score': 0.7053940296173096},\n",
       " {'pmid': '19494549',\n",
       "  'content': 'BACKGROUND: To investigate the epidemiologic and clinical characteristics (age, sex, tumor location, socioeconomic status) and potential predisposing factors (alcohol, tobacco, mobile phone use, severe head trauma) of cerebral gliomas in a defined area of Northwest Greece. METHODS: The prospective study was conducted in patients with gliomas referred to all 7 hospitals of a study area with a population of 488,435 inhabitants, from June 1, 2005, to May 31, 2007. Incidence rates (IR) were calculated as new cases diagnosed among residents of the study area during the study period per 100,000 inhabitants. A case-control study was carried out in order to study the possible association of the risk of glioma with smoking, alcohol, use of mobile phone, and severe cranial trauma. RESULTS: A total of 56 glioma incident cases were identified with IRs of glioma and glioblastoma (GBM) at 5.73/10(5)/year and 3.69/10(5)/year, respectively. A male to female ratio of 1.25 was obtained in the GBM group. IRs of glioma and GBM for both males and females were higher in the age group 60-79. The most frequent anatomic location was the frontal lobe. 46.5% of the patients originated from the low, 25% from the middle and 28.5% from the high socioeconomic class. There was no significant association between glioma and alcohol consumption, smoking and mobile phone use. A trend for a positive association between the risk of glioma and a history of severe cranial trauma was observed, but this association was not statistically significant. CONCLUSION: The estimated IR of glioma and GBM in this study was higher compared with data from other studies carried out on European, Asian and US populations. Further studies may be needed to assess the possible association of genetic, environmental and lifestyle factors with the high occurrence of gliomas observed in this study.',\n",
       "  'score': 0.6992993354797363}]"
      ]
     },
     "execution_count": 15,
     "metadata": {},
     "output_type": "execute_result"
    }
   ],
   "source": [
    "\n",
    "embedded_query = embedding_model.embed_query(\"Glioblastoma multiforme (GBM) is the most lethal subtype of glioma\")\n",
    "\n",
    "\n",
    "vector_query = f\"\"\"CALL db.index.vector.queryNodes('contextIndex', $k, {embedded_query})\n",
    "YIELD node AS context, score\n",
    "MATCH (article:ARTICLE)-[:HAS_CONTEXT]->(context)\n",
    "RETURN article.pmid as pmid, context.text_content as content, score as score\"\"\"\n",
    "\n",
    "# vector_query = f\"\"\"CALL db.index.vector.queryNodes('contextIndex', 5, {embedded_query})\n",
    "# YIELD node AS context_node, score\n",
    "# RETURN context_node.text_content AS content, score\"\"\"\n",
    "\n",
    "neo4j_connection.execute_query(vector_query, params={\"k\":5, \"threshold\":0.5})"
   ]
  },
  {
   "cell_type": "code",
   "execution_count": 3,
   "metadata": {},
   "outputs": [
    {
     "ename": "ValueError",
     "evalue": "The specified vector index name does not exist. Make sure to check if you spelled it correctly",
     "output_type": "error",
     "traceback": [
      "\u001b[1;31m---------------------------------------------------------------------------\u001b[0m",
      "\u001b[1;31mValueError\u001b[0m                                Traceback (most recent call last)",
      "Cell \u001b[1;32mIn[3], line 1\u001b[0m\n\u001b[1;32m----> 1\u001b[0m existing_index \u001b[38;5;241m=\u001b[39m \u001b[43mNeo4jVector\u001b[49m\u001b[38;5;241;43m.\u001b[39;49m\u001b[43mfrom_existing_index\u001b[49m\u001b[43m(\u001b[49m\n\u001b[0;32m      2\u001b[0m \u001b[43m    \u001b[49m\u001b[43membedding_model\u001b[49m\u001b[43m,\u001b[49m\n\u001b[0;32m      3\u001b[0m \u001b[43m    \u001b[49m\u001b[43murl\u001b[49m\u001b[38;5;241;43m=\u001b[39;49m\u001b[43mConfigEnv\u001b[49m\u001b[38;5;241;43m.\u001b[39;49m\u001b[43mNEO4J_URI\u001b[49m\u001b[43m,\u001b[49m\n\u001b[0;32m      4\u001b[0m \u001b[43m    \u001b[49m\u001b[43musername\u001b[49m\u001b[38;5;241;43m=\u001b[39;49m\u001b[43mConfigEnv\u001b[49m\u001b[38;5;241;43m.\u001b[39;49m\u001b[43mNEO4J_USER\u001b[49m\u001b[43m,\u001b[49m\n\u001b[0;32m      5\u001b[0m \u001b[43m    \u001b[49m\u001b[43mpassword\u001b[49m\u001b[38;5;241;43m=\u001b[39;49m\u001b[43mConfigEnv\u001b[49m\u001b[38;5;241;43m.\u001b[39;49m\u001b[43mNEO4J_PASSWORD\u001b[49m\u001b[43m,\u001b[49m\n\u001b[0;32m      6\u001b[0m \u001b[43m    \u001b[49m\u001b[43mindex_name\u001b[49m\u001b[38;5;241;43m=\u001b[39;49m\u001b[38;5;124;43m\"\u001b[39;49m\u001b[38;5;124;43mcontextIndex\u001b[39;49m\u001b[38;5;124;43m\"\u001b[39;49m\u001b[43m,\u001b[49m\n\u001b[0;32m      7\u001b[0m \u001b[43m    \u001b[49m\u001b[43mtext_node_property\u001b[49m\u001b[38;5;241;43m=\u001b[39;49m\u001b[38;5;124;43m\"\u001b[39;49m\u001b[38;5;124;43mtext_content\u001b[39;49m\u001b[38;5;124;43m\"\u001b[39;49m\u001b[43m,\u001b[49m\u001b[43m  \u001b[49m\u001b[38;5;66;43;03m# Need to define if it is not default\u001b[39;49;00m\n\u001b[0;32m      8\u001b[0m \u001b[43m)\u001b[49m\n",
      "File \u001b[1;32mc:\\Users\\melis\\Desktop\\Projects\\python_projects\\thesis\\advanced_graph_rag\\.venv\\lib\\site-packages\\langchain_neo4j\\vectorstores\\neo4j_vector.py:1001\u001b[0m, in \u001b[0;36mNeo4jVector.from_existing_index\u001b[1;34m(cls, embedding, index_name, search_type, keyword_index_name, embedding_dimension, **kwargs)\u001b[0m\n\u001b[0;32m    994\u001b[0m     \u001b[38;5;28;01mraise\u001b[39;00m \u001b[38;5;167;01mValueError\u001b[39;00m(\n\u001b[0;32m    995\u001b[0m         \u001b[38;5;124m\"\u001b[39m\u001b[38;5;124mRelationship vector index is not supported with \u001b[39m\u001b[38;5;124m\"\u001b[39m\n\u001b[0;32m    996\u001b[0m         \u001b[38;5;124m\"\u001b[39m\u001b[38;5;124m`from_existing_index` method. Please use the \u001b[39m\u001b[38;5;124m\"\u001b[39m\n\u001b[0;32m    997\u001b[0m         \u001b[38;5;124m\"\u001b[39m\u001b[38;5;124m`from_existing_relationship_index` method.\u001b[39m\u001b[38;5;124m\"\u001b[39m\n\u001b[0;32m    998\u001b[0m     )\n\u001b[0;32m   1000\u001b[0m \u001b[38;5;28;01mif\u001b[39;00m \u001b[38;5;129;01mnot\u001b[39;00m index_type:\n\u001b[1;32m-> 1001\u001b[0m     \u001b[38;5;28;01mraise\u001b[39;00m \u001b[38;5;167;01mValueError\u001b[39;00m(\n\u001b[0;32m   1002\u001b[0m         \u001b[38;5;124m\"\u001b[39m\u001b[38;5;124mThe specified vector index name does not exist. \u001b[39m\u001b[38;5;124m\"\u001b[39m\n\u001b[0;32m   1003\u001b[0m         \u001b[38;5;124m\"\u001b[39m\u001b[38;5;124mMake sure to check if you spelled it correctly\u001b[39m\u001b[38;5;124m\"\u001b[39m\n\u001b[0;32m   1004\u001b[0m     )\n\u001b[0;32m   1006\u001b[0m \u001b[38;5;66;03m# Check if embedding function and vector index dimensions match\u001b[39;00m\n\u001b[0;32m   1007\u001b[0m \u001b[38;5;28;01mif\u001b[39;00m embedding_dimension \u001b[38;5;129;01mand\u001b[39;00m \u001b[38;5;129;01mnot\u001b[39;00m store\u001b[38;5;241m.\u001b[39membedding_dimension \u001b[38;5;241m==\u001b[39m embedding_dimension:\n",
      "\u001b[1;31mValueError\u001b[0m: The specified vector index name does not exist. Make sure to check if you spelled it correctly"
     ]
    }
   ],
   "source": [
    "existing_index = Neo4jVector.from_existing_index(\n",
    "    embedding_model,\n",
    "    url=ConfigEnv.NEO4J_URI,\n",
    "    username=ConfigEnv.NEO4J_USER,\n",
    "    password=ConfigEnv.NEO4J_PASSWORD,\n",
    "    index_name=\"contextIndex\",\n",
    "    text_node_property=\"text_content\",  # Need to define if it is not default\n",
    ")"
   ]
  },
  {
   "cell_type": "code",
   "execution_count": 35,
   "metadata": {},
   "outputs": [
    {
     "ename": "CypherSyntaxError",
     "evalue": "{code: Neo.ClientError.Statement.SyntaxError} {message: Invalid input 'text_content': expected an expression, 'FOREACH', ',', 'AS', 'ORDER BY', 'CALL', 'CREATE', 'LOAD CSV', 'DELETE', 'DETACH', 'FINISH', 'INSERT', 'LIMIT', 'MATCH', 'MERGE', 'NODETACH', 'OFFSET', 'OPTIONAL', 'REMOVE', 'RETURN', 'SET', 'SKIP', 'UNION', 'UNWIND', 'USE', 'WITH' or <EOF> (line 1, column 164 (offset: 163))\r\n\"CALL db.index.vector.queryNodes($vector_index_name, $top_k * $effective_search_ratio, $query_vector) YIELD node, score WITH node, score LIMIT $top_k RETURN node.``text_content`` AS text, score, node {.*, ``text_content``: Null, `embedding`: Null, id: Null } AS metadata\"\r\n                                                                                                                                                                    ^}",
     "output_type": "error",
     "traceback": [
      "\u001b[1;31m---------------------------------------------------------------------------\u001b[0m",
      "\u001b[1;31mCypherSyntaxError\u001b[0m                         Traceback (most recent call last)",
      "Cell \u001b[1;32mIn[35], line 1\u001b[0m\n\u001b[1;32m----> 1\u001b[0m \u001b[43mexisting_index\u001b[49m\u001b[38;5;241;43m.\u001b[39;49m\u001b[43msimilarity_search\u001b[49m\u001b[43m(\u001b[49m\u001b[38;5;124;43m\"\u001b[39;49m\u001b[38;5;124;43mhey\u001b[39;49m\u001b[38;5;124;43m\"\u001b[39;49m\u001b[43m)\u001b[49m\n",
      "File \u001b[1;32mc:\\Users\\melis\\Desktop\\Projects\\python_projects\\thesis\\advanced_graph_rag\\.venv\\lib\\site-packages\\langchain_neo4j\\vectorstores\\neo4j_vector.py:661\u001b[0m, in \u001b[0;36mNeo4jVector.similarity_search\u001b[1;34m(self, query, k, params, filter, effective_search_ratio, **kwargs)\u001b[0m\n\u001b[0;32m    644\u001b[0m \u001b[38;5;250m\u001b[39m\u001b[38;5;124;03m\"\"\"Run similarity search with Neo4jVector.\u001b[39;00m\n\u001b[0;32m    645\u001b[0m \n\u001b[0;32m    646\u001b[0m \u001b[38;5;124;03mArgs:\u001b[39;00m\n\u001b[1;32m   (...)\u001b[0m\n\u001b[0;32m    658\u001b[0m \u001b[38;5;124;03m    List of Documents most similar to the query.\u001b[39;00m\n\u001b[0;32m    659\u001b[0m \u001b[38;5;124;03m\"\"\"\u001b[39;00m\n\u001b[0;32m    660\u001b[0m embedding \u001b[38;5;241m=\u001b[39m \u001b[38;5;28mself\u001b[39m\u001b[38;5;241m.\u001b[39membedding\u001b[38;5;241m.\u001b[39membed_query(text\u001b[38;5;241m=\u001b[39mquery)\n\u001b[1;32m--> 661\u001b[0m \u001b[38;5;28;01mreturn\u001b[39;00m \u001b[38;5;28mself\u001b[39m\u001b[38;5;241m.\u001b[39msimilarity_search_by_vector(\n\u001b[0;32m    662\u001b[0m     embedding\u001b[38;5;241m=\u001b[39membedding,\n\u001b[0;32m    663\u001b[0m     k\u001b[38;5;241m=\u001b[39mk,\n\u001b[0;32m    664\u001b[0m     query\u001b[38;5;241m=\u001b[39mquery,\n\u001b[0;32m    665\u001b[0m     params\u001b[38;5;241m=\u001b[39mparams,\n\u001b[0;32m    666\u001b[0m     \u001b[38;5;28mfilter\u001b[39m\u001b[38;5;241m=\u001b[39m\u001b[38;5;28mfilter\u001b[39m,\n\u001b[0;32m    667\u001b[0m     effective_search_ratio\u001b[38;5;241m=\u001b[39meffective_search_ratio,\n\u001b[0;32m    668\u001b[0m     \u001b[38;5;241m*\u001b[39m\u001b[38;5;241m*\u001b[39mkwargs,\n\u001b[0;32m    669\u001b[0m )\n",
      "File \u001b[1;32mc:\\Users\\melis\\Desktop\\Projects\\python_projects\\thesis\\advanced_graph_rag\\.venv\\lib\\site-packages\\langchain_neo4j\\vectorstores\\neo4j_vector.py:858\u001b[0m, in \u001b[0;36mNeo4jVector.similarity_search_by_vector\u001b[1;34m(self, embedding, k, filter, params, effective_search_ratio, **kwargs)\u001b[0m\n\u001b[0;32m    835\u001b[0m \u001b[38;5;28;01mdef\u001b[39;00m\u001b[38;5;250m \u001b[39m\u001b[38;5;21msimilarity_search_by_vector\u001b[39m(\n\u001b[0;32m    836\u001b[0m     \u001b[38;5;28mself\u001b[39m,\n\u001b[0;32m    837\u001b[0m     embedding: List[\u001b[38;5;28mfloat\u001b[39m],\n\u001b[1;32m   (...)\u001b[0m\n\u001b[0;32m    842\u001b[0m     \u001b[38;5;241m*\u001b[39m\u001b[38;5;241m*\u001b[39mkwargs: Any,\n\u001b[0;32m    843\u001b[0m ) \u001b[38;5;241m-\u001b[39m\u001b[38;5;241m>\u001b[39m List[Document]:\n\u001b[0;32m    844\u001b[0m \u001b[38;5;250m    \u001b[39m\u001b[38;5;124;03m\"\"\"Return docs most similar to embedding vector.\u001b[39;00m\n\u001b[0;32m    845\u001b[0m \n\u001b[0;32m    846\u001b[0m \u001b[38;5;124;03m    Args:\u001b[39;00m\n\u001b[1;32m   (...)\u001b[0m\n\u001b[0;32m    856\u001b[0m \u001b[38;5;124;03m        List of Documents most similar to the query vector.\u001b[39;00m\n\u001b[0;32m    857\u001b[0m \u001b[38;5;124;03m    \"\"\"\u001b[39;00m\n\u001b[1;32m--> 858\u001b[0m     docs_and_scores \u001b[38;5;241m=\u001b[39m \u001b[38;5;28mself\u001b[39m\u001b[38;5;241m.\u001b[39msimilarity_search_with_score_by_vector(\n\u001b[0;32m    859\u001b[0m         embedding\u001b[38;5;241m=\u001b[39membedding,\n\u001b[0;32m    860\u001b[0m         k\u001b[38;5;241m=\u001b[39mk,\n\u001b[0;32m    861\u001b[0m         \u001b[38;5;28mfilter\u001b[39m\u001b[38;5;241m=\u001b[39m\u001b[38;5;28mfilter\u001b[39m,\n\u001b[0;32m    862\u001b[0m         params\u001b[38;5;241m=\u001b[39mparams,\n\u001b[0;32m    863\u001b[0m         effective_search_ratio\u001b[38;5;241m=\u001b[39meffective_search_ratio,\n\u001b[0;32m    864\u001b[0m         \u001b[38;5;241m*\u001b[39m\u001b[38;5;241m*\u001b[39mkwargs,\n\u001b[0;32m    865\u001b[0m     )\n\u001b[0;32m    866\u001b[0m     \u001b[38;5;28;01mreturn\u001b[39;00m [doc \u001b[38;5;28;01mfor\u001b[39;00m doc, _ \u001b[38;5;129;01min\u001b[39;00m docs_and_scores]\n",
      "File \u001b[1;32mc:\\Users\\melis\\Desktop\\Projects\\python_projects\\thesis\\advanced_graph_rag\\.venv\\lib\\site-packages\\langchain_neo4j\\vectorstores\\neo4j_vector.py:790\u001b[0m, in \u001b[0;36mNeo4jVector.similarity_search_with_score_by_vector\u001b[1;34m(self, embedding, k, filter, params, effective_search_ratio, **kwargs)\u001b[0m\n\u001b[0;32m    768\u001b[0m read_query, filter_params \u001b[38;5;241m=\u001b[39m get_search_query(\n\u001b[0;32m    769\u001b[0m     search_type\u001b[38;5;241m=\u001b[39m\u001b[38;5;28mself\u001b[39m\u001b[38;5;241m.\u001b[39msearch_type,\n\u001b[0;32m    770\u001b[0m     entity_type\u001b[38;5;241m=\u001b[39m\u001b[38;5;28mself\u001b[39m\u001b[38;5;241m.\u001b[39m_index_type,\n\u001b[1;32m   (...)\u001b[0m\n\u001b[0;32m    777\u001b[0m     use_parallel_runtime\u001b[38;5;241m=\u001b[39m\u001b[38;5;28mself\u001b[39m\u001b[38;5;241m.\u001b[39m_is_enterprise,\n\u001b[0;32m    778\u001b[0m )\n\u001b[0;32m    779\u001b[0m parameters \u001b[38;5;241m=\u001b[39m {\n\u001b[0;32m    780\u001b[0m     \u001b[38;5;124m\"\u001b[39m\u001b[38;5;124mvector_index_name\u001b[39m\u001b[38;5;124m\"\u001b[39m: \u001b[38;5;28mself\u001b[39m\u001b[38;5;241m.\u001b[39mindex_name,\n\u001b[0;32m    781\u001b[0m     \u001b[38;5;124m\"\u001b[39m\u001b[38;5;124mtop_k\u001b[39m\u001b[38;5;124m\"\u001b[39m: k,\n\u001b[1;32m   (...)\u001b[0m\n\u001b[0;32m    787\u001b[0m     \u001b[38;5;241m*\u001b[39m\u001b[38;5;241m*\u001b[39mfilter_params,\n\u001b[0;32m    788\u001b[0m }\n\u001b[1;32m--> 790\u001b[0m results \u001b[38;5;241m=\u001b[39m \u001b[38;5;28;43mself\u001b[39;49m\u001b[38;5;241;43m.\u001b[39;49m\u001b[43mquery\u001b[49m\u001b[43m(\u001b[49m\u001b[43mread_query\u001b[49m\u001b[43m,\u001b[49m\u001b[43m \u001b[49m\u001b[43mparams\u001b[49m\u001b[38;5;241;43m=\u001b[39;49m\u001b[43mparameters\u001b[49m\u001b[43m)\u001b[49m\n\u001b[0;32m    792\u001b[0m \u001b[38;5;28;01mif\u001b[39;00m \u001b[38;5;28many\u001b[39m(result[\u001b[38;5;124m\"\u001b[39m\u001b[38;5;124mtext\u001b[39m\u001b[38;5;124m\"\u001b[39m] \u001b[38;5;129;01mis\u001b[39;00m \u001b[38;5;28;01mNone\u001b[39;00m \u001b[38;5;28;01mfor\u001b[39;00m result \u001b[38;5;129;01min\u001b[39;00m results):\n\u001b[0;32m    793\u001b[0m     \u001b[38;5;28;01mif\u001b[39;00m \u001b[38;5;129;01mnot\u001b[39;00m \u001b[38;5;28mself\u001b[39m\u001b[38;5;241m.\u001b[39mretrieval_query:\n",
      "File \u001b[1;32mc:\\Users\\melis\\Desktop\\Projects\\python_projects\\thesis\\advanced_graph_rag\\.venv\\lib\\site-packages\\langchain_neo4j\\vectorstores\\neo4j_vector.py:316\u001b[0m, in \u001b[0;36mNeo4jVector.query\u001b[1;34m(self, query, params)\u001b[0m\n\u001b[0;32m    314\u001b[0m params \u001b[38;5;241m=\u001b[39m params \u001b[38;5;129;01mor\u001b[39;00m {}\n\u001b[0;32m    315\u001b[0m \u001b[38;5;28;01mtry\u001b[39;00m:\n\u001b[1;32m--> 316\u001b[0m     data, _, _ \u001b[38;5;241m=\u001b[39m \u001b[38;5;28;43mself\u001b[39;49m\u001b[38;5;241;43m.\u001b[39;49m\u001b[43m_driver\u001b[49m\u001b[38;5;241;43m.\u001b[39;49m\u001b[43mexecute_query\u001b[49m\u001b[43m(\u001b[49m\n\u001b[0;32m    317\u001b[0m \u001b[43m        \u001b[49m\u001b[43mquery\u001b[49m\u001b[43m,\u001b[49m\u001b[43m \u001b[49m\u001b[43mdatabase_\u001b[49m\u001b[38;5;241;43m=\u001b[39;49m\u001b[38;5;28;43mself\u001b[39;49m\u001b[38;5;241;43m.\u001b[39;49m\u001b[43m_database\u001b[49m\u001b[43m,\u001b[49m\u001b[43m \u001b[49m\u001b[43mparameters_\u001b[49m\u001b[38;5;241;43m=\u001b[39;49m\u001b[43mparams\u001b[49m\n\u001b[0;32m    318\u001b[0m \u001b[43m    \u001b[49m\u001b[43m)\u001b[49m\n\u001b[0;32m    319\u001b[0m     \u001b[38;5;28;01mreturn\u001b[39;00m [r\u001b[38;5;241m.\u001b[39mdata() \u001b[38;5;28;01mfor\u001b[39;00m r \u001b[38;5;129;01min\u001b[39;00m data]\n\u001b[0;32m    320\u001b[0m \u001b[38;5;28;01mexcept\u001b[39;00m Neo4jError \u001b[38;5;28;01mas\u001b[39;00m e:\n",
      "File \u001b[1;32mc:\\Users\\melis\\Desktop\\Projects\\python_projects\\thesis\\advanced_graph_rag\\.venv\\lib\\site-packages\\neo4j\\_sync\\driver.py:970\u001b[0m, in \u001b[0;36mDriver.execute_query\u001b[1;34m(self, query_, parameters_, routing_, database_, impersonated_user_, bookmark_manager_, auth_, result_transformer_, **kwargs)\u001b[0m\n\u001b[0;32m    966\u001b[0m     \u001b[38;5;28;01mraise\u001b[39;00m \u001b[38;5;167;01mValueError\u001b[39;00m(\n\u001b[0;32m    967\u001b[0m         \u001b[38;5;124mf\u001b[39m\u001b[38;5;124m\"\u001b[39m\u001b[38;5;124mInvalid routing control value: \u001b[39m\u001b[38;5;132;01m{\u001b[39;00mrouting_\u001b[38;5;132;01m!r}\u001b[39;00m\u001b[38;5;124m\"\u001b[39m\n\u001b[0;32m    968\u001b[0m     )\n\u001b[0;32m    969\u001b[0m \u001b[38;5;28;01mwith\u001b[39;00m session\u001b[38;5;241m.\u001b[39m_pipelined_begin:\n\u001b[1;32m--> 970\u001b[0m     \u001b[38;5;28;01mreturn\u001b[39;00m \u001b[43msession\u001b[49m\u001b[38;5;241;43m.\u001b[39;49m\u001b[43m_run_transaction\u001b[49m\u001b[43m(\u001b[49m\n\u001b[0;32m    971\u001b[0m \u001b[43m        \u001b[49m\u001b[43maccess_mode\u001b[49m\u001b[43m,\u001b[49m\n\u001b[0;32m    972\u001b[0m \u001b[43m        \u001b[49m\u001b[43mTelemetryAPI\u001b[49m\u001b[38;5;241;43m.\u001b[39;49m\u001b[43mDRIVER\u001b[49m\u001b[43m,\u001b[49m\n\u001b[0;32m    973\u001b[0m \u001b[43m        \u001b[49m\u001b[43mwork\u001b[49m\u001b[43m,\u001b[49m\n\u001b[0;32m    974\u001b[0m \u001b[43m        \u001b[49m\u001b[43m(\u001b[49m\u001b[43mquery_str\u001b[49m\u001b[43m,\u001b[49m\u001b[43m \u001b[49m\u001b[43mparameters\u001b[49m\u001b[43m,\u001b[49m\u001b[43m \u001b[49m\u001b[43mresult_transformer_\u001b[49m\u001b[43m)\u001b[49m\u001b[43m,\u001b[49m\n\u001b[0;32m    975\u001b[0m \u001b[43m        \u001b[49m\u001b[43m{\u001b[49m\u001b[43m}\u001b[49m\u001b[43m,\u001b[49m\n\u001b[0;32m    976\u001b[0m \u001b[43m    \u001b[49m\u001b[43m)\u001b[49m\n",
      "File \u001b[1;32mc:\\Users\\melis\\Desktop\\Projects\\python_projects\\thesis\\advanced_graph_rag\\.venv\\lib\\site-packages\\neo4j\\_sync\\work\\session.py:583\u001b[0m, in \u001b[0;36mSession._run_transaction\u001b[1;34m(self, access_mode, api, transaction_function, args, kwargs)\u001b[0m\n\u001b[0;32m    581\u001b[0m tx \u001b[38;5;241m=\u001b[39m \u001b[38;5;28mself\u001b[39m\u001b[38;5;241m.\u001b[39m_transaction\n\u001b[0;32m    582\u001b[0m \u001b[38;5;28;01mtry\u001b[39;00m:\n\u001b[1;32m--> 583\u001b[0m     result \u001b[38;5;241m=\u001b[39m transaction_function(tx, \u001b[38;5;241m*\u001b[39margs, \u001b[38;5;241m*\u001b[39m\u001b[38;5;241m*\u001b[39mkwargs)\n\u001b[0;32m    584\u001b[0m \u001b[38;5;28;01mexcept\u001b[39;00m asyncio\u001b[38;5;241m.\u001b[39mCancelledError:\n\u001b[0;32m    585\u001b[0m     \u001b[38;5;66;03m# if cancellation callback has not been called yet:\u001b[39;00m\n\u001b[0;32m    586\u001b[0m     \u001b[38;5;28;01mif\u001b[39;00m \u001b[38;5;28mself\u001b[39m\u001b[38;5;241m.\u001b[39m_transaction \u001b[38;5;129;01mis\u001b[39;00m \u001b[38;5;129;01mnot\u001b[39;00m \u001b[38;5;28;01mNone\u001b[39;00m:\n",
      "File \u001b[1;32mc:\\Users\\melis\\Desktop\\Projects\\python_projects\\thesis\\advanced_graph_rag\\.venv\\lib\\site-packages\\neo4j\\_sync\\driver.py:1306\u001b[0m, in \u001b[0;36m_work\u001b[1;34m(tx, query, parameters, transformer)\u001b[0m\n\u001b[0;32m   1300\u001b[0m \u001b[38;5;28;01mdef\u001b[39;00m\u001b[38;5;250m \u001b[39m\u001b[38;5;21m_work\u001b[39m(\n\u001b[0;32m   1301\u001b[0m     tx: ManagedTransaction,\n\u001b[0;32m   1302\u001b[0m     query: te\u001b[38;5;241m.\u001b[39mLiteralString,\n\u001b[0;32m   1303\u001b[0m     parameters: \u001b[38;5;28mdict\u001b[39m[\u001b[38;5;28mstr\u001b[39m, t\u001b[38;5;241m.\u001b[39mAny],\n\u001b[0;32m   1304\u001b[0m     transformer: t\u001b[38;5;241m.\u001b[39mCallable[[Result], t\u001b[38;5;241m.\u001b[39mUnion[_T]],\n\u001b[0;32m   1305\u001b[0m ) \u001b[38;5;241m-\u001b[39m\u001b[38;5;241m>\u001b[39m _T:\n\u001b[1;32m-> 1306\u001b[0m     res \u001b[38;5;241m=\u001b[39m \u001b[43mtx\u001b[49m\u001b[38;5;241;43m.\u001b[39;49m\u001b[43mrun\u001b[49m\u001b[43m(\u001b[49m\u001b[43mquery\u001b[49m\u001b[43m,\u001b[49m\u001b[43m \u001b[49m\u001b[43mparameters\u001b[49m\u001b[43m)\u001b[49m\n\u001b[0;32m   1307\u001b[0m     \u001b[38;5;28;01mreturn\u001b[39;00m transformer(res)\n",
      "File \u001b[1;32mc:\\Users\\melis\\Desktop\\Projects\\python_projects\\thesis\\advanced_graph_rag\\.venv\\lib\\site-packages\\neo4j\\_sync\\work\\transaction.py:206\u001b[0m, in \u001b[0;36mTransactionBase.run\u001b[1;34m(self, query, parameters, **kwparameters)\u001b[0m\n\u001b[0;32m    203\u001b[0m \u001b[38;5;28mself\u001b[39m\u001b[38;5;241m.\u001b[39m_results\u001b[38;5;241m.\u001b[39mappend(result)\n\u001b[0;32m    205\u001b[0m parameters \u001b[38;5;241m=\u001b[39m \u001b[38;5;28mdict\u001b[39m(parameters \u001b[38;5;129;01mor\u001b[39;00m {}, \u001b[38;5;241m*\u001b[39m\u001b[38;5;241m*\u001b[39mkwparameters)\n\u001b[1;32m--> 206\u001b[0m \u001b[43mresult\u001b[49m\u001b[38;5;241;43m.\u001b[39;49m\u001b[43m_tx_ready_run\u001b[49m\u001b[43m(\u001b[49m\u001b[43mquery\u001b[49m\u001b[43m,\u001b[49m\u001b[43m \u001b[49m\u001b[43mparameters\u001b[49m\u001b[43m)\u001b[49m\n\u001b[0;32m    208\u001b[0m \u001b[38;5;28;01mreturn\u001b[39;00m result\n",
      "File \u001b[1;32mc:\\Users\\melis\\Desktop\\Projects\\python_projects\\thesis\\advanced_graph_rag\\.venv\\lib\\site-packages\\neo4j\\_sync\\work\\result.py:177\u001b[0m, in \u001b[0;36mResult._tx_ready_run\u001b[1;34m(self, query, parameters)\u001b[0m\n\u001b[0;32m    173\u001b[0m \u001b[38;5;28;01mdef\u001b[39;00m\u001b[38;5;250m \u001b[39m\u001b[38;5;21m_tx_ready_run\u001b[39m(\u001b[38;5;28mself\u001b[39m, query, parameters):\n\u001b[0;32m    174\u001b[0m     \u001b[38;5;66;03m# BEGIN+RUN does not carry any extra on the RUN message.\u001b[39;00m\n\u001b[0;32m    175\u001b[0m     \u001b[38;5;66;03m# BEGIN {extra}\u001b[39;00m\n\u001b[0;32m    176\u001b[0m     \u001b[38;5;66;03m# RUN \"query\" {parameters} {extra}\u001b[39;00m\n\u001b[1;32m--> 177\u001b[0m     \u001b[38;5;28;43mself\u001b[39;49m\u001b[38;5;241;43m.\u001b[39;49m\u001b[43m_run\u001b[49m\u001b[43m(\u001b[49m\u001b[43mquery\u001b[49m\u001b[43m,\u001b[49m\u001b[43m \u001b[49m\u001b[43mparameters\u001b[49m\u001b[43m,\u001b[49m\u001b[43m \u001b[49m\u001b[38;5;28;43;01mNone\u001b[39;49;00m\u001b[43m,\u001b[49m\u001b[43m \u001b[49m\u001b[38;5;28;43;01mNone\u001b[39;49;00m\u001b[43m,\u001b[49m\u001b[43m \u001b[49m\u001b[38;5;28;43;01mNone\u001b[39;49;00m\u001b[43m,\u001b[49m\u001b[43m \u001b[49m\u001b[38;5;28;43;01mNone\u001b[39;49;00m\u001b[43m,\u001b[49m\u001b[43m \u001b[49m\u001b[38;5;28;43;01mNone\u001b[39;49;00m\u001b[43m,\u001b[49m\u001b[43m \u001b[49m\u001b[38;5;28;43;01mNone\u001b[39;49;00m\u001b[43m)\u001b[49m\n",
      "File \u001b[1;32mc:\\Users\\melis\\Desktop\\Projects\\python_projects\\thesis\\advanced_graph_rag\\.venv\\lib\\site-packages\\neo4j\\_sync\\work\\result.py:236\u001b[0m, in \u001b[0;36mResult._run\u001b[1;34m(self, query, parameters, db, imp_user, access_mode, bookmarks, notifications_min_severity, notifications_disabled_classifications)\u001b[0m\n\u001b[0;32m    234\u001b[0m \u001b[38;5;28mself\u001b[39m\u001b[38;5;241m.\u001b[39m_pull()\n\u001b[0;32m    235\u001b[0m \u001b[38;5;28mself\u001b[39m\u001b[38;5;241m.\u001b[39m_connection\u001b[38;5;241m.\u001b[39msend_all()\n\u001b[1;32m--> 236\u001b[0m \u001b[38;5;28;43mself\u001b[39;49m\u001b[38;5;241;43m.\u001b[39;49m\u001b[43m_attach\u001b[49m\u001b[43m(\u001b[49m\u001b[43m)\u001b[49m\n",
      "File \u001b[1;32mc:\\Users\\melis\\Desktop\\Projects\\python_projects\\thesis\\advanced_graph_rag\\.venv\\lib\\site-packages\\neo4j\\_sync\\work\\result.py:430\u001b[0m, in \u001b[0;36mResult._attach\u001b[1;34m(self)\u001b[0m\n\u001b[0;32m    428\u001b[0m \u001b[38;5;28;01mif\u001b[39;00m \u001b[38;5;28mself\u001b[39m\u001b[38;5;241m.\u001b[39m_exhausted \u001b[38;5;129;01mis\u001b[39;00m \u001b[38;5;28;01mFalse\u001b[39;00m:\n\u001b[0;32m    429\u001b[0m     \u001b[38;5;28;01mwhile\u001b[39;00m \u001b[38;5;28mself\u001b[39m\u001b[38;5;241m.\u001b[39m_attached \u001b[38;5;129;01mis\u001b[39;00m \u001b[38;5;28;01mFalse\u001b[39;00m:\n\u001b[1;32m--> 430\u001b[0m         \u001b[38;5;28;43mself\u001b[39;49m\u001b[38;5;241;43m.\u001b[39;49m\u001b[43m_connection\u001b[49m\u001b[38;5;241;43m.\u001b[39;49m\u001b[43mfetch_message\u001b[49m\u001b[43m(\u001b[49m\u001b[43m)\u001b[49m\n",
      "File \u001b[1;32mc:\\Users\\melis\\Desktop\\Projects\\python_projects\\thesis\\advanced_graph_rag\\.venv\\lib\\site-packages\\neo4j\\_sync\\io\\_common.py:184\u001b[0m, in \u001b[0;36mConnectionErrorHandler.__getattr__.<locals>.outer.<locals>.inner\u001b[1;34m(*args, **kwargs)\u001b[0m\n\u001b[0;32m    182\u001b[0m \u001b[38;5;28;01mdef\u001b[39;00m\u001b[38;5;250m \u001b[39m\u001b[38;5;21minner\u001b[39m(\u001b[38;5;241m*\u001b[39margs, \u001b[38;5;241m*\u001b[39m\u001b[38;5;241m*\u001b[39mkwargs):\n\u001b[0;32m    183\u001b[0m     \u001b[38;5;28;01mtry\u001b[39;00m:\n\u001b[1;32m--> 184\u001b[0m         func(\u001b[38;5;241m*\u001b[39margs, \u001b[38;5;241m*\u001b[39m\u001b[38;5;241m*\u001b[39mkwargs)\n\u001b[0;32m    185\u001b[0m     \u001b[38;5;28;01mexcept\u001b[39;00m (Neo4jError, ServiceUnavailable, SessionExpired) \u001b[38;5;28;01mas\u001b[39;00m exc:\n\u001b[0;32m    186\u001b[0m         \u001b[38;5;28;01massert\u001b[39;00m \u001b[38;5;129;01mnot\u001b[39;00m asyncio\u001b[38;5;241m.\u001b[39miscoroutinefunction(\u001b[38;5;28mself\u001b[39m\u001b[38;5;241m.\u001b[39m__on_error)\n",
      "File \u001b[1;32mc:\\Users\\melis\\Desktop\\Projects\\python_projects\\thesis\\advanced_graph_rag\\.venv\\lib\\site-packages\\neo4j\\_sync\\io\\_bolt.py:864\u001b[0m, in \u001b[0;36mBolt.fetch_message\u001b[1;34m(self)\u001b[0m\n\u001b[0;32m    860\u001b[0m \u001b[38;5;66;03m# Receive exactly one message\u001b[39;00m\n\u001b[0;32m    861\u001b[0m tag, fields \u001b[38;5;241m=\u001b[39m \u001b[38;5;28mself\u001b[39m\u001b[38;5;241m.\u001b[39minbox\u001b[38;5;241m.\u001b[39mpop(\n\u001b[0;32m    862\u001b[0m     hydration_hooks\u001b[38;5;241m=\u001b[39m\u001b[38;5;28mself\u001b[39m\u001b[38;5;241m.\u001b[39mresponses[\u001b[38;5;241m0\u001b[39m]\u001b[38;5;241m.\u001b[39mhydration_hooks\n\u001b[0;32m    863\u001b[0m )\n\u001b[1;32m--> 864\u001b[0m res \u001b[38;5;241m=\u001b[39m \u001b[38;5;28;43mself\u001b[39;49m\u001b[38;5;241;43m.\u001b[39;49m\u001b[43m_process_message\u001b[49m\u001b[43m(\u001b[49m\u001b[43mtag\u001b[49m\u001b[43m,\u001b[49m\u001b[43m \u001b[49m\u001b[43mfields\u001b[49m\u001b[43m)\u001b[49m\n\u001b[0;32m    865\u001b[0m \u001b[38;5;28mself\u001b[39m\u001b[38;5;241m.\u001b[39midle_since \u001b[38;5;241m=\u001b[39m monotonic()\n\u001b[0;32m    866\u001b[0m \u001b[38;5;28;01mreturn\u001b[39;00m res\n",
      "File \u001b[1;32mc:\\Users\\melis\\Desktop\\Projects\\python_projects\\thesis\\advanced_graph_rag\\.venv\\lib\\site-packages\\neo4j\\_sync\\io\\_bolt5.py:1208\u001b[0m, in \u001b[0;36mBolt5x7._process_message\u001b[1;34m(self, tag, fields)\u001b[0m\n\u001b[0;32m   1206\u001b[0m \u001b[38;5;28mself\u001b[39m\u001b[38;5;241m.\u001b[39m_enrich_error_diagnostic_record(summary_metadata)\n\u001b[0;32m   1207\u001b[0m \u001b[38;5;28;01mtry\u001b[39;00m:\n\u001b[1;32m-> 1208\u001b[0m     \u001b[43mresponse\u001b[49m\u001b[38;5;241;43m.\u001b[39;49m\u001b[43mon_failure\u001b[49m\u001b[43m(\u001b[49m\u001b[43msummary_metadata\u001b[49m\u001b[43m \u001b[49m\u001b[38;5;129;43;01mor\u001b[39;49;00m\u001b[43m \u001b[49m\u001b[43m{\u001b[49m\u001b[43m}\u001b[49m\u001b[43m)\u001b[49m\n\u001b[0;32m   1209\u001b[0m \u001b[38;5;28;01mexcept\u001b[39;00m (ServiceUnavailable, DatabaseUnavailable):\n\u001b[0;32m   1210\u001b[0m     \u001b[38;5;28;01mif\u001b[39;00m \u001b[38;5;28mself\u001b[39m\u001b[38;5;241m.\u001b[39mpool:\n",
      "File \u001b[1;32mc:\\Users\\melis\\Desktop\\Projects\\python_projects\\thesis\\advanced_graph_rag\\.venv\\lib\\site-packages\\neo4j\\_sync\\io\\_common.py:254\u001b[0m, in \u001b[0;36mResponse.on_failure\u001b[1;34m(self, metadata)\u001b[0m\n\u001b[0;32m    252\u001b[0m handler \u001b[38;5;241m=\u001b[39m \u001b[38;5;28mself\u001b[39m\u001b[38;5;241m.\u001b[39mhandlers\u001b[38;5;241m.\u001b[39mget(\u001b[38;5;124m\"\u001b[39m\u001b[38;5;124mon_summary\u001b[39m\u001b[38;5;124m\"\u001b[39m)\n\u001b[0;32m    253\u001b[0m Util\u001b[38;5;241m.\u001b[39mcallback(handler)\n\u001b[1;32m--> 254\u001b[0m \u001b[38;5;28;01mraise\u001b[39;00m \u001b[38;5;28mself\u001b[39m\u001b[38;5;241m.\u001b[39m_hydrate_error(metadata)\n",
      "\u001b[1;31mCypherSyntaxError\u001b[0m: {code: Neo.ClientError.Statement.SyntaxError} {message: Invalid input 'text_content': expected an expression, 'FOREACH', ',', 'AS', 'ORDER BY', 'CALL', 'CREATE', 'LOAD CSV', 'DELETE', 'DETACH', 'FINISH', 'INSERT', 'LIMIT', 'MATCH', 'MERGE', 'NODETACH', 'OFFSET', 'OPTIONAL', 'REMOVE', 'RETURN', 'SET', 'SKIP', 'UNION', 'UNWIND', 'USE', 'WITH' or <EOF> (line 1, column 164 (offset: 163))\r\n\"CALL db.index.vector.queryNodes($vector_index_name, $top_k * $effective_search_ratio, $query_vector) YIELD node, score WITH node, score LIMIT $top_k RETURN node.``text_content`` AS text, score, node {.*, ``text_content``: Null, `embedding`: Null, id: Null } AS metadata\"\r\n                                                                                                                                                                    ^}"
     ]
    }
   ],
   "source": [
    "existing_index.similarity_search(\"hey\")"
   ]
  },
  {
   "cell_type": "code",
   "execution_count": 28,
   "metadata": {},
   "outputs": [
    {
     "data": {
      "text/plain": [
       "[{'name': 'context_index',\n",
       "  'type': 'VECTOR',\n",
       "  'labelsOrTypes': ['CONTEXT'],\n",
       "  'properties': ['embedding'],\n",
       "  'options': {'indexProvider': 'vector-2.0',\n",
       "   'indexConfig': {'vector.hnsw.m': 16,\n",
       "    'vector.hnsw.ef_construction': 100,\n",
       "    'vector.dimensions': 768,\n",
       "    'vector.similarity_function': 'COSINE',\n",
       "    'vector.quantization.enabled': True}}},\n",
       " {'name': 'mesh_index',\n",
       "  'type': 'VECTOR',\n",
       "  'labelsOrTypes': ['MESH'],\n",
       "  'properties': ['embedding'],\n",
       "  'options': {'indexProvider': 'vector-2.0',\n",
       "   'indexConfig': {'vector.hnsw.m': 16,\n",
       "    'vector.hnsw.ef_construction': 100,\n",
       "    'vector.dimensions': 768,\n",
       "    'vector.similarity_function': 'COSINE',\n",
       "    'vector.quantization.enabled': True}}}]"
      ]
     },
     "execution_count": 28,
     "metadata": {},
     "output_type": "execute_result"
    }
   ],
   "source": [
    "neo4j_connection.execute_query(\"\"\"SHOW INDEXES\n",
    "       YIELD name, type, labelsOrTypes, properties, options\n",
    "       WHERE type = 'VECTOR'\"\"\", params={})"
   ]
  },
  {
   "cell_type": "code",
   "execution_count": 27,
   "metadata": {},
   "outputs": [
    {
     "ename": "TypeError",
     "evalue": "Neo4jVector.from_existing_graph() missing 1 required positional argument: 'text_node_properties'",
     "output_type": "error",
     "traceback": [
      "\u001b[1;31m---------------------------------------------------------------------------\u001b[0m",
      "\u001b[1;31mTypeError\u001b[0m                                 Traceback (most recent call last)",
      "Cell \u001b[1;32mIn[27], line 3\u001b[0m\n\u001b[0;32m      1\u001b[0m index_name \u001b[38;5;241m=\u001b[39m \u001b[38;5;124m\"\u001b[39m\u001b[38;5;124mcontext_index\u001b[39m\u001b[38;5;124m\"\u001b[39m  \u001b[38;5;66;03m# default index name\u001b[39;00m\n\u001b[1;32m----> 3\u001b[0m existing_graph \u001b[38;5;241m=\u001b[39m \u001b[43mNeo4jVector\u001b[49m\u001b[38;5;241;43m.\u001b[39;49m\u001b[43mfrom_existing_graph\u001b[49m\u001b[43m(\u001b[49m\n\u001b[0;32m      4\u001b[0m \u001b[43m    \u001b[49m\u001b[43membedding\u001b[49m\u001b[38;5;241;43m=\u001b[39;49m\u001b[43membedding_model\u001b[49m\u001b[43m,\u001b[49m\n\u001b[0;32m      5\u001b[0m \u001b[43m    \u001b[49m\u001b[43murl\u001b[49m\u001b[38;5;241;43m=\u001b[39;49m\u001b[43mConfigEnv\u001b[49m\u001b[38;5;241;43m.\u001b[39;49m\u001b[43mNEO4J_URI\u001b[49m\u001b[43m,\u001b[49m\n\u001b[0;32m      6\u001b[0m \u001b[43m    \u001b[49m\u001b[43musername\u001b[49m\u001b[38;5;241;43m=\u001b[39;49m\u001b[43mConfigEnv\u001b[49m\u001b[38;5;241;43m.\u001b[39;49m\u001b[43mNEO4J_USER\u001b[49m\u001b[43m,\u001b[49m\n\u001b[0;32m      7\u001b[0m \u001b[43m    \u001b[49m\u001b[43mpassword\u001b[49m\u001b[38;5;241;43m=\u001b[39;49m\u001b[43mConfigEnv\u001b[49m\u001b[38;5;241;43m.\u001b[39;49m\u001b[43mNEO4J_PASSWORD\u001b[49m\u001b[43m,\u001b[49m\n\u001b[0;32m      8\u001b[0m \u001b[43m    \u001b[49m\u001b[43mindex_name\u001b[49m\u001b[38;5;241;43m=\u001b[39;49m\u001b[38;5;124;43m\"\u001b[39;49m\u001b[38;5;124;43mcontext_index\u001b[39;49m\u001b[38;5;124;43m\"\u001b[39;49m\u001b[43m,\u001b[49m\n\u001b[0;32m      9\u001b[0m \u001b[43m    \u001b[49m\u001b[43mnode_label\u001b[49m\u001b[38;5;241;43m=\u001b[39;49m\u001b[38;5;124;43m\"\u001b[39;49m\u001b[38;5;124;43mCONTEXT\u001b[39;49m\u001b[38;5;124;43m\"\u001b[39;49m\u001b[43m,\u001b[49m\n\u001b[0;32m     10\u001b[0m \u001b[43m    \u001b[49m\u001b[38;5;66;43;03m# text_node_properties=[\"text_content\"],\u001b[39;49;00m\n\u001b[0;32m     11\u001b[0m \u001b[43m    \u001b[49m\u001b[43membedding_node_property\u001b[49m\u001b[38;5;241;43m=\u001b[39;49m\u001b[38;5;124;43m\"\u001b[39;49m\u001b[38;5;124;43membedding\u001b[39;49m\u001b[38;5;124;43m\"\u001b[39;49m\u001b[43m,\u001b[49m\n\u001b[0;32m     12\u001b[0m \u001b[43m)\u001b[49m\n",
      "\u001b[1;31mTypeError\u001b[0m: Neo4jVector.from_existing_graph() missing 1 required positional argument: 'text_node_properties'"
     ]
    }
   ],
   "source": [
    "\n",
    "index_name = \"context_index\"  # default index name\n",
    "\n",
    "existing_graph = Neo4jVector.from_existing_graph(\n",
    "    embedding=embedding_model,\n",
    "    url=ConfigEnv.NEO4J_URI,\n",
    "    username=ConfigEnv.NEO4J_USER,\n",
    "    password=ConfigEnv.NEO4J_PASSWORD,\n",
    "    index_name=\"context_index\",\n",
    "    node_label=\"CONTEXT\",\n",
    "    # text_node_properties=[\"text_content\"],\n",
    "    embedding_node_property=\"embedding\",\n",
    ")"
   ]
  },
  {
   "cell_type": "code",
   "execution_count": 26,
   "metadata": {},
   "outputs": [
    {
     "data": {
      "text/plain": [
       "[]"
      ]
     },
     "execution_count": 26,
     "metadata": {},
     "output_type": "execute_result"
    }
   ],
   "source": [
    "existing_graph.search(\"Utilization behavior (UB) consists of reaching out and using objects in the environment in an automatic mann\", search_type=\"mmr\")"
   ]
  },
  {
   "cell_type": "code",
   "execution_count": 3,
   "metadata": {},
   "outputs": [
    {
     "name": "stderr",
     "output_type": "stream",
     "text": [
      "Executing retriever...: 100%|██████████| 3/3 [00:00<00:00,  3.21it/s]\n"
     ]
    },
    {
     "data": {
      "text/plain": [
       "{1682: [{'pmid': '26598646',\n",
       "   'content': 'Covalent post-translational modifications (PTMs) of proteins can regulate the structural and functional state of a protein in the absence of primary changes in the underlying sequence. Common PTMs include phosphorylation, acetylation, and methylation. Histone proteins are critical regulators of the genome and are subject to a highly abundant and diverse array of PTMs. To highlight the functional complexity added to the proteome by lysine methylation signaling, here we will focus on lysine methylation of histone proteins, an important modification in the regulation of chromatin and epigenetic processes. We review the signaling pathways and functions associated with a single residue, H4K20, as a model chromatin and clinically important mark that regulates biological processes ranging from the DNA damage response and DNA replication to gene expression and silencing.',\n",
       "   'score': 0.8392342925071716},\n",
       "  {'pmid': '20735237',\n",
       "   'content': 'The molecular biology of histone H4 lysine 20 (H4K20) methylation, like many other post-translational modifications of histones, has been the subject of intensive interest in recent years. While there is an emerging consensus linking H4K20me1, H4K20me2, and H4K20me3 to transcription, repair, and constitutive heterochromatin, respectively, the specific details of these associations and the biological mechanisms by which the methylated histones are introduced and function are now the subject of active investigation. Although a large number of methylases capable of methylating H4K20 have been identified and characterized; there is no known demethylase of H4K20, though the search is ongoing. Additionally, many recent studies have been directed at understanding the role of methylated H4K20 and other histone modifications associated with different biological processes in the context of a combinatorial histone code. It seems likely that continued study of the methylation of H4K20 will yield extremely valuable insights concerning the regulation of histone modifications before and during cell division and the impact of these modifications on subsequent gene expression.',\n",
       "   'score': 0.8274540901184082},\n",
       "  {'pmid': '19270706',\n",
       "   'content': 'We used high-resolution SNP genotyping to identify regions of genomic gain and loss in the genomes of 212 medulloblastomas, malignant pediatric brain tumors. We found focal amplifications of 15 known oncogenes and focal deletions of 20 known tumor suppressor genes (TSG), most not previously implicated in medulloblastoma. Notably, we identified previously unknown amplifications and homozygous deletions, including recurrent, mutually exclusive, highly focal genetic events in genes targeting histone lysine methylation, particularly that of histone 3, lysine 9 (H3K9). Post-translational modification of histone proteins is critical for regulation of gene expression, can participate in determination of stem cell fates and has been implicated in carcinogenesis. Consistent with our genetic data, restoration of expression of genes controlling H3K9 methylation greatly diminishes proliferation of medulloblastoma in vitro. Copy number aberrations of genes with critical roles in writing, reading, removing and blocking the state of histone lysine methylation, particularly at H3K9, suggest that defective control of the histone code contributes to the pathogenesis of medulloblastoma.',\n",
       "   'score': 0.8076298832893372},\n",
       "  {'pmid': '28413449',\n",
       "   'content': 'BACKGROUND: DNA methylation is an epigenetic modification that is enriched in heterochromatin but depleted at active promoters and enhancers. However, the debate on whether or not DNA methylation is a reliable indicator of high nucleosome occupancy has not been settled. For example, the methylation levels of DNA flanking CTCF sites are higher in linker DNA than in nucleosomal DNA, while other studies have shown that the nucleosome core is the preferred site of methylation. In this study, we make progress toward understanding these conflicting phenomena by implementing a bioinformatics approach that combines MNase-seq and NOMe-seq data and by comprehensively profiling DNA methylation and nucleosome occupancy throughout the human genome. RESULTS: The results demonstrated that increasing methylated CpG density is correlated with nucleosome occupancy in the total genome and within nearly all subgenomic regions. Features with elevated methylated CpG density such as exons, SINE-Alu sequences, H3K36-trimethylated peaks, and methylated CpG islands are among the highest nucleosome occupied elements in the genome, while some of the lowest occupancies are displayed by unmethylated CpG islands and unmethylated transcription factor binding sites. Additionally, outside of CpG islands, the density of CpGs within nucleosomes was shown to be important for the nucleosomal location of DNA methylation with low CpG frequencies favoring linker methylation and high CpG frequencies favoring core particle methylation. Prominent exceptions to the correlations between methylated CpG density and nucleosome occupancy include CpG islands marked by H3K27me3 and CpG-poor heterochromatin marked by H3K9me3, and these modifications, along with DNA methylation, distinguish the major silencing mechanisms of the human epigenome. CONCLUSIONS: Thus, the relationship between DNA methylation and nucleosome occupancy is influenced by the density of methylated CpG dinucleotides and by other epigenomic components in chromatin.',\n",
       "   'score': 0.7908698320388794},\n",
       "  {'pmid': '23345616',\n",
       "   'content': 'Maintenance of genomic integrity is essential to ensure normal organismal development and to prevent diseases such as cancer. Nuclear DNA is packaged into chromatin, and thus genome maintenance can be influenced by distinct chromatin environments. In particular, post-translational modifications of histones have emerged as key regulators of genomic integrity. Intense research during the past few years has revealed histone H4 lysine 20 methylation (H4K20me) as critically important for the biological processes that ensure genome integrity, such as DNA damage repair, DNA replication and chromatin compaction. The distinct H4K20 methylation states are mediated by SET8/PR-Set7 that catalyses monomethylation of H4K20, whereas SUV4-20H1 and SUV4-20H2 enzymes mediate further H4K20 methylation to H4K20me2 and H4K20me3. Disruption of these H4K20-specific histone methyltransferases leads to genomic instability, demonstrating the important functions of H4K20 methylation in genome maintenance. In this review, we explain molecular mechanisms underlying these defects and discuss novel ideas for furthering our understanding of genome maintenance in higher eukaryotes.',\n",
       "   'score': 0.787659227848053},\n",
       "  {'pmid': '23754963',\n",
       "   'content': 'Mammalian DNA replication starts at distinct chromosomal sites in a tissue-specific pattern coordinated with transcription, but previous studies have not yet identified a chromatin modification that correlates with the initiation of DNA replication at particular genomic locations. Here we report that a distinct fraction of replication initiation sites in the human genome are associated with a high frequency of dimethylation of histone H3 lysine K79 (H3K79Me2). H3K79Me2-containing chromatin exhibited the highest genome-wide enrichment for replication initiation events observed for any chromatin modification examined thus far (23.39% of H3K79Me2 peaks were detected in regions adjacent to replication initiation events). The association of H3K79Me2 with replication initiation sites was independent and not synergistic with other chromatin modifications. H3K79 dimethylation exhibited wider distribution on chromatin during S-phase, but only regions with H3K79 methylation in G1 and G2 were enriched in replication initiation events. H3K79 was dimethylated in a region containing a functional replicator (a DNA sequence capable of initiating DNA replication), but the methylation was not evident in a mutant replicator that could not initiate replication. Depletion of DOT1L, the sole enzyme responsible for H3K79 methylation, triggered limited genomic over-replication although most cells could continue to proliferate and replicate DNA in the absence of methylated H3K79. Thus, prevention of H3K79 methylation might affect regulatory processes that modulate the order and timing of DNA replication. These data are consistent with the hypothesis that dimethylated H3K79 associates with some replication origins and marks replicated chromatin during S-phase to prevent re-replication and preserve genomic stability.',\n",
       "   'score': 0.7714850306510925},\n",
       "  {'pmid': '24013172',\n",
       "   'content': 'Faithful propagation of DNA methylation patterns during DNA replication is critical for maintaining cellular phenotypes of individual differentiated cells. Although it is well established that Uhrf1 (ubiquitin-like with PHD and ring finger domains 1; also known as Np95 and ICBP90) specifically binds to hemi-methylated DNA through its SRA (SET and RING finger associated) domain and has an essential role in maintenance of DNA methylation by recruiting Dnmt1 to hemi-methylated DNA sites, the mechanism by which Uhrf1 coordinates the maintenance of DNA methylation and DNA replication is largely unknown. Here we show that Uhrf1-dependent histone H3 ubiquitylation has a prerequisite role in the maintenance DNA methylation. Using Xenopus egg extracts, we successfully reproduce maintenance DNA methylation in vitro. Dnmt1 depletion results in a marked accumulation of Uhrf1-dependent ubiquitylation of histone H3 at lysine 23. Dnmt1 preferentially associates with ubiquitylated H3 in vitro though a region previously identified as a replication foci targeting sequence. The RING finger mutant of Uhrf1 fails to recruit Dnmt1 to DNA replication sites and maintain DNA methylation in mammalian cultured cells. Our findings represent the first evidence, to our knowledge, of the mechanistic link between DNA methylation and DNA replication through histone H3 ubiquitylation.',\n",
       "   'score': 0.7588621377944946},\n",
       "  {'pmid': '27131378',\n",
       "   'content': 'The methylation state of lysine 20 on histone H4 (H4K20) has been linked to chromatin compaction, transcription, DNA repair and DNA replication. Monomethylation of H4K20 (H4K20me1) is mediated by the cell cycle-regulated histone methyltransferase PR-Set7. PR-Set7 depletion in mammalian cells results in defective S phase progression and the accumulation of DNA damage, which has been partially attributed to defects in origin selection and activation. However, these studies were limited to only a handful of mammalian origins, and it remains unclear how PR-Set7 and H4K20 methylation impact the replication program on a genomic scale. We employed genetic, cytological, and genomic approaches to better understand the role of PR-Set7 and H4K20 methylation in regulating DNA replication and genome stability in Drosophila cells. We find that deregulation of H4K20 methylation had no impact on origin activation throughout the genome. Instead, depletion of PR-Set7 and loss of H4K20me1 results in the accumulation of DNA damage and an ATR-dependent cell cycle arrest. Coincident with the ATR-dependent cell cycle arrest, we find increased DNA damage that is specifically limited to late replicating regions of the Drosophila genome, suggesting that PR-Set7-mediated monomethylation of H4K20 is critical for maintaining the genomic integrity of late replicating domains.',\n",
       "   'score': 0.7578957080841064},\n",
       "  {'pmid': '24049080',\n",
       "   'content': 'The delivery of site-specific post-translational modifications to histones generates an epigenetic regulatory network that directs fundamental DNA-mediated processes and governs key stages in development. Methylation of histone H4 lysine-20 has been implicated in DNA repair, transcriptional silencing, genomic stability and regulation of replication. We present the structure of the histone H4K20 methyltransferase Suv4-20h2 in complex with its histone H4 peptide substrate and S-adenosyl methionine cofactor. Analysis of the structure reveals that the Suv4-20h2 active site diverges from the canonical SET domain configuration and generates a high degree of both substrate and product specificity. Together with supporting biochemical data comparing Suv4-20h1 and Suv4-20h2, we demonstrate that the Suv4-20 family enzymes take a previously mono-methylated H4K20 substrate and generate an exclusively di-methylated product. We therefore predict that other enzymes are responsible for the tri-methylation of histone H4K20 that marks silenced heterochromatin.',\n",
       "   'score': 0.7308673858642578},\n",
       "  {'pmid': '23179372',\n",
       "   'content': 'Recent studies showed frequent mutations in histone H3 lysine 27 (H3K27) demethylases in medulloblastomas of Group 3 and Group 4, suggesting a role for H3K27 methylation in these tumors. Indeed, trimethylated H3K27 (H3K27me3) levels were shown to be higher in Group 3 and 4 tumors compared to WNT and SHH medulloblastomas, also in tumors without detectable mutations in demethylases. Here, we report that polycomb genes, required for H3K27 methylation, are consistently upregulated in Group 3 and 4 tumors. These tumors show high expression of the homeobox transcription factor OTX2. Silencing of OTX2 in D425 medulloblastoma cells resulted in downregulation of polycomb genes such as EZH2, EED, SUZ12 and RBBP4 and upregulation of H3K27 demethylases KDM6A, KDM6B, JARID2 and KDM7A. This was accompanied by decreased H3K27me3 and increased H3K27me1 levels in promoter regions. Strikingly, the decrease of H3K27me3 was most prominent in promoters that bind OTX2. OTX2-bound promoters showed high levels of the H3K4me3 and H3K9ac activation marks and intermediate levels of the H3K27me3 inactivation mark, reminiscent of a bivalent modification. After silencing of OTX2, H3K27me3 levels strongly dropped, but H3K4me3 and H3K9ac levels remained high. OTX2-bound bivalent genes showed high expression levels in D425, but the expression of most of these genes did not change after OTX2 silencing and loss of the H3K27me3 mark. Maintaining promoters in a bivalent state by sustaining H3K27 trimethylation therefore seems to be an important function of OTX2 in medulloblastoma, while other transcription factors might regulate the actual expression levels of these genes.',\n",
       "   'score': 0.7294235229492188}],\n",
       " 3722: [{'pmid': '12034751',\n",
       "   'content': 'STAG/SA proteins are specific cohesin complex subunits that maintain sister chromatid cohesion in mitosis and meiosis. Two members of this family, STAG1/SA1 and STAG2/SA2,double dagger are classified as mitotic cohesins, as they are found in human somatic cells and in Xenopus laevis as components of the cohesin(SA1) and cohesin(SA2) complexes, in which the shared subunits are Rad21/SCC1, SMC1 and SMC3 proteins. A recently reported third family member, STAG3, is germinal cell-specific and is a subunit of the meiotic cohesin complex. To date, the meiosis-specific cohesin complex has been considered to be responsible for sister chromatid cohesion during meiosis. We studied replacement of the mitotic by the meiotic cohesin complex during mouse germinal cell maturation, and we show that mammalian STAG2 and Rad21 are also involved in several meiosis stages. Immunofluorescence results suggest that a cohesin complex containing Rad21 and STAG2 cooperates with a STAG3-specific complex to maintain sister chromatid cohesion during the diplotene stage of meiosis.',\n",
       "   'score': 0.7689440250396729},\n",
       "  {'pmid': '28430577',\n",
       "   'content': 'Cohesin is a multi-protein complex that tethers sister chromatids during mitosis and mediates DNA repair, genome compartmentalisation and regulation of gene expression. Cohesin subunits frequently acquire cancer loss-of-function alterations and act as tumour suppressors in several tumour types. This has led to increased interest in cohesin as potential target in anti-cancer therapy. Here we show that the loss-of-function of STAG2, a core component of cohesin and an emerging tumour suppressor, leads to synthetic dependency of mutated cancer cells on its paralog STAG1. STAG1 and STAG2 share high sequence identity, encode mutually exclusive cohesin subunits and retain partially overlapping functions. We inhibited STAG1 and STAG2 in several cancer cell lines where the two genes have variable mutation and copy number status. In all cases, we observed that the simultaneous blocking of STAG1 and STAG2 significantly reduces cell proliferation. We further confirmed the synthetic lethal interaction developing a vector-free CRISPR system to induce STAG1/STAG2 double gene knockout. We provide strong evidence that STAG1 is a promising therapeutic target in cancers with inactivating alterations of STAG2.',\n",
       "   'score': 0.7571097612380981}],\n",
       " 1235: [{'pmid': '23095687',\n",
       "   'content': 'BACKGROUND: We analysed the survival of patients after glioma diagnosis in relation to the use of wireless phones. METHODS: All cases diagnosed between 1997 and 2003 with a malignant brain tumour (n = 1,251) in our case-control studies were included and followed from the date of diagnosis to the date of death or until May 30, 2012. RESULTS: For glioma, the use of wireless phones (mobile and cordless phones) gave a hazard ratio (HR) = 1.1 (95% confidence interval, CI = 0.9-1.2), with > 10-year latency HR = 1.2 (95% CI = 1.002-1.5, p trend = 0.02). For astrocytoma grade I-II (low-grade), the results were, HR = 0.5 (95% CI = 0.3-0.9) and for astrocytoma grade IV (glioblastoma), HR = 1.1 (95% CI = 0.95-1.4), with > 10 year latency HR = 1.3 (95% CI = 1.03-1.7). In the highest tertile (> 426 h) of cumulative use, HR = 1.2 (95% CI = 0.95-1.5) was found for glioblastoma. The results were similar for mobile and cordless phones. CONCLUSIONS: Decreased survival of glioma cases with long-term and high cumulative use of wireless phones was found. A survival disadvantage for astrocytoma grade IV, but a survival benefit for astrocytoma grade I-II was observed which could be due to exposure-related tumour symptoms leading to earlier diagnosis and surgery in that patient group.',\n",
       "   'score': 0.788306713104248},\n",
       "  {'pmid': '17851009',\n",
       "   'content': 'BACKGROUND: Use of cell phones has increased dramatically since 1992 when they were first introduced in France. Certain electromagnetic fields (at extremely low frequency) have been recognized as possibly carcinogenic by the International Agency for Research on Cancer. Given the use of radiofrequency technology in cell phones, the rapid increase in the number of cell phones has generated concerns about the existence of a potential health hazard. To evaluate the relationship between the use of cell phones and the development of tumors of the head, a multicentric international study (INTERPHONE), coordinated by the International Agency for Research on Cancer, was carried out in 13 countries. This publication reports the results of the French part of the INTERPHONE study. METHODS: INTERPHONE is a case-control study focused on tumors of the brain and central nervous system: gliomas, meningiomas and neuromas of cranial nerves. Eligible cases were men and women, residents of Paris or Lyon, aged 30-59, newly diagnosed with a first primary tumor between February 2001 and August 2003. The diagnoses were all either histologically confirmed or based upon unequivocal radiological images. Controls were matched for gender, age (+/-5 years) and place of residence. They were randomly drawn from electoral rolls. Detailed information was collected for all subjects during a computer-assisted face-to-face interview. Conditional logistic regression was used to estimate the odds ratio (OR) for an association between the use of cell phones and risk of each type of cancer. RESULTS: Regular cell phone use was not associated with an increased risk of neuroma (OR=0,92; 95% confidence interval=[0.53-1.59]), meningioma (OR=0,74; 95% confidence interval=[0.43-1.28]) or glioma (OR=1.15; 95% confidence interval=[0.65-2.05]). Although these results are not statistically significant, a general tendency was observed for an increased risk of glioma among the heaviest users: long-term users, heavy users, users with the largest numbers of telephones. CONCLUSION: No significant increased risk for glioma, meningioma or neuroma was observed among cell phone users participating in Interphone. The statistical power of the study is limited, however. Our results, suggesting the possibility of an increased risk among the heaviest users, therefore need to be verified in the international INTERPHONE analyses.',\n",
       "   'score': 0.7714697122573853},\n",
       "  {'pmid': '24064953',\n",
       "   'content': \"Previous studies have shown a consistent association between long-term use of mobile and cordless phones and glioma and acoustic neuroma, but not for meningioma. When used these phones emit radiofrequency electromagnetic fields (RF-EMFs) and the brain is the main target organ for the handheld phone. The International Agency for Research on Cancer (IARC) classified in May, 2011 RF-EMF as a group 2B, i.e. a 'possible' human carcinogen. The aim of this study was to further explore the relationship between especially long-term (>10 years) use of wireless phones and the development of malignant brain tumours. We conducted a new case-control study of brain tumour cases of both genders aged 18-75 years and diagnosed during 2007-2009. One population-based control matched on gender and age (within 5 years) was used to each case. Here, we report on malignant cases including all available controls. Exposures on e.g. use of mobile phones and cordless phones were assessed by a self-administered questionnaire. Unconditional logistic regression analysis was performed, adjusting for age, gender, year of diagnosis and socio-economic index using the whole control sample. Of the cases with a malignant brain tumour, 87% (n=593) participated, and 85% (n=1,368) of controls in the whole study answered the questionnaire. The odds ratio (OR) for mobile phone use of the analogue type was 1.8, 95% confidence interval (CI)=1.04‑3.3, increasing with >25 years of latency (time since first exposure) to an OR=3.3, 95% CI=1.6-6.9. Digital 2G mobile phone use rendered an OR=1.6, 95% CI=0.996-2.7, increasing with latency >15-20 years to an OR=2.1, 95% CI=1.2-3.6. The results for cordless phone use were OR=1.7, 95% CI=1.1-2.9, and, for latency of 15-20 years, the OR=2.1, 95% CI=1.2-3.8. Few participants had used a cordless phone for >20-25 years. Digital type of wireless phones (2G and 3G mobile phones, cordless phones) gave increased risk with\",\n",
       "   'score': 0.765315592288971},\n",
       "  {'pmid': '24064953',\n",
       "   'content': '3.6. The results for cordless phone use were OR=1.7, 95% CI=1.1-2.9, and, for latency of 15-20 years, the OR=2.1, 95% CI=1.2-3.8. Few participants had used a cordless phone for >20-25 years. Digital type of wireless phones (2G and 3G mobile phones, cordless phones) gave increased risk with latency >1-5 years, then a lower risk in the following latency groups, but again increasing risk with latency >15-20 years. Ipsilateral use resulted in a higher risk than contralateral mobile and cordless phone use. Higher ORs were calculated for tumours in the temporal and overlapping lobes. Using the meningioma cases in the same study as reference entity gave somewhat higher ORs indicating that the results were unlikely to be explained by recall or observational bias. This study confirmed previous results of an association between mobile and cordless phone use and malignant brain tumours. These findings provide support for the hypothesis that RF-EMFs play a role both in the initiation and promotion stages of carcinogenesis.',\n",
       "   'score': 0.7627575397491455},\n",
       "  {'pmid': '10375602',\n",
       "   'content': \"The use of cellular telephones has increased dramatically during the 1990's in the world. In the 1980's the analogue NMT system was used whereas the digital GSM system was introduced in early 1990's and is now the preferred system. Case reports of brain tumours in users initiated this case-control study on brain tumours and use of cellular telephones. Also other exposures were assessed. All cases, both males and females, with histopathologically verified brain tumour living in Uppsala-Orebro region (1994-96) and Stockholm region (1995-96) aged 20-80 at the time of diagnosis and alive at start of the study were included, 233 in total. Two controls to each case were selected from the Swedish Population Register matched for sex, age and study region. Exposure was assessed by questionnaires supplemented over the phone. The analyses were based on answers from 209 (90%) cases and 425 (91%) controls. Use of cellular telephone gave odds ratio (OR) = 0.98 with 95% confidence interval (CI) = 0. 69-1.41. For the digital GSM system OR = 0.97, CI = 0.61-1.56 and for the analogue NMT system OR = 0.94, CI = 0.62-1.44 were calculated. Dose-response analysis and using different tumour induction periods gave similar results. Non-significantly increased risk was found for tumour in the temporal or occipital lobe on the same side as a cellular phone had been used, right side OR = 2.45, CI = 0.78-7.76, left side OR = 2.40, CI = 0.52-10.9 Increased risk was found only for use of the NMT system. For GSM use the observation time is still too short for definite conclusions. An increased risk for brain tumour in the anatomical area close to the use of a cellular telephone should be especially studied in the future.\",\n",
       "   'score': 0.7618776559829712},\n",
       "  {'pmid': '12527940',\n",
       "   'content': 'We included in a case-control study on brain tumours and mobile and cordless telephones 1,617 patients aged 20-80 years of both sexes diagnosed during January 1, 1997 to June 30, 2000. They were alive at the study time and had histopathology verified brain tumour. One matched control to each case was selected from the Swedish Population Register. The study area was the Uppsala-Orebro, Stockholm, Linkoping and Goteborg medical regions of Sweden. Exposure was assessed by a questionnaire that was answered by 1,429 (88%) cases and 1,470 (91%) controls. In total use of analogue cellular telephones gave an increased risk with odds ratio (OR)=1.3, 95% confidence interval (CI)=1.04-1.6, whereas digital and cordless phones did not overall increase the risk significantly. Ipsilateral use of analogue phones gave OR=1.7, 95% CI=1.2-2.3, digital phones OR=1.3, 95% CI=1.02-1.8 and cordless phones OR=1.2, 95% CI=0.9-1.6. The risk for ipsilateral use was significantly increased for astrocytoma for all studied phone types, analogue phones OR=1.8,95% CI=1.1-3.2, digital phones OR=1.8, 95% CI=1.1-2.8, cordless phones OR=1.8, 95% CI=1.1-2.9. Use of a telephone on the opposite side of the brain was not associated with a significantly increased risk for brain tumours. Regarding anatomical area of the tumour and exposure to microwaves, the risk was increased for tumours located in the temporal area on the same side of the brain that was used during phone calls, significantly so for analogue cellular telephones OR=2.3, 95% CI=1.2-4.1. For acoustic neurinoma OR=4.4, 95% CI=2.1-9.2 was calculated among analogue cellular telephone users. When duration of use was analysed as a continuous variable in the total material, the risk increased per year for analogue phones with OR=1.04, 95% CI=1.01-1.08. For astrocytoma and ipsilateral use',\n",
       "   'score': 0.7559013366699219},\n",
       "  {'pmid': '12527940',\n",
       "   'content': '2.3, 95% CI=1.2-4.1. For acoustic neurinoma OR=4.4, 95% CI=2.1-9.2 was calculated among analogue cellular telephone users. When duration of use was analysed as a continuous variable in the total material, the risk increased per year for analogue phones with OR=1.04, 95% CI=1.01-1.08. For astrocytoma and ipsilateral use the trend was for analogue phones OR=1.10, 95% CI=1.02-1.19, digital phones OR=1.11, 95% CI=1.01-1.22, and cordless phones OR=1.09, 95% CI=1.01-1.19. There was a tendency of a shorter tumour induction period for ipsilateral exposure to microwaves than for contralateral, which may indicate a tumour promotor effect.',\n",
       "   'score': 0.7257356643676758},\n",
       "  {'pmid': '23261330',\n",
       "   'content': \"The International Agency for Research on Cancer (IARC) at WHO evaluation of the carcinogenic effect of RF-EMF on humans took place during a 24-31 May 2011 meeting at Lyon in France. The Working Group consisted of 30 scientists and categorised the radiofrequency electromagnetic fields from mobile phones, and from other devices that emit similar non-ionising electromagnetic fields (RF-EMF), as Group 2B, i.e., a 'possible', human carcinogen. The decision on mobile phones was based mainly on the Hardell group of studies from Sweden and the IARC Interphone study. We give an overview of current epidemiological evidence for an increased risk for brain tumours including a meta-analysis of the Hardell group and Interphone results for mobile phone use. Results for cordless phones are lacking in Interphone. The meta-analysis gave for glioma in the most exposed part of the brain, the temporal lobe, odds ratio (OR)=1.71, 95% confidence interval (CI)=1.04-2.81 in the >/=10 years (>10 years in the Hardell group) latency group. Ipsilateral mobile phone use >/=1640h in total gave OR=2.29, 95% CI=1.56-3.37. The results for meningioma were OR=1.25, 95% CI=0.31-4.98 and OR=1.35, 95% CI=0.81-2.23, respectively. Regarding acoustic neuroma ipsilateral mobile phone use in the latency group >/=10 years gave OR=1.81, 95% CI=0.73-4.45. For ipsilateral cumulative use >/=1640h OR=2.55, 95% CI=1.50-4.40 was obtained. Also use of cordless phones increased the risk for glioma and acoustic neuroma in the Hardell group studies. Survival of patients with glioma was analysed in the Hardell group studies yielding in the >10 years latency period hazard ratio (HR)=1.2, 95% CI=1.002-1.5 for use of wireless phones. This increased HR was based on results for astrocytoma WHO grade IV (glioblastoma multiforme). Decreased HR was found for low-grade astrocytoma, WHO grades I-II, which might be caused by RF-EMF exposure leading to tumour-associated symptoms and earlier\",\n",
       "   'score': 0.7163815498352051},\n",
       "  {'pmid': '23261330',\n",
       "   'content': \" the Hardell group studies yielding in the >10 years latency period hazard ratio (HR)=1.2, 95% CI=1.002-1.5 for use of wireless phones. This increased HR was based on results for astrocytoma WHO grade IV (glioblastoma multiforme). Decreased HR was found for low-grade astrocytoma, WHO grades I-II, which might be caused by RF-EMF exposure leading to tumour-associated symptoms and earlier detection and surgery with better prognosis. Some studies show increasing incidence of brain tumours whereas other studies do not. It is concluded that one should be careful using incidence data to dismiss results in analytical epidemiology. The IARC carcinogenic classification does not seem to have had any significant impact on governments' perceptions of their responsibilities to protect public health from this widespread source of radiation.\",\n",
       "   'score': 0.7102558612823486}]}"
      ]
     },
     "execution_count": 3,
     "metadata": {},
     "output_type": "execute_result"
    }
   ],
   "source": [
    "\n",
    "\n",
    "def run_retriever(benchmark_data: list, retriever) -> dict:\n",
    "    results = {}\n",
    "    for sample in tqdm(benchmark_data, desc=\"Executing retriever...\"):\n",
    "        sample_id = sample.get('id')\n",
    "        question = sample.get('question')\n",
    "        retrieved_data = retriever.invoke(question)\n",
    "        results[sample_id] = retrieved_data\n",
    "    return results\n",
    "\n",
    "results = run_retriever(benchmark_data=data, retriever=vector_search_tool)\n",
    "results"
   ]
  },
  {
   "cell_type": "code",
   "execution_count": null,
   "metadata": {},
   "outputs": [
    {
     "name": "stdout",
     "output_type": "stream",
     "text": [
      "defaultdict(<class 'dict'>, {'precision@1': 0.6666666666666666, 'recall@1': 0.056644880174291944, 'f1@1': 0.1037037037037037, 'mrr@1': 0.6666666666666666, 'ndcg@1': 0.6666666666666666, 'success@1': 0.6666666666666666, 'map@1': 0.056644880174291944, 'coverage@1': 0.06896551724137931, 'precision@3': 0.7777777777777777, 'recall@3': 0.24400871459694992, 'f1@3': 0.3323232323232323, 'mrr@3': 0.7777777777777777, 'ndcg@3': 0.6666666666666666, 'success@3': 1.0, 'map@3': 0.1699346405228758, 'coverage@3': 0.20689655172413793, 'precision@5': 0.6666666666666666, 'recall@5': 0.26361655773420484, 'f1@5': 0.3257575757575757, 'mrr@5': 0.7777777777777777, 'ndcg@5': 0.5959286110065073, 'success@5': 1.0, 'map@5': 0.20915032679738563, 'coverage@5': 0.2413793103448276, 'precision@10': 0.6222222222222222, 'recall@10': 0.4139433551198257, 'f1@10': 0.37762237762237766, 'mrr@10': 0.7777777777777777, 'ndcg@10': 0.5633377760765029, 'success@10': 1.0, 'map@10': 0.30980392156862746, 'coverage@10': 0.3448275862068966, 'precision@20': 0.6222222222222222, 'recall@20': 0.4139433551198257, 'f1@20': 0.37762237762237766, 'mrr@20': 0.7777777777777777, 'ndcg@20': 0.4746918438680991, 'success@20': 1.0, 'map@20': 0.30980392156862746, 'coverage@20': 0.3448275862068966})\n"
     ]
    }
   ],
   "source": [
    "\n",
    "\n",
    "metrics, new_evaluator = run_evaluation_on_retrieved_chunks(\n",
    "    retrieval_results=results,\n",
    "    benchmark_data=data\n",
    ")\n",
    "print(metrics)"
   ]
  },
  {
   "cell_type": "code",
   "execution_count": null,
   "metadata": {},
   "outputs": [],
   "source": []
  },
  {
   "cell_type": "code",
   "execution_count": null,
   "metadata": {},
   "outputs": [],
   "source": []
  },
  {
   "cell_type": "markdown",
   "metadata": {},
   "source": [
    "### RAGAS METRICS"
   ]
  },
  {
   "cell_type": "code",
   "execution_count": 6,
   "metadata": {},
   "outputs": [],
   "source": [
    "vector_search_tool = VectorSimilaritySearchTool(\n",
    "        llm=llm,\n",
    "        embedding_model=embedding_model,\n",
    "        neo4j_connection=neo4j_connection,\n",
    "        return_direct=False,\n",
    "    )"
   ]
  },
  {
   "cell_type": "code",
   "execution_count": 11,
   "metadata": {},
   "outputs": [],
   "source": [
    "results = vector_search_tool.invoke(\"What is the implication of histone lysine methylation in medulloblastoma?\")"
   ]
  },
  {
   "cell_type": "code",
   "execution_count": 27,
   "metadata": {},
   "outputs": [
    {
     "name": "stdout",
     "output_type": "stream",
     "text": [
      "Histone lysine methylation, particularly at H3K9, is implicated in the pathogenesis of medulloblastoma. Copy number aberrations in genes involved in writing, reading, removing, and blocking histone lysine methylation suggest that defective control of the histone code contributes to the development of this cancer. Additionally, the study found that restoration of expression of genes controlling H3K9 methylation greatly diminishes proliferation of medulloblastoma in vitro.\n"
     ]
    }
   ],
   "source": [
    "print(results['answer'])"
   ]
  },
  {
   "cell_type": "code",
   "execution_count": 17,
   "metadata": {},
   "outputs": [
    {
     "data": {
      "text/plain": [
       "['Covalent post-translational modifications (PTMs) of proteins can regulate the structural and functional state of a protein in the absence of primary changes in the underlying sequence. Common PTMs include phosphorylation, acetylation, and methylation. Histone proteins are critical regulators of the genome and are subject to a highly abundant and diverse array of PTMs. To highlight the functional complexity added to the proteome by lysine methylation signaling, here we will focus on lysine methylation of histone proteins, an important modification in the regulation of chromatin and epigenetic processes. We review the signaling pathways and functions associated with a single residue, H4K20, as a model chromatin and clinically important mark that regulates biological processes ranging from the DNA damage response and DNA replication to gene expression and silencing.',\n",
       " 'The molecular biology of histone H4 lysine 20 (H4K20) methylation, like many other post-translational modifications of histones, has been the subject of intensive interest in recent years. While there is an emerging consensus linking H4K20me1, H4K20me2, and H4K20me3 to transcription, repair, and constitutive heterochromatin, respectively, the specific details of these associations and the biological mechanisms by which the methylated histones are introduced and function are now the subject of active investigation. Although a large number of methylases capable of methylating H4K20 have been identified and characterized; there is no known demethylase of H4K20, though the search is ongoing. Additionally, many recent studies have been directed at understanding the role of methylated H4K20 and other histone modifications associated with different biological processes in the context of a combinatorial histone code. It seems likely that continued study of the methylation of H4K20 will yield extremely valuable insights concerning the regulation of histone modifications before and during cell division and the impact of these modifications on subsequent gene expression.',\n",
       " 'We used high-resolution SNP genotyping to identify regions of genomic gain and loss in the genomes of 212 medulloblastomas, malignant pediatric brain tumors. We found focal amplifications of 15 known oncogenes and focal deletions of 20 known tumor suppressor genes (TSG), most not previously implicated in medulloblastoma. Notably, we identified previously unknown amplifications and homozygous deletions, including recurrent, mutually exclusive, highly focal genetic events in genes targeting histone lysine methylation, particularly that of histone 3, lysine 9 (H3K9). Post-translational modification of histone proteins is critical for regulation of gene expression, can participate in determination of stem cell fates and has been implicated in carcinogenesis. Consistent with our genetic data, restoration of expression of genes controlling H3K9 methylation greatly diminishes proliferation of medulloblastoma in vitro. Copy number aberrations of genes with critical roles in writing, reading, removing and blocking the state of histone lysine methylation, particularly at H3K9, suggest that defective control of the histone code contributes to the pathogenesis of medulloblastoma.',\n",
       " 'BACKGROUND: DNA methylation is an epigenetic modification that is enriched in heterochromatin but depleted at active promoters and enhancers. However, the debate on whether or not DNA methylation is a reliable indicator of high nucleosome occupancy has not been settled. For example, the methylation levels of DNA flanking CTCF sites are higher in linker DNA than in nucleosomal DNA, while other studies have shown that the nucleosome core is the preferred site of methylation. In this study, we make progress toward understanding these conflicting phenomena by implementing a bioinformatics approach that combines MNase-seq and NOMe-seq data and by comprehensively profiling DNA methylation and nucleosome occupancy throughout the human genome. RESULTS: The results demonstrated that increasing methylated CpG density is correlated with nucleosome occupancy in the total genome and within nearly all subgenomic regions. Features with elevated methylated CpG density such as exons, SINE-Alu sequences, H3K36-trimethylated peaks, and methylated CpG islands are among the highest nucleosome occupied elements in the genome, while some of the lowest occupancies are displayed by unmethylated CpG islands and unmethylated transcription factor binding sites. Additionally, outside of CpG islands, the density of CpGs within nucleosomes was shown to be important for the nucleosomal location of DNA methylation with low CpG frequencies favoring linker methylation and high CpG frequencies favoring core particle methylation. Prominent exceptions to the correlations between methylated CpG density and nucleosome occupancy include CpG islands marked by H3K27me3 and CpG-poor heterochromatin marked by H3K9me3, and these modifications, along with DNA methylation, distinguish the major silencing mechanisms of the human epigenome. CONCLUSIONS: Thus, the relationship between DNA methylation and nucleosome occupancy is influenced by the density of methylated CpG dinucleotides and by other epigenomic components in chromatin.',\n",
       " 'Maintenance of genomic integrity is essential to ensure normal organismal development and to prevent diseases such as cancer. Nuclear DNA is packaged into chromatin, and thus genome maintenance can be influenced by distinct chromatin environments. In particular, post-translational modifications of histones have emerged as key regulators of genomic integrity. Intense research during the past few years has revealed histone H4 lysine 20 methylation (H4K20me) as critically important for the biological processes that ensure genome integrity, such as DNA damage repair, DNA replication and chromatin compaction. The distinct H4K20 methylation states are mediated by SET8/PR-Set7 that catalyses monomethylation of H4K20, whereas SUV4-20H1 and SUV4-20H2 enzymes mediate further H4K20 methylation to H4K20me2 and H4K20me3. Disruption of these H4K20-specific histone methyltransferases leads to genomic instability, demonstrating the important functions of H4K20 methylation in genome maintenance. In this review, we explain molecular mechanisms underlying these defects and discuss novel ideas for furthering our understanding of genome maintenance in higher eukaryotes.',\n",
       " 'Mammalian DNA replication starts at distinct chromosomal sites in a tissue-specific pattern coordinated with transcription, but previous studies have not yet identified a chromatin modification that correlates with the initiation of DNA replication at particular genomic locations. Here we report that a distinct fraction of replication initiation sites in the human genome are associated with a high frequency of dimethylation of histone H3 lysine K79 (H3K79Me2). H3K79Me2-containing chromatin exhibited the highest genome-wide enrichment for replication initiation events observed for any chromatin modification examined thus far (23.39% of H3K79Me2 peaks were detected in regions adjacent to replication initiation events). The association of H3K79Me2 with replication initiation sites was independent and not synergistic with other chromatin modifications. H3K79 dimethylation exhibited wider distribution on chromatin during S-phase, but only regions with H3K79 methylation in G1 and G2 were enriched in replication initiation events. H3K79 was dimethylated in a region containing a functional replicator (a DNA sequence capable of initiating DNA replication), but the methylation was not evident in a mutant replicator that could not initiate replication. Depletion of DOT1L, the sole enzyme responsible for H3K79 methylation, triggered limited genomic over-replication although most cells could continue to proliferate and replicate DNA in the absence of methylated H3K79. Thus, prevention of H3K79 methylation might affect regulatory processes that modulate the order and timing of DNA replication. These data are consistent with the hypothesis that dimethylated H3K79 associates with some replication origins and marks replicated chromatin during S-phase to prevent re-replication and preserve genomic stability.',\n",
       " 'Faithful propagation of DNA methylation patterns during DNA replication is critical for maintaining cellular phenotypes of individual differentiated cells. Although it is well established that Uhrf1 (ubiquitin-like with PHD and ring finger domains 1; also known as Np95 and ICBP90) specifically binds to hemi-methylated DNA through its SRA (SET and RING finger associated) domain and has an essential role in maintenance of DNA methylation by recruiting Dnmt1 to hemi-methylated DNA sites, the mechanism by which Uhrf1 coordinates the maintenance of DNA methylation and DNA replication is largely unknown. Here we show that Uhrf1-dependent histone H3 ubiquitylation has a prerequisite role in the maintenance DNA methylation. Using Xenopus egg extracts, we successfully reproduce maintenance DNA methylation in vitro. Dnmt1 depletion results in a marked accumulation of Uhrf1-dependent ubiquitylation of histone H3 at lysine 23. Dnmt1 preferentially associates with ubiquitylated H3 in vitro though a region previously identified as a replication foci targeting sequence. The RING finger mutant of Uhrf1 fails to recruit Dnmt1 to DNA replication sites and maintain DNA methylation in mammalian cultured cells. Our findings represent the first evidence, to our knowledge, of the mechanistic link between DNA methylation and DNA replication through histone H3 ubiquitylation.',\n",
       " 'The methylation state of lysine 20 on histone H4 (H4K20) has been linked to chromatin compaction, transcription, DNA repair and DNA replication. Monomethylation of H4K20 (H4K20me1) is mediated by the cell cycle-regulated histone methyltransferase PR-Set7. PR-Set7 depletion in mammalian cells results in defective S phase progression and the accumulation of DNA damage, which has been partially attributed to defects in origin selection and activation. However, these studies were limited to only a handful of mammalian origins, and it remains unclear how PR-Set7 and H4K20 methylation impact the replication program on a genomic scale. We employed genetic, cytological, and genomic approaches to better understand the role of PR-Set7 and H4K20 methylation in regulating DNA replication and genome stability in Drosophila cells. We find that deregulation of H4K20 methylation had no impact on origin activation throughout the genome. Instead, depletion of PR-Set7 and loss of H4K20me1 results in the accumulation of DNA damage and an ATR-dependent cell cycle arrest. Coincident with the ATR-dependent cell cycle arrest, we find increased DNA damage that is specifically limited to late replicating regions of the Drosophila genome, suggesting that PR-Set7-mediated monomethylation of H4K20 is critical for maintaining the genomic integrity of late replicating domains.',\n",
       " 'The delivery of site-specific post-translational modifications to histones generates an epigenetic regulatory network that directs fundamental DNA-mediated processes and governs key stages in development. Methylation of histone H4 lysine-20 has been implicated in DNA repair, transcriptional silencing, genomic stability and regulation of replication. We present the structure of the histone H4K20 methyltransferase Suv4-20h2 in complex with its histone H4 peptide substrate and S-adenosyl methionine cofactor. Analysis of the structure reveals that the Suv4-20h2 active site diverges from the canonical SET domain configuration and generates a high degree of both substrate and product specificity. Together with supporting biochemical data comparing Suv4-20h1 and Suv4-20h2, we demonstrate that the Suv4-20 family enzymes take a previously mono-methylated H4K20 substrate and generate an exclusively di-methylated product. We therefore predict that other enzymes are responsible for the tri-methylation of histone H4K20 that marks silenced heterochromatin.',\n",
       " 'Recent studies showed frequent mutations in histone H3 lysine 27 (H3K27) demethylases in medulloblastomas of Group 3 and Group 4, suggesting a role for H3K27 methylation in these tumors. Indeed, trimethylated H3K27 (H3K27me3) levels were shown to be higher in Group 3 and 4 tumors compared to WNT and SHH medulloblastomas, also in tumors without detectable mutations in demethylases. Here, we report that polycomb genes, required for H3K27 methylation, are consistently upregulated in Group 3 and 4 tumors. These tumors show high expression of the homeobox transcription factor OTX2. Silencing of OTX2 in D425 medulloblastoma cells resulted in downregulation of polycomb genes such as EZH2, EED, SUZ12 and RBBP4 and upregulation of H3K27 demethylases KDM6A, KDM6B, JARID2 and KDM7A. This was accompanied by decreased H3K27me3 and increased H3K27me1 levels in promoter regions. Strikingly, the decrease of H3K27me3 was most prominent in promoters that bind OTX2. OTX2-bound promoters showed high levels of the H3K4me3 and H3K9ac activation marks and intermediate levels of the H3K27me3 inactivation mark, reminiscent of a bivalent modification. After silencing of OTX2, H3K27me3 levels strongly dropped, but H3K4me3 and H3K9ac levels remained high. OTX2-bound bivalent genes showed high expression levels in D425, but the expression of most of these genes did not change after OTX2 silencing and loss of the H3K27me3 mark. Maintaining promoters in a bivalent state by sustaining H3K27 trimethylation therefore seems to be an important function of OTX2 in medulloblastoma, while other transcription factors might regulate the actual expression levels of these genes.']"
      ]
     },
     "execution_count": 17,
     "metadata": {},
     "output_type": "execute_result"
    }
   ],
   "source": [
    "contexts = [sample['content'] for sample in results['context']]\n",
    "contexts"
   ]
  },
  {
   "cell_type": "code",
   "execution_count": 24,
   "metadata": {},
   "outputs": [
    {
     "name": "stderr",
     "output_type": "stream",
     "text": [
      "2025-04-03 20:28:54,617 [DEBUG] llm - Initialized model gemini-2.0-flash-lite\n"
     ]
    }
   ],
   "source": [
    "from ragas.llms import LangchainLLMWrapper\n",
    "\n",
    "llm = ChatModel(provider=\"google\", model_name=\"gemini-2.0-flash-lite\").initialize_model()\n",
    "evaluator_llm = LangchainLLMWrapper(llm)"
   ]
  },
  {
   "cell_type": "code",
   "execution_count": 25,
   "metadata": {},
   "outputs": [
    {
     "name": "stdout",
     "output_type": "stream",
     "text": [
      "1.0\n"
     ]
    }
   ],
   "source": [
    "\n",
    "from ragas.dataset_schema import SingleTurnSample\n",
    "from ragas.metrics import ContextRelevance\n",
    "\n",
    "sample = SingleTurnSample(\n",
    "    user_input=\"What is the implication of histone lysine methylation in medulloblastoma?\",\n",
    "    retrieved_contexts=contexts\n",
    ")\n",
    "\n",
    "scorer = ContextRelevance(llm=evaluator_llm)\n",
    "score = await scorer.single_turn_ascore(sample)\n",
    "print(score)"
   ]
  },
  {
   "cell_type": "code",
   "execution_count": 32,
   "metadata": {},
   "outputs": [],
   "source": [
    "from ragas import EvaluationDataset\n",
    "\n",
    "\n",
    "dataset = []\n",
    "dataset.append(\n",
    "        {\n",
    "            \"id\": 1,\n",
    "            \"user_input\": \"What is the implication of histone lysine methylation in medulloblastoma?\",\n",
    "            \"retrieved_contexts\": contexts,\n",
    "            \"response\": \"Histone lysine methylation, particularly at H3K9, is implicated in the pathogenesis of medulloblastoma. Copy number aberrations in genes involved in writing, reading, removing, and blocking histone lysine methylation suggest that defective control of the histone code contributes to the development of this cancer. Additionally, the study found that restoration of expression of genes controlling H3K9 methylation greatly diminishes proliferation of medulloblastoma in vitro.\",\n",
    "            \"reference\": \"Aberrant patterns of H3K4, H3K9, and H3K27 histone lysine methylation were shown to result in histone code alterations, which induce changes in gene expression, and affect the proliferation rate of cells in medulloblastoma.\", # expected response\n",
    "        }\n",
    "    )\n",
    "evaluation_dataset = EvaluationDataset.from_list(dataset)"
   ]
  },
  {
   "cell_type": "code",
   "execution_count": 34,
   "metadata": {},
   "outputs": [
    {
     "data": {
      "application/vnd.jupyter.widget-view+json": {
       "model_id": "d82e5dfbda0e44578b8cb30ee79890e5",
       "version_major": 2,
       "version_minor": 0
      },
      "text/plain": [
       "Evaluating:   0%|          | 0/4 [00:00<?, ?it/s]"
      ]
     },
     "metadata": {},
     "output_type": "display_data"
    },
    {
     "data": {
      "text/plain": [
       "{'llm_context_precision_with_reference': 0.6556, 'context_recall': 1.0000, 'answer_relevancy': 0.8296, 'factual_correctness(mode=f1)': 0.5700}"
      ]
     },
     "execution_count": 34,
     "metadata": {},
     "output_type": "execute_result"
    }
   ],
   "source": [
    "from ragas import evaluate\n",
    "from ragas.llms import LangchainLLMWrapper\n",
    "from ragas.embeddings import LangchainEmbeddingsWrapper\n",
    "from ragas.metrics import LLMContextPrecisionWithReference, ContextRecall, ResponseRelevancy, FactualCorrectness\n",
    "\n",
    "evaluator_llm = LangchainLLMWrapper(llm)\n",
    "evaluator_embedding = LangchainEmbeddingsWrapper(embedding_model)\n",
    "\n",
    "context_precision = LLMContextPrecisionWithReference()\n",
    "context_recall = ContextRecall()\n",
    "response_relevancy = ResponseRelevancy()\n",
    "factual_correctness = FactualCorrectness()\n",
    "\n",
    "result = evaluate(\n",
    "    dataset=evaluation_dataset,\n",
    "    metrics=[context_precision, context_recall, response_relevancy, factual_correctness],\n",
    "    llm=evaluator_llm,\n",
    "    embeddings=evaluator_embedding\n",
    ")\n",
    "\n",
    "result"
   ]
  },
  {
   "cell_type": "code",
   "execution_count": null,
   "metadata": {},
   "outputs": [],
   "source": []
  },
  {
   "cell_type": "code",
   "execution_count": null,
   "metadata": {},
   "outputs": [],
   "source": [
    "# read paquet data\n",
    "import os\n",
    "import pandas as pd\n",
    "from configs.config import ConfigPath\n",
    "\n",
    "from data_collection.reader import BioASQDataReader"
   ]
  },
  {
   "cell_type": "code",
   "execution_count": null,
   "metadata": {},
   "outputs": [],
   "source": [
    "asq_reader = BioASQDataReader()\n",
    "data = asq_reader.read_parquet_file(file_path=os.path.join(ConfigPath.RAW_DATA_DIR, \"bioasq_train.parquet\"))"
   ]
  },
  {
   "cell_type": "code",
   "execution_count": null,
   "metadata": {},
   "outputs": [],
   "source": [
    "for sample in data:\n",
    "    if 20007090 in sample[\"relevant_passage_ids\"]:\n",
    "        print(sample)\n",
    "        print(data.index(sample))\n",
    "        break"
   ]
  },
  {
   "cell_type": "code",
   "execution_count": null,
   "metadata": {},
   "outputs": [],
   "source": [
    "asq_reader.get_data_to_dict()"
   ]
  },
  {
   "cell_type": "code",
   "execution_count": null,
   "metadata": {},
   "outputs": [],
   "source": [
    "from data_collection.fetcher import PubMedArticleFetcher\n",
    "\n",
    "fetcher = PubMedArticleFetcher()"
   ]
  },
  {
   "cell_type": "code",
   "execution_count": null,
   "metadata": {},
   "outputs": [],
   "source": [
    "results = fetcher.fetch_articles(pmids=['20007090'])"
   ]
  },
  {
   "cell_type": "code",
   "execution_count": null,
   "metadata": {},
   "outputs": [],
   "source": []
  },
  {
   "cell_type": "code",
   "execution_count": null,
   "metadata": {},
   "outputs": [],
   "source": []
  }
 ],
 "metadata": {
  "kernelspec": {
   "display_name": ".venv",
   "language": "python",
   "name": "python3"
  },
  "language_info": {
   "codemirror_mode": {
    "name": "ipython",
    "version": 3
   },
   "file_extension": ".py",
   "mimetype": "text/x-python",
   "name": "python",
   "nbconvert_exporter": "python",
   "pygments_lexer": "ipython3",
   "version": "3.10.0"
  }
 },
 "nbformat": 4,
 "nbformat_minor": 2
}
