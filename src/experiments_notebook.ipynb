{
 "cells": [
  {
   "cell_type": "code",
   "execution_count": 1,
   "metadata": {},
   "outputs": [],
   "source": [
    "from configs.config import ConfigPath\n",
    "from data_collection.article_fetcher import PubMedArticleFetcher"
   ]
  },
  {
   "cell_type": "code",
   "execution_count": 3,
   "metadata": {},
   "outputs": [
    {
     "name": "stderr",
     "output_type": "stream",
     "text": [
      "2025-01-20 00:21:57,274 [INFO] root - Fetching articles for PMIDs: 21645374, 16418930\n",
      "2025-01-20 00:21:57,880 [INFO] root - Saving 2 articles to C:\\Users\\melis\\Desktop\\Projects\\python_projects\\thesis\\advanced_graph_rag\\src\\data\\raw\n",
      "100%|██████████| 2/2 [00:00<00:00, 208.17it/s]\n",
      "2025-01-20 00:21:57,919 [INFO] root - Articles saved successfully.\n",
      "2025-01-20 00:21:57,921 [INFO] root - Articles fetched successfully\n"
     ]
    }
   ],
   "source": [
    "fetcher = PubMedArticleFetcher(data_path=ConfigPath.RAW_DATA_DIR)\n",
    "pmids = [\"21645374\", \"16418930\"]\n",
    "\n",
    "fetcher.fetch_articles(pmids=pmids)"
   ]
  },
  {
   "cell_type": "code",
   "execution_count": null,
   "metadata": {},
   "outputs": [],
   "source": []
  }
 ],
 "metadata": {
  "kernelspec": {
   "display_name": ".venv",
   "language": "python",
   "name": "python3"
  },
  "language_info": {
   "codemirror_mode": {
    "name": "ipython",
    "version": 3
   },
   "file_extension": ".py",
   "mimetype": "text/x-python",
   "name": "python",
   "nbconvert_exporter": "python",
   "pygments_lexer": "ipython3",
   "version": "3.10.0"
  }
 },
 "nbformat": 4,
 "nbformat_minor": 2
}
