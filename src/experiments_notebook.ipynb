{
 "cells": [
  {
   "cell_type": "code",
   "execution_count": 1,
   "metadata": {},
   "outputs": [],
   "source": [
    "import os\n",
    "import json\n",
    "from tqdm import tqdm\n",
    "\n",
    "from configs import ConfigPath\n",
    "from knowledge_graph.loader import GraphLoader"
   ]
  },
  {
   "cell_type": "code",
   "execution_count": 2,
   "metadata": {},
   "outputs": [],
   "source": [
    "\n",
    "\n",
    "def read_file(file_path: str):\n",
    "        with open(file_path, \"r\", encoding=\"utf-8\") as file:\n",
    "            data = json.load(file)\n",
    "        return data\n",
    "\n",
    "data = read_file(file_path=os.path.join(ConfigPath.RAW_DATA_DIR, \"pqa_labeled.json\"))\n",
    "\n",
    "\n",
    "file_path = os.path.join(ConfigPath.KG_CONFIG_DIR, \"schema_config.json\")\n",
    "graph_loader = GraphLoader.from_json_file(path=file_path)             \n",
    "        "
   ]
  },
  {
   "cell_type": "code",
   "execution_count": null,
   "metadata": {},
   "outputs": [],
   "source": [
    "def _map_nodes(schema_nodes, data):\n",
    "    pass\n",
    "\n",
    "def _map_document_node(document_schema, item_info, pmid):\n",
    "\n",
    "    label_key = \"label\"\n",
    "    properties_key = \"properties\"\n",
    "    pmid_key = \"pmid\"\n",
    "\n",
    "    info = {key.lower(): value for key, value in item_info.items()}\n",
    "    item = {\n",
    "        label_key: document_schema[label_key],\n",
    "        properties_key: {key: info[key] for key in document_schema[properties_key].keys() if key != pmid_key}\n",
    "    }\n",
    "    item[properties_key][pmid_key] = pmid\n",
    "    return item\n",
    "\n",
    "\n",
    "\n",
    "\n",
    "def map_data_to_schema(schema_config, data):\n",
    "    nodes_schema = schema_config['nodes']\n",
    "\n",
    "    document_key = \"document\"\n",
    "\n",
    "    mapped_items = []\n",
    "    for pmid, info in tqdm(data.items(), total=len(data), desc=\"mapping data to schema...\"):\n",
    "        \n",
    "        document_node = _map_document_node(document_schema=nodes_schema[document_key], item_info=info, pmid=pmid)\n",
    "        print(document_node)\n",
    "        break\n",
    "\n",
    "\n",
    "    "
   ]
  },
  {
   "cell_type": "code",
   "execution_count": 22,
   "metadata": {},
   "outputs": [
    {
     "name": "stderr",
     "output_type": "stream",
     "text": [
      "mapping data to schema...:   0%|          | 0/1000 [00:00<?, ?it/s]"
     ]
    },
    {
     "name": "stdout",
     "output_type": "stream",
     "text": [
      "{'label': 'DOCUMENT', 'properties': {'year': '2011', 'reasoning_required_pred': 'yes', 'reasoning_free_pred': 'yes', 'final_decision': 'yes', 'pmid': '21645374'}}\n"
     ]
    },
    {
     "name": "stderr",
     "output_type": "stream",
     "text": [
      "\n"
     ]
    }
   ],
   "source": [
    "map_data_to_schema(schema_config=graph_loader.schema_config, data=data)"
   ]
  },
  {
   "cell_type": "markdown",
   "metadata": {},
   "source": [
    "### Loading to graph"
   ]
  },
  {
   "cell_type": "code",
   "execution_count": 3,
   "metadata": {},
   "outputs": [
    {
     "name": "stderr",
     "output_type": "stream",
     "text": [
      "  0%|          | 0/1000 [00:00<?, ?it/s]\n"
     ]
    },
    {
     "data": {
      "text/plain": [
       "[{'article': {'properties': {'pmid': '21645374', 'year': '2011'}},\n",
       "  'context': {'properties': {'text_content': 'Programmed cell death (PCD) is the regulated death of cells within an organism. The lace plant (Aponogeton madagascariensis) produces perforations in its leaves through PCD. The leaves of the plant consist of a latticework of longitudinal and transverse veins enclosing areoles. PCD occurs in the cells at the center of these areoles and progresses outwards, stopping approximately five cells from the vasculature. The role of mitochondria during PCD has been recognized in animals; however, it has been less studied during PCD in plants. The following paper elucidates the role of mitochondrial dynamics during developmentally regulated PCD in vivo in A. madagascariensis. A single areole within a window stage leaf (PCD is occurring) was divided into three areas based on the progression of PCD; cells that will not undergo PCD (NPCD), cells in early stages of PCD (EPCD), and cells in late stages of PCD (LPCD). Window stage leaves were stained with the mitochondrial dye MitoTracker Red CMXRos and examined. Mitochondrial dynamics were delineated into four categories (M1-M4) based on characteristics including distribution, motility, and membrane potential (ΔΨm). A TUNEL assay showed fragmented nDNA in a gradient over these mitochondrial stages. Chloroplasts and transvacuolar strands were also examined using live cell imaging. The possible importance of mitochondrial permeability transition pore (PTP) formation during PCD was indirectly examined via in vivo cyclosporine A (CsA) treatment. This treatment resulted in lace plant leaves with a significantly lower number of perforations compared to controls, and that displayed mitochondrial dynamics similar to that of non-PCD cells.'}},\n",
       "  'meshes': [{'properties': {'name': 'Alismataceae'}},\n",
       "   {'properties': {'name': 'Apoptosis'}},\n",
       "   {'properties': {'name': 'Cell Differentiation'}},\n",
       "   {'properties': {'name': 'Mitochondria'}},\n",
       "   {'properties': {'name': 'Plant Leaves'}}]}]"
      ]
     },
     "execution_count": 3,
     "metadata": {},
     "output_type": "execute_result"
    }
   ],
   "source": [
    "from knowledge_graph.loader import GraphLoader\n",
    "\n",
    "graph_loader = GraphLoader(data=data)\n",
    "graph_loader.create_schema_node_data()"
   ]
  },
  {
   "cell_type": "code",
   "execution_count": 3,
   "metadata": {},
   "outputs": [
    {
     "data": {
      "text/plain": [
       "['[\\n\"The transanal endorectal pull-through (TERPT) is becoming the most popular procedure in the treatment of Hirschsprung disease (HD), but overstretching of the anal sphincters remains a critical issue that may impact the contin',\n",
       " 'ers remains a critical issue that may impact the continence. This study examined the long-term outcome of TERPT versus conventional transabdominal (ABD) pull-through for HD.\",\\n\"Records of 41 patients more than 3 years old who',\n",
       " ' 41 patients more than 3 years old who underwent a pull-through for HD (TERPT, n = 20; ABD, n = 21) were reviewed, and their families were thoroughly interviewed and scored via a 15-item post',\n",
       " ' thoroughly interviewed and scored via a 15-item post-pull-through long-term outcome questionnaire. Patients were operated on between the years 1995 and 2003. During this time, our group transitioned from the ABD to the TERPT technique',\n",
       " 'ed from the ABD to the TERPT technique. Total scoring ranged from 0 to 40: 0 to 10, excellent; 11 to 20 good; 21 to 30 fair; 31 to 40 poor.',\n",
       " '30 fair; 31 to 40 poor. A 2-tailed Student t test, analysis of covariance, as well as logistic and linear regression were used to analyze the collected data with confidence interval higher than 95%.\",\\n\"Overall scores were',\n",
       " ' higher than 95%.\",\\n\"Overall scores were similar. However, continence score was significantly better in the ABD group, and the stool pattern score was better in the TERPT group. A significant difference in age at interview between the 2',\n",
       " ' significant difference in age at interview between the 2 groups was noted; we therefore reanalyzed the data controlling for age, and this showed that age did not significantly affect the long-term scoring outcome between groups.\"\\n        ]']"
      ]
     },
     "execution_count": 3,
     "metadata": {},
     "output_type": "execute_result"
    }
   ],
   "source": [
    "from data_preprocessing.text_splitter import TextSplitter\n",
    "\n",
    "text = \"\"\"[\n",
    "\"The transanal endorectal pull-through (TERPT) is becoming the most popular procedure in the treatment of Hirschsprung disease (HD), but overstretching of the anal sphincters remains a critical issue that may impact the continence. This study examined the long-term outcome of TERPT versus conventional transabdominal (ABD) pull-through for HD.\",\n",
    "\"Records of 41 patients more than 3 years old who underwent a pull-through for HD (TERPT, n = 20; ABD, n = 21) were reviewed, and their families were thoroughly interviewed and scored via a 15-item post-pull-through long-term outcome questionnaire. Patients were operated on between the years 1995 and 2003. During this time, our group transitioned from the ABD to the TERPT technique. Total scoring ranged from 0 to 40: 0 to 10, excellent; 11 to 20 good; 21 to 30 fair; 31 to 40 poor. A 2-tailed Student t test, analysis of covariance, as well as logistic and linear regression were used to analyze the collected data with confidence interval higher than 95%.\",\n",
    "\"Overall scores were similar. However, continence score was significantly better in the ABD group, and the stool pattern score was better in the TERPT group. A significant difference in age at interview between the 2 groups was noted; we therefore reanalyzed the data controlling for age, and this showed that age did not significantly affect the long-term scoring outcome between groups.\"\n",
    "        ]\"\"\"\n",
    "\n",
    "\n",
    "text_splitter = TextSplitter(chunk_size=50, chunk_overlap=10)\n",
    "\n",
    "chunks = text_splitter.split_text(text=text)\n",
    "chunks\n"
   ]
  },
  {
   "cell_type": "code",
   "execution_count": 9,
   "metadata": {},
   "outputs": [
    {
     "name": "stderr",
     "output_type": "stream",
     "text": [
      "  0%|          | 0/1000 [00:00<?, ?it/s]\n"
     ]
    },
    {
     "data": {
      "text/plain": [
       "[{'article': {'properties': {'pmid': '21645374', 'year': '2011'}},\n",
       "  'context': {'properties': {'text_content': 'Programmed cell death (PCD) is the regulated death of cells within an organism. The lace plant (Aponogeton madagascariensis) produces perforations in its leaves through PCD. The leaves of the plant consist of a latticework of longitudinal and transverse veins enclosing areoles. PCD occurs in the cells at the center of these areoles and progresses outwards, stopping approximately five cells from the vasculature. The role of mitochondria during PCD has been recognized in animals; however, it has been less studied during PCD in plants. The following paper elucidates the role of mitochondrial dynamics during developmentally regulated PCD in vivo in A. madagascariensis. A single areole within a window stage leaf (PCD is occurring) was divided into three areas based on the progression of PCD; cells that will not undergo PCD (NPCD), cells in early stages of PCD (EPCD), and cells in late stages of PCD (LPCD). Window stage leaves were stained with the mitochondrial dye MitoTracker Red CMXRos and examined. Mitochondrial dynamics were delineated into four categories (M1-M4) based on characteristics including distribution, motility, and membrane potential (ΔΨm). A TUNEL assay showed fragmented nDNA in a gradient over these mitochondrial stages. Chloroplasts and transvacuolar strands were also examined using live cell imaging. The possible importance of mitochondrial permeability transition pore (PTP) formation during PCD was indirectly examined via in vivo cyclosporine A (CsA) treatment. This treatment resulted in lace plant leaves with a significantly lower number of perforations compared to controls, and that displayed mitochondrial dynamics similar to that of non-PCD cells.'}},\n",
       "  'meshes': [{'properties': {'name': 'Alismataceae'}},\n",
       "   {'properties': {'name': 'Apoptosis'}},\n",
       "   {'properties': {'name': 'Cell Differentiation'}},\n",
       "   {'properties': {'name': 'Mitochondria'}},\n",
       "   {'properties': {'name': 'Plant Leaves'}}]}]"
      ]
     },
     "execution_count": 9,
     "metadata": {},
     "output_type": "execute_result"
    }
   ],
   "source": [
    "graph_loader = GraphLoader(data=data)\n",
    "\n",
    "result = graph_loader.create_schema_node_data()\n",
    "result"
   ]
  },
  {
   "cell_type": "code",
   "execution_count": null,
   "metadata": {},
   "outputs": [],
   "source": []
  },
  {
   "cell_type": "markdown",
   "metadata": {},
   "source": [
    "### Huggingface embeddings\n"
   ]
  },
  {
   "cell_type": "code",
   "execution_count": 1,
   "metadata": {},
   "outputs": [
    {
     "name": "stderr",
     "output_type": "stream",
     "text": [
      "c:\\Users\\melis\\Desktop\\Projects\\python_projects\\thesis\\advanced_graph_rag\\.venv\\lib\\site-packages\\tqdm\\auto.py:21: TqdmWarning: IProgress not found. Please update jupyter and ipywidgets. See https://ipywidgets.readthedocs.io/en/stable/user_install.html\n",
      "  from .autonotebook import tqdm as notebook_tqdm\n"
     ]
    }
   ],
   "source": [
    "from langchain_huggingface import HuggingFaceEmbeddings\n",
    "\n",
    "# model_name = \"sentence-transformers/all-mpnet-base-v2\"\n",
    "model_name = \"neuml/pubmedbert-base-embeddings\"\n",
    "model_kwargs = {'device': 'cuda'}\n",
    "encode_kwargs = {'normalize_embeddings': False}\n",
    "hf = HuggingFaceEmbeddings(\n",
    "    model_name=model_name,\n",
    "    model_kwargs=model_kwargs,\n",
    "    encode_kwargs=encode_kwargs\n",
    ")"
   ]
  },
  {
   "cell_type": "code",
   "execution_count": 1,
   "metadata": {},
   "outputs": [
    {
     "name": "stderr",
     "output_type": "stream",
     "text": [
      "2025-02-12 20:47:07,392 [DEBUG] embedding_model - CUDA is available, using GPU\n",
      "c:\\Users\\melis\\Desktop\\Projects\\python_projects\\thesis\\advanced_graph_rag\\.venv\\lib\\site-packages\\tqdm\\auto.py:21: TqdmWarning: IProgress not found. Please update jupyter and ipywidgets. See https://ipywidgets.readthedocs.io/en/stable/user_install.html\n",
      "  from .autonotebook import tqdm as notebook_tqdm\n",
      "2025-02-12 20:47:32,115 [DEBUG] embedding_model - Embedding model initialized: neuml/pubmedbert-base-embeddings\n"
     ]
    }
   ],
   "source": [
    "from llms.embedding_model import EmbeddingModel\n",
    "\n",
    "test = \"hello world\"\n",
    "\n",
    "model_name = \"neuml/pubmedbert-base-embeddings\"\n",
    "model_kwargs = {'device': 'cuda'}\n",
    "encode_kwargs = {'normalize_embeddings': False}\n",
    "embedding_model = EmbeddingModel(model_name=model_name,\n",
    "                                 model_kwargs=model_kwargs,\n",
    "                                encode_kwargs=encode_kwargs)"
   ]
  },
  {
   "cell_type": "code",
   "execution_count": 2,
   "metadata": {},
   "outputs": [
    {
     "data": {
      "text/plain": [
       "768"
      ]
     },
     "execution_count": 2,
     "metadata": {},
     "output_type": "execute_result"
    }
   ],
   "source": [
    "embedding = embedding_model.embed_query(\"Hello world\")\n",
    "len(embedding)"
   ]
  },
  {
   "cell_type": "code",
   "execution_count": 4,
   "metadata": {},
   "outputs": [],
   "source": [
    "import getpass\n",
    "import os\n",
    "\n",
    "# if not os.environ.get(\"GROQ_API_KEY\"):\n",
    "#   os.environ[\"GROQ_API_KEY\"] = getpass.getpass(\"Enter API key for Groq: \")\n",
    "\n",
    "from langchain.chat_models import init_chat_model\n",
    "\n",
    "model = init_chat_model(\"llama3-8b-8192\", model_provider=\"groq\")"
   ]
  },
  {
   "cell_type": "code",
   "execution_count": 2,
   "metadata": {},
   "outputs": [
    {
     "data": {
      "text/plain": [
       "AIMessage(content=\"Hey! How's it going?\", additional_kwargs={}, response_metadata={'token_usage': {'completion_tokens': 8, 'prompt_tokens': 11, 'total_tokens': 19, 'completion_time': 0.006666667, 'prompt_time': 0.001745382, 'queue_time': 0.322890651, 'total_time': 0.008412049}, 'model_name': 'llama3-8b-8192', 'system_fingerprint': 'fp_179b0f92c9', 'finish_reason': 'stop', 'logprobs': None}, id='run-3206ac3a-685f-4af3-9e96-b15f3dd34e39-0', usage_metadata={'input_tokens': 11, 'output_tokens': 8, 'total_tokens': 19})"
      ]
     },
     "execution_count": 2,
     "metadata": {},
     "output_type": "execute_result"
    }
   ],
   "source": [
    "model.invoke(\"hey\")"
   ]
  },
  {
   "cell_type": "code",
   "execution_count": 5,
   "metadata": {},
   "outputs": [
    {
     "data": {
      "text/plain": [
       "AIMessage(content='<think>\\n\\n</think>\\n\\nHellooo! 😊 How can I assist you today?', additional_kwargs={}, response_metadata={'token_usage': {'completion_tokens': 17, 'prompt_tokens': 6, 'total_tokens': 23, 'completion_time': 0.061818182, 'prompt_time': 0.003499071, 'queue_time': 0.614788378, 'total_time': 0.065317253}, 'model_name': 'deepseek-r1-distill-llama-70b', 'system_fingerprint': 'fp_95405939f8', 'finish_reason': 'stop', 'logprobs': None}, id='run-503a256f-026d-4011-96e4-39675bd74914-0', usage_metadata={'input_tokens': 6, 'output_tokens': 17, 'total_tokens': 23})"
      ]
     },
     "execution_count": 5,
     "metadata": {},
     "output_type": "execute_result"
    }
   ],
   "source": [
    "from llms.llm import LLM\n",
    "\n",
    "model_name = \"deepseek-r1-distill-llama-70b\"\n",
    "model = LLM.from_name(model_name=model_name)\n",
    "model.invoke(\"hellooo\")"
   ]
  },
  {
   "cell_type": "code",
   "execution_count": 81,
   "metadata": {},
   "outputs": [
    {
     "data": {
      "text/plain": [
       "__main__.Mitochondria"
      ]
     },
     "execution_count": 81,
     "metadata": {},
     "output_type": "execute_result"
    }
   ],
   "source": [
    "from pydantic import BaseModel, create_model, Field\n",
    "\n",
    "def create_dynamic_basemodel(model_name: str, properties: dict, model_description: str = None):\n",
    "    DynamicModel = create_model(model_name, __doc__=model_description, **properties)\n",
    "    return DynamicModel\n",
    "\n",
    "properties = {\"reference\": (str, Field(description=\"The extracted reference segment from the input text\"))}\n",
    "MitoModel = create_dynamic_basemodel(model_name=\"Mitochondria\", properties=properties)\n",
    "MitoModel"
   ]
  },
  {
   "cell_type": "code",
   "execution_count": 82,
   "metadata": {},
   "outputs": [
    {
     "data": {
      "text/plain": [
       "{'properties': {'reference': {'description': 'The extracted reference segment from the input text',\n",
       "   'title': 'Reference',\n",
       "   'type': 'string'}},\n",
       " 'required': ['reference'],\n",
       " 'title': 'Mitochondria',\n",
       " 'type': 'object'}"
      ]
     },
     "execution_count": 82,
     "metadata": {},
     "output_type": "execute_result"
    }
   ],
   "source": [
    "MitoModel.model_json_schema()"
   ]
  },
  {
   "cell_type": "code",
   "execution_count": 8,
   "metadata": {},
   "outputs": [],
   "source": [
    "test_text = \"\"\"\"Programmed cell death (PCD) is the regulated death of cells within an organism. The lace plant (Aponogeton madagascariensis) produces perforations in its leaves through PCD. The leaves of the plant consist of a latticework of longitudinal and transverse veins enclosing areoles. PCD occurs in the cells at the center of these areoles and progresses outwards, stopping approximately five cells from the vasculature. The role of mitochondria during PCD has been recognized in animals; however, it has been less studied during PCD in plants.\",\n",
    "\"The following paper elucidates the role of mitochondrial dynamics during developmentally regulated PCD in vivo in A. madagascariensis. A single areole within a window stage leaf (PCD is occurring) was divided into three areas based on the progression of PCD; cells that will not undergo PCD (NPCD), cells in early stages of PCD (EPCD), and cells in late stages of PCD (LPCD). Window stage leaves were stained with the mitochondrial dye MitoTracker Red CMXRos and examined. Mitochondrial dynamics were delineated into four categories (M1-M4) based on characteristics including distribution, motility, and membrane potential (\\u0394\\u03a8m). A TUNEL assay showed fragmented nDNA in a gradient over these mitochondrial stages. Chloroplasts and transvacuolar strands were also examined using live cell imaging. The possible importance of mitochondrial permeability transition pore (PTP) formation during PCD was indirectly examined via in vivo cyclosporine A (CsA) treatment. This treatment resulted in lace plant leaves with a significantly lower number of perforations compared to controls, and that displayed mitochondrial dynamics similar to that of non-PCD cells.\"\n",
    "\"\"\""
   ]
  },
  {
   "cell_type": "code",
   "execution_count": 86,
   "metadata": {},
   "outputs": [
    {
     "data": {
      "text/plain": [
       "{'$defs': {'Mitochondria': {'properties': {'reference': {'description': 'The extracted reference segment from the input text',\n",
       "     'title': 'Reference',\n",
       "     'type': 'string'}},\n",
       "   'required': ['reference'],\n",
       "   'title': 'Mitochondria',\n",
       "   'type': 'object'}},\n",
       " 'description': 'Extract the following entities only if exist. You working with medical data which means are critical, the extraction should be performed carefully.',\n",
       " 'properties': {'MitochondriaEntities': {'default': None,\n",
       "   'items': {'$ref': '#/$defs/Mitochondria'},\n",
       "   'title': 'Mitochondriaentities',\n",
       "   'type': 'array'}},\n",
       " 'title': 'ExtractionEntities',\n",
       " 'type': 'object'}"
      ]
     },
     "execution_count": 86,
     "metadata": {},
     "output_type": "execute_result"
    }
   ],
   "source": [
    "from typing import List\n",
    "\n",
    "model_desc = \"Extract the following entities only if exist. You working with medical data which means are critical, the extraction should be performed carefully.\"\n",
    "ExtractionModel = create_dynamic_basemodel(model_name=\"ExtractionEntities\", properties={\"MitochondriaEntities\": (List[MitoModel], None)}, model_description=model_desc)\n",
    "ExtractionModel.model_json_schema()"
   ]
  },
  {
   "cell_type": "code",
   "execution_count": 6,
   "metadata": {},
   "outputs": [
    {
     "ename": "NameError",
     "evalue": "name 'ExtractionModel' is not defined",
     "output_type": "error",
     "traceback": [
      "\u001b[1;31m---------------------------------------------------------------------------\u001b[0m",
      "\u001b[1;31mNameError\u001b[0m                                 Traceback (most recent call last)",
      "Cell \u001b[1;32mIn[6], line 1\u001b[0m\n\u001b[1;32m----> 1\u001b[0m model_with_structured_output \u001b[38;5;241m=\u001b[39m model\u001b[38;5;241m.\u001b[39mwith_structured_output(schema\u001b[38;5;241m=\u001b[39m\u001b[43mExtractionModel\u001b[49m)\n\u001b[0;32m      2\u001b[0m model_with_structured_output\u001b[38;5;241m.\u001b[39minvoke(test_text)\n",
      "\u001b[1;31mNameError\u001b[0m: name 'ExtractionModel' is not defined"
     ]
    }
   ],
   "source": [
    "model_with_structured_output = model.with_structured_output(schema=ExtractionModel)\n",
    "model_with_structured_output.invoke(test_text)"
   ]
  },
  {
   "cell_type": "code",
   "execution_count": null,
   "metadata": {},
   "outputs": [],
   "source": []
  },
  {
   "cell_type": "markdown",
   "metadata": {},
   "source": [
    "## model factory"
   ]
  },
  {
   "cell_type": "code",
   "execution_count": 1,
   "metadata": {},
   "outputs": [],
   "source": [
    "from utils.model_factory import ModelFactory\n",
    "\n",
    "model_factory = ModelFactory()\n",
    "\n",
    "prop_dict = {\n",
    "    \"name\": \"reference\",\n",
    "    \"type\": str,\n",
    "    \"description\": \"The extracted reference segment from the input text\"\n",
    "}\n",
    "\n",
    "properties = model_factory.construct_property_fields(properties=[prop_dict])"
   ]
  },
  {
   "cell_type": "code",
   "execution_count": 2,
   "metadata": {},
   "outputs": [
    {
     "data": {
      "text/plain": [
       "{'properties': {'reference': {'description': 'The extracted reference segment from the input text',\n",
       "   'title': 'Reference',\n",
       "   'type': 'string'}},\n",
       " 'required': ['reference'],\n",
       " 'title': 'Mitochondria',\n",
       " 'type': 'object'}"
      ]
     },
     "execution_count": 2,
     "metadata": {},
     "output_type": "execute_result"
    }
   ],
   "source": [
    "model_dict = {\n",
    "    \"name\": \"Mitochondria\"\n",
    "}\n",
    "\n",
    "mito_model = model_factory.create_dynamic_base_model(model_name=model_dict[\"name\"], properties=properties)\n",
    "mito_model.model_json_schema()"
   ]
  },
  {
   "cell_type": "code",
   "execution_count": 3,
   "metadata": {},
   "outputs": [
    {
     "data": {
      "text/plain": [
       "{'$defs': {'Mitochondria': {'properties': {'reference': {'description': 'The extracted reference segment from the input text',\n",
       "     'title': 'Reference',\n",
       "     'type': 'string'}},\n",
       "   'required': ['reference'],\n",
       "   'title': 'Mitochondria',\n",
       "   'type': 'object'}},\n",
       " 'description': 'Extract the following entities only if exist. You working with medical data which means are critical, the extraction should be performed carefully.',\n",
       " 'properties': {'Mitochondria': {'items': {'$ref': '#/$defs/Mitochondria'},\n",
       "   'title': 'Mitochondria',\n",
       "   'type': 'array'}},\n",
       " 'required': ['Mitochondria'],\n",
       " 'title': 'ExtractionEntities',\n",
       " 'type': 'object'}"
      ]
     },
     "execution_count": 3,
     "metadata": {},
     "output_type": "execute_result"
    }
   ],
   "source": [
    "from typing import List\n",
    "\n",
    "extraction_model_dict = {\n",
    "    \"name\": \"ExtractionEntities\",\n",
    "    \"description\": \"Extract the following entities only if exist. You working with medical data which means are critical, the extraction should be performed carefully.\"\n",
    "}\n",
    "\n",
    "prop_dict = {\n",
    "    \"name\": \"Mitochondria\",\n",
    "    \"type\": List[mito_model]\n",
    "}\n",
    "\n",
    "prop_field_dict = model_factory.construct_property_fields(properties=[prop_dict])\n",
    "\n",
    "\n",
    "extraction_model = model_factory.create_dynamic_base_model(\n",
    "    model_name=extraction_model_dict[\"name\"],\n",
    "    model_description=extraction_model_dict[\"description\"],\n",
    "    properties=prop_field_dict)\n",
    "extraction_model.model_json_schema()"
   ]
  },
  {
   "cell_type": "code",
   "execution_count": 9,
   "metadata": {},
   "outputs": [
    {
     "data": {
      "text/plain": [
       "ExtractionEntities(Mitochondria=[Mitochondria(reference='The role of mitochondria during PCD has been recognized in animals; however, it has been less studied during PCD in plants.'), Mitochondria(reference='The following paper elucidates the role of mitochondrial dynamics during developmentally regulated PCD in vivo in A. madagascariensis.'), Mitochondria(reference='Mitochondrial dynamics were delineated into four categories (M1-M4) based on characteristics including distribution, motility, and membrane potential (ΔΨm).'), Mitochondria(reference='The possible importance of mitochondrial permeability transition pore (PTP) formation during PCD was indirectly examined via in vivo cyclosporine A (CsA) treatment.')])"
      ]
     },
     "execution_count": 9,
     "metadata": {},
     "output_type": "execute_result"
    }
   ],
   "source": [
    "model_with_structured_output = model.with_structured_output(schema=extraction_model)\n",
    "model_with_structured_output.invoke(test_text)"
   ]
  },
  {
   "cell_type": "code",
   "execution_count": null,
   "metadata": {},
   "outputs": [],
   "source": []
  }
 ],
 "metadata": {
  "kernelspec": {
   "display_name": ".venv",
   "language": "python",
   "name": "python3"
  },
  "language_info": {
   "codemirror_mode": {
    "name": "ipython",
    "version": 3
   },
   "file_extension": ".py",
   "mimetype": "text/x-python",
   "name": "python",
   "nbconvert_exporter": "python",
   "pygments_lexer": "ipython3",
   "version": "3.10.0"
  }
 },
 "nbformat": 4,
 "nbformat_minor": 2
}
