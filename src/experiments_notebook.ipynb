{
 "cells": [
  {
   "cell_type": "markdown",
   "metadata": {},
   "source": [
    "#### Imports"
   ]
  },
  {
   "cell_type": "code",
   "execution_count": 1,
   "metadata": {},
   "outputs": [],
   "source": [
    "import os\n",
    "from configs import ConfigPath\n",
    "from utils.utils import read_json_file\n",
    "from llms.embedding_model import EmbeddingModel\n",
    "from configs.config import ConfigEnv\n",
    "from knowledge_graph.connection import Neo4jConnection\n",
    "from llms.llm import ChatModel\n",
    "from retrieval.tools.vector_search_tool import VectorSimilaritySearchTool\n",
    "from data_collection.reader import BioASQDataReader\n",
    "from tqdm import tqdm\n",
    "from langchain_neo4j import Neo4jVector\n",
    "from configs.config import ConfigEnv\n",
    "from retrieval_techniques.similarity_search import SimilaritySearchRetriever"
   ]
  },
  {
   "cell_type": "markdown",
   "metadata": {},
   "source": [
    "#### Initializations"
   ]
  },
  {
   "cell_type": "code",
   "execution_count": 2,
   "metadata": {},
   "outputs": [
    {
     "name": "stderr",
     "output_type": "stream",
     "text": [
      "2025-04-08 22:58:37,704 [DEBUG] embedding_model - CUDA is available, using GPU\n",
      "2025-04-08 22:58:58,096 [DEBUG] embedding_model - Embedding model initialized: neuml/pubmedbert-base-embeddings\n",
      "2025-04-08 22:58:58,106 [DEBUG] llm - Initialized model gemini-2.0-flash-lite\n",
      "2025-04-08 22:59:02,211 [DEBUG] connection - Connection successful!\n",
      "2025-04-08 22:59:02,257 [INFO] reader - Limiting the number of rows to 3...\n",
      "2025-04-08 22:59:02,259 [INFO] reader - Data file loaded with shape: (3, 4)\n"
     ]
    },
    {
     "name": "stdout",
     "output_type": "stream",
     "text": [
      "Data length: 3\n"
     ]
    }
   ],
   "source": [
    "# models\n",
    "embedding_model = EmbeddingModel()\n",
    "\n",
    "llm = ChatModel(provider=\"google\", model_name=\"gemini-2.0-flash-lite\").initialize_model()\n",
    "\n",
    "# neo4j connection\n",
    "neo4j_connection = Neo4jConnection(uri=ConfigEnv.NEO4J_URI, \n",
    "                 user=ConfigEnv.NEO4J_USER,\n",
    "                 password=ConfigEnv.NEO4J_PASSWORD,\n",
    "                 database=ConfigEnv.NEO4J_DB)\n",
    "\n",
    "# retriever\n",
    "vector_search_tool = VectorSimilaritySearchTool(\n",
    "    llm=llm,\n",
    "    embedding_model=embedding_model,\n",
    "    neo4j_connection=neo4j_connection,\n",
    "    return_direct=True,\n",
    "    k=4\n",
    ")\n",
    "\n",
    "similarity_retriever = SimilaritySearchRetriever(\n",
    "    llm=llm,\n",
    "    embedding_model=embedding_model,\n",
    "    neo4j_connection=neo4j_connection,\n",
    ")\n",
    "\n",
    "retriever_model_name = vector_search_tool.get_model_name()\n",
    "\n",
    "# data\n",
    "data_path = os.path.join(ConfigPath.RAW_DATA_DIR, \"bioasq_train.parquet\")\n",
    "reader = BioASQDataReader(samples_limit=3)\n",
    "data = reader.read_parquet_file(file_path=data_path) \n",
    "print(f\"Data length: {len(data)}\")"
   ]
  },
  {
   "cell_type": "code",
   "execution_count": 3,
   "metadata": {},
   "outputs": [
    {
     "data": {
      "text/plain": [
       "[{'element_id': '4:d362a474-c8ba-449f-aeb1-9e0df44dbd24:3529',\n",
       "  'pmid': '24348390',\n",
       "  'content': \"Glioblastoma multiforme (GBM) is the most lethal subtype of glioma, classified as a WHO grade 4 infiltrative glioma. The etiology of GBM remains unknown and risk factors can be identified only in a small minority. We report the synchronous occurrence of GBM in an otherwise unrelated married couple, i.e. a husband and his wife, who developed GBM within an interval of 1 month. No specific causative environmental factors were identified for both patients, and the genetic screens were negative for hereditary syndromes. Family history was negative for tumors, and no other incidence of cancer in either siblings, parents or other children was reported. An analysis of the couple's exposure to nonionizing electromagnetic fields and ionizing radiations revealed values within the normal ranges usually found in homes. Overall, conjugal tumors are rarely reported. However, the case reported herein raises important questions about possible etiologic factors.\",\n",
       "  'score': 0.7882180213928223},\n",
       " {'element_id': '4:d362a474-c8ba-449f-aeb1-9e0df44dbd24:3526',\n",
       "  'pmid': '22882019',\n",
       "  'content': 'A practical mathematical model for glioblastomas (brain tumours), which incorporates the two key parameters of tumour growth, namely the cancer cell diffusion and the cell proliferation rate, has been shown to be clinically useful and predictive. Previous studies explain why multifocal recurrence is inevitable and show how various treatment scenarios have been incorporated in the model. In most tumours, it is not known when the cancer started. Based on patient in vivo parameters, obtained from two brain scans, it is shown how to estimate the time, after initial detection, when the tumour started. This is an input of potential importance in any future controlled clinical study of any connection between cell phone radiation and brain tumour incidence. It is also used to estimate more accurately survival times from detection. Finally, based on patient parameters, the solution of the model equation of the tumour growth helps to explain why certain patients live longer than others after similar treatment protocols specifically surgical resection (removal) and irradiation.',\n",
       "  'score': 0.7499463558197021},\n",
       " {'element_id': '4:d362a474-c8ba-449f-aeb1-9e0df44dbd24:3536',\n",
       "  'pmid': '23261330',\n",
       "  'content': \" the Hardell group studies yielding in the >10 years latency period hazard ratio (HR)=1.2, 95% CI=1.002-1.5 for use of wireless phones. This increased HR was based on results for astrocytoma WHO grade IV (glioblastoma multiforme). Decreased HR was found for low-grade astrocytoma, WHO grades I-II, which might be caused by RF-EMF exposure leading to tumour-associated symptoms and earlier detection and surgery with better prognosis. Some studies show increasing incidence of brain tumours whereas other studies do not. It is concluded that one should be careful using incidence data to dismiss results in analytical epidemiology. The IARC carcinogenic classification does not seem to have had any significant impact on governments' perceptions of their responsibilities to protect public health from this widespread source of radiation.\",\n",
       "  'score': 0.6956987380981445},\n",
       " {'element_id': '4:d362a474-c8ba-449f-aeb1-9e0df44dbd24:3531',\n",
       "  'pmid': '23095687',\n",
       "  'content': 'BACKGROUND: We analysed the survival of patients after glioma diagnosis in relation to the use of wireless phones. METHODS: All cases diagnosed between 1997 and 2003 with a malignant brain tumour (n = 1,251) in our case-control studies were included and followed from the date of diagnosis to the date of death or until May 30, 2012. RESULTS: For glioma, the use of wireless phones (mobile and cordless phones) gave a hazard ratio (HR) = 1.1 (95% confidence interval, CI = 0.9-1.2), with > 10-year latency HR = 1.2 (95% CI = 1.002-1.5, p trend = 0.02). For astrocytoma grade I-II (low-grade), the results were, HR = 0.5 (95% CI = 0.3-0.9) and for astrocytoma grade IV (glioblastoma), HR = 1.1 (95% CI = 0.95-1.4), with > 10 year latency HR = 1.3 (95% CI = 1.03-1.7). In the highest tertile (> 426 h) of cumulative use, HR = 1.2 (95% CI = 0.95-1.5) was found for glioblastoma. The results were similar for mobile and cordless phones. CONCLUSIONS: Decreased survival of glioma cases with long-term and high cumulative use of wireless phones was found. A survival disadvantage for astrocytoma grade IV, but a survival benefit for astrocytoma grade I-II was observed which could be due to exposure-related tumour symptoms leading to earlier diagnosis and surgery in that patient group.',\n",
       "  'score': 0.6744163036346436}]"
      ]
     },
     "execution_count": 3,
     "metadata": {},
     "output_type": "execute_result"
    }
   ],
   "source": [
    "similarity_retriever.get_relevant_contexts(query=\"Glioblastoma multiforme (GBM) is\", k=4)"
   ]
  },
  {
   "cell_type": "code",
   "execution_count": 10,
   "metadata": {},
   "outputs": [
    {
     "data": {
      "text/plain": [
       "13"
      ]
     },
     "execution_count": 10,
     "metadata": {},
     "output_type": "execute_result"
    }
   ],
   "source": [
    "results = similarity_retriever.get_1_hop_similar_contexts(query=\"Circular RNAs (circRNAs) are a large type of noncoding RNAs \", k=10, n_similar_contexts=5)\n",
    "len(results)"
   ]
  },
  {
   "cell_type": "code",
   "execution_count": 11,
   "metadata": {},
   "outputs": [
    {
     "data": {
      "text/plain": [
       "[{'element_id': '4:d362a474-c8ba-449f-aeb1-9e0df44dbd24:3780',\n",
       "  'pmid': '28634583',\n",
       "  'content': \"Circular RNAs (circRNAs) are currently classed as non-coding RNA (ncRNA) that, unlike linear RNAs, form covalently closed continuous loops and act as gene regulators in mammals. They were originally thought to represent errors in splicing and considered to be of low abundance, however, there is now an increased appreciation of their important function in gene regulation. circRNAs are differentially generated by backsplicing of exons or from lariat introns. Unlike linear RNA, the 3' and 5' ends normally present in an RNA molecule have been joined together by covalent bonds leading to circularization. Interestingly, they have been found to be abundant, evolutionally conserved and relatively stable in the cytoplasm. These features confer numerous potential functions to circRNAs, such as acting as miRNA sponges, or binding to RNA-associated proteins to form RNA-protein complexes that regulate gene transcription. It has been proposed that circRNA regulate gene expression at the transcriptional or post-transcriptional level by interacting with miRNAs and that circRNAs may have a role in regulating miRNA function in cancer initiation and progression. circRNAs appear to be more often downregulated in tumor tissue compared to normal tissue and this may be due to (i) errors in the back-splice machinery in malignant tissues, (ii) degradation of circRNAs by deregulated miRNAs in tumor tissue, or (iii) increasing cell proliferation leading to a reduction of circRNAs. circRNAs have been identified in exosomes and more recently, chromosomal translocations in cancer have been shown to generate aberrant fusion-circRNAs associated with resistance to drug treatments. In addition, though originally thought to be non-coding, there is now increasing evidence to suggest that select circRNAs can be translated into functional proteins. Although much remains to be elucidated about circRNA biology and mechanisms of gene regulation, these ncRNAs are quickly emerging as potential disease biomarkers and therapeutic targets in cancer.\",\n",
       "  'score': 0.9184248447418213},\n",
       " {'element_id': '4:d362a474-c8ba-449f-aeb1-9e0df44dbd24:3651',\n",
       "  'pmid': '27612318',\n",
       "  'content': 'Circular RNAs (circRNAs) represent a large class of noncoding RNAs (ncRNAs) that have recently emerged as regulators of gene expression. They have been shown to suppress microRNAs, thereby increasing the translation and stability of the targets of such microRNAs. In this review, we discuss the emerging functions of circRNAs, including RNA transcription, splicing, turnover, and translation. We also discuss other possible facets of circRNAs that can influence their function depending on the cell context, such as circRNA abundance, subcellular localization, interacting partners (RNA, DNA, and proteins), dynamic changes in interactions following stimulation, and potential circRNA translation. The ensuing changes in gene expression patterns elicited by circRNAs are proposed to drive key cellular processes, such as cell proliferation, differentiation, and survival, that govern health and disease. WIREs RNA 2017, 8:e1386. doi: 10.1002/wrna.1386 For further resources related to this article, please visit the WIREs website.',\n",
       "  'score': 0.9163014888763428},\n",
       " {'element_id': '4:d362a474-c8ba-449f-aeb1-9e0df44dbd24:3649',\n",
       "  'pmid': '27617908',\n",
       "  'content': 'Circular RNAs (circRNAs) are a novel class of non-coding RNA that assumes a covalently closed continuous conformation. CircRNAs were previously thought to be the byproducts of splicing errors caused by low abundance and the technological limitations. With the recent development of high-throughput sequencing technology, numerous circRNAs have been discovered in many species. Recent studies have revealed that circRNAs are stable and widely expressed, and often exhibit cell type-specific or tissue-specific expression. Most circRNAs can be generated from exons, introns, or both. Remarkably, emerging evidence indicates that some circRNAs can serve as microRNA (miRNA) sponges, regulate transcription or splicing, and can interact with RNA binding proteins (RBPs). Moreover, circRNAs have been reported to play essential roles in myriad life processes, such as aging, insulin secretion, tissue development, atherosclerotic vascular disease risk, cardiac hypertrophy and cancer. Although circRNAs are ancient molecules, they represent a newly appreciated form of noncoding RNA and as such have great potential implications in clinical and research fields. Here, we review the current understanding of circRNA classification, function and significance in physiological and pathological processes. We believe that future research will increase our understanding of the regulation and function of these novel molecules.',\n",
       "  'score': 0.9138593673706055},\n",
       " {'element_id': '4:d362a474-c8ba-449f-aeb1-9e0df44dbd24:3644',\n",
       "  'pmid': '27255916',\n",
       "  'content': 'Insights into the circular RNA (circRNA) exploration have revealed that they are abundant in eukaryotic transcriptomes. Diverse genomic regions can generate different types of RNA circles, implying their diversity. Covalently closed loop structures elevate the stability of this new type of noncoding RNA. High-throughput sequencing analyses suggest that circRNAs exhibit tissue- and developmental-specific expression, indicating that they may play crucial roles in multiple cellular processes. Strikingly, several circRNAs could function as microRNA sponges and regulate gene transcription, highlighting a new class of important regulators. Here, we review the recent advances in knowledge of endogenous circRNA biogenesis, properties and functions. We further discuss the current findings about circRNAs in human diseases. In plants, the roles of circRNAs remain a mystery. Online resources and bioinformatics identification of circRNAs are essential for the analysis of circRNA biology, although different strategies yield divergent results. The understanding of circRNA functions remains limited; however, circRNAs are enriching the RNA world, acting as an emerging key player.',\n",
       "  'score': 0.9138023853302002},\n",
       " {'element_id': '4:d362a474-c8ba-449f-aeb1-9e0df44dbd24:3767',\n",
       "  'pmid': '30550956',\n",
       "  'content': 'Circular RNAs (circRNAs) are a novel class of regulatory RNAs that despite being relatively abundant have only recently begun to be explored. There are many thousands of genes that appear capable of producing circRNAs, however the function of all but a handful remain to be determined. What is emerging about these highly conserved molecules is that they play important roles in biology and cancer biology in particular. The most explored function of circRNAs is as master regulators of gene expression that act to sequester or  sponge  other gene expression regulators, in particular miRNAs. They have also been demonstrated to function via direct modulation of transcription, and by interfering with splicing mechanisms. Although generally expressed in low abundance when compared to their linear counterparts, they are often expressed in a tissue- and developmental stage- specific manner. Coupled with their remarkable resistance to RNAse activity due to a covalent closed cyclic structure, circRNAs show great promise as novel biomarkers of cancer and other diseases. In this review we consider the current state of knowledge regarding these molecules, their synthesis, function, and association with cancer. We will also review some of the challenges that remain to be resolved if this emerging class of RNAs are really to become useful in the clinic.',\n",
       "  'score': 0.9075369834899902},\n",
       " {'element_id': '4:d362a474-c8ba-449f-aeb1-9e0df44dbd24:3760',\n",
       "  'pmid': '28969093',\n",
       "  'content': \"Circular RNAs (circRNAs) are a novel type of universal and diverse endogenous noncoding RNAs (ncRNAs) and they form a covalently closed continuous loop without 5' or 3' tails unlike linear RNAs. Most circRNAs are presented with characteristics of abundance, stability, conservatism, and often exhibiting tissue/developmental-stage-specific expression. CircRNAs are generated either from exons or introns by back splicing or lariat introns. CircRNAs play important roles as miRNA sponges, gene transcription and expression regulators, RNA-binding protein (RBP) sponges and protein/peptide translators. Emerging evidence revealed the function of circRNAs in cancer and may potentially serve as a required novel biomarker and therapeutic target for cancer treatment. In this review, we discuss about the origins, characteristics and functions of circRNA and how they work as miRNA sponges, gene transcription and expression regulators, RBP sponges in cancer as well as current research methods of circRNAs, providing evidence for the significance of circRNAs in cancer diagnosis and clinical treatment.\",\n",
       "  'score': 0.9064779281616211},\n",
       " {'element_id': '4:d362a474-c8ba-449f-aeb1-9e0df44dbd24:3782',\n",
       "  'pmid': '28018143',\n",
       "  'content': 'Many thousands of Circular RNAs (circRNAs) have recently been identified in metazoan genomes by transcriptome-wide sequencing. Most circRNAs are generated by back-splicing events from exons of protein-coding genes. A great deal of progress has recently been made in understanding the genome-wide expression patterns, biogenesis, and regulation of circRNAs. To date, however, few functions of circRNAs have been identified. CircRNAs are preferentially expressed in neural tissues and some are found at synapses, suggesting possible functions in the nervous system. Several circRNAs have been shown to function as microRNA \"sponges\" to counteract microRNA mediated repression of mRNA. New functions for circRNAs are arising, including protein sequestration, transcriptional regulation, and potential functions in cancer. Here, we highlight the recent progress made in understanding the biogenesis and regulation of circRNAs, discuss newly uncovered circRNA functions, and explain the methodological approaches that could reveal more exciting and unexpected roles for these RNAs.',\n",
       "  'score': 0.8957300186157227},\n",
       " {'element_id': '4:d362a474-c8ba-449f-aeb1-9e0df44dbd24:3647',\n",
       "  'pmid': '26874353',\n",
       "  'content': 'Circular RNAs (circRNAs) are a large type of noncoding RNAs characterized by their circular shape resulting from covalently closed continuous loops. They are known to regulate gene expression in mammals. These tissue-specific transcripts are largely generated from exonic or intronic sequences of their host genes. Although several models of circRNA biogenesis have been proposed, the understanding of their origin is far from complete. Unlike other noncoding RNAs, circRNAs are widely expressed, highly conserved and stable in cytoplasm, which confer special functionalities to them. They are known to serve as microRNA (miRNA) sponges, regulators of alternative splicing, transcription factors and encode for proteins. The expression of circRNAs is associated with several pathological states and may potentially serve as novel diagnostic or predictive biomarkers. CircRNAs are known to regulate the expression of numerous cancer-related miRNAs. The circRNA-miRNA-mRNA axis is a known regulatory pattern of several cancer-associated pathways, with both agonist and antagonist effects on carcinogenesis. In consideration of their potential clinical relevance, circRNAs are at the center of ongoing research initiatives on cancer prevention and treatment. In this review, we discuss the current understanding of circRNAs and the prospects for their potential clinical application in the management of cancer patients.',\n",
       "  'score': 0.8956494331359863},\n",
       " {'element_id': '4:d362a474-c8ba-449f-aeb1-9e0df44dbd24:3775',\n",
       "  'pmid': '29349062',\n",
       "  'content': \"Circular RNAs (circRNAs) are a class of noncoding RNAs (ncRNAs) that form covalently closed continuous loop structures, lacking the terminal 5' and 3' ends. CircRNAs are generated in the process of back-splicing and can originate from different genomic regions. Their unique circular structure makes circRNAs more stable than linear RNAs. In addition, they also display insensitivity to ribonuclease activity. Generally, circRNAs function as microRNA (miRNA) sponges and have a regulatory role in transcription and translation. They may be also translated in a cap-independent manner in vivo, to generate specific proteins. In the last decade, next-generation sequencing techniques, especially RNA-seq, have revealed great abundance and also dysregulation of many circRNAs in various diseases, suggesting their involvement in disease development and progression. Regarding their high stability and relatively specific differential expression patterns in tissues and extracellular environment (e.g., body fluids), they are regarded as promising novel biomarkers in cancer. Therefore, we focus this review on describing circRNA biogenesis, function, and involvement in human cancer development and address the potential of circRNAs to be effectively used as novel cancer diagnostic and prognostic biomarkers.\",\n",
       "  'score': 0.8914563655853271},\n",
       " {'element_id': '4:d362a474-c8ba-449f-aeb1-9e0df44dbd24:3645',\n",
       "  'pmid': '26649774',\n",
       "  'content': 'Circular RNAs (circRNAs) are long, non-coding RNAs that result from the non-canonical splicing of linear pre-mRNAs. However, the characteristics and the critical role of circRNA in co-/post-transcriptional regulation were not well recognized until the \"microRNA sponge\" function of circRNA is discovered. Recent studies have mainly been devoted to the function of the circular RNA sponge for miR-7 (ciRS-7) and sex-determining region Y (SRY) by targeting microRNA-7 (miR-7) and microRNA-138 (miR-138), respectively. In this review, we illustrate the specific role of circRNAs in a wide variety of cancers and in regulating the biological behavior of cancers via miR-7 or miR-138 regulation. Furthermore, circRNA, together with its gene silencing ability, also shows its potential in RNA interference (RNAi) therapy by binding to target RNAs, which provides a novel perspective in cancer treatment. Thus, this review concerns the biogenesis, biological function, oncogenesis, progression and possible therapies for cancer involving circRNAs.',\n",
       "  'score': 0.8887155055999756},\n",
       " {'element_id': '4:d362a474-c8ba-449f-aeb1-9e0df44dbd24:3776',\n",
       "  'pmid': '29387208',\n",
       "  'content': 'Circular (circ)RNAs, naturally formed endogenous non-coding RNAs, have received extensive attention in recent years due to their special loop structures and specific function. circRNAs are formed with covalently closed continuous loops and are mainly generated by back-splicing processes or lariat introns from exons and/or introns. Usually, circRNAs are stable, abundant, and evolutionarily conserved in the cytoplasm. circRNAs often exhibit abnormal expression in different diseases, notably in human cancers, and the presence of abundant circRNAs in serum, saliva and exosomes renders them potential diagnostic or predictive biomarkers for diseases, including multiple types of cancer. Presently, certain circRNAs have been reported to function as microRNA sponges and RNA-binding protein sponges to regulate downstream gene transcription, which suggests a potential for circRNAs in cancer diagnosis, prognosis and clinical therapy. The present study assessed the latest advances in the study of circRNAs in cancer, summarized the functions of circRNAs in different types of cancer, highlighted the competing endogenous RNA function of circRNAs in the occurrence and development of human malignancies, and provided evidence for the future application of circRNAs in the diagnosis, prognosis and treatment of multiple types of cancer.',\n",
       "  'score': 0.940154380485886},\n",
       " {'element_id': '4:d362a474-c8ba-449f-aeb1-9e0df44dbd24:3779',\n",
       "  'pmid': '33537235',\n",
       "  'content': 'Circular RNAs (circRNAs) are a class of endogenous single-stranded covalently closed RNAs, primarily produced from pre-mRNAs via non-canonical back-splicing. circRNAs are highly conserved, stable, and expressed in tissue- and development-specific pattern. circRNAs play essential roles in physiological process as well as cancer biology. By the advances of deep sequencing and bioinformatics, the number of circRNAs have increased explosively. circRNAs function as miRNA/protein sponge, protein scaffold, protein recruitment, enhancer of protein function, as well as templates for translation involved in the regulation of transcription/splicing, translation, protein degradation, and pri-miRNA processing in human cancers and contributed to the pathogenesis of cancer. Numerous circRNAs may function in diverse manners. In this review, we survey the current understanding of circRNA functions in human cancer including miRNA sponge, circRNA-protein interaction, and circRNA-encoded protein, and summarize available databases for circRNA annotation and functional prediction.',\n",
       "  'score': 0.9235913475882136},\n",
       " {'element_id': '4:d362a474-c8ba-449f-aeb1-9e0df44dbd24:3778',\n",
       "  'pmid': '27616979',\n",
       "  'content': 'Circular RNAs (circRNAs) are highly stable, circularized long non-coding RNAs. circRNAs are conserved across species and appear to be specifically enriched in the nervous system. Recent studies show that many circRNAs are expressed in a tissue- and developmental-stage-specific manner, reveal a striking regulation of circRNAs during neuronal development, and detect their presence at synaptic sites. The exact functions of circRNAs remain poorly understood, but evidence from analysis of some circRNA molecules suggests that they could substantially contribute to the regulation of gene expression, particularly in architecturally complex and polarized cells such as neurons. Emerging evidence also indicates that circRNAs are involved in the development and progression of various neurological disorders. In this review, we summarize the molecular characteristics of circRNAs and discuss their proposed functions and mechanism-of-action in developing neurons.',\n",
       "  'score': 0.9081021962027914}]"
      ]
     },
     "execution_count": 11,
     "metadata": {},
     "output_type": "execute_result"
    }
   ],
   "source": [
    "results"
   ]
  },
  {
   "cell_type": "code",
   "execution_count": 16,
   "metadata": {},
   "outputs": [
    {
     "name": "stdout",
     "output_type": "stream",
     "text": [
      "{'a': 2}\n"
     ]
    }
   ],
   "source": [
    "\n",
    "def func1(**kwargs):\n",
    "    print(kwargs)\n",
    "  \n",
    "func_args = {\"a\":2}  \n",
    "func1(**func_args)"
   ]
  },
  {
   "cell_type": "code",
   "execution_count": null,
   "metadata": {},
   "outputs": [],
   "source": []
  },
  {
   "cell_type": "code",
   "execution_count": null,
   "metadata": {},
   "outputs": [],
   "source": [
    "existing_index = Neo4jVector.from_existing_index(\n",
    "    embedding_model,\n",
    "    url=ConfigEnv.NEO4J_URI,\n",
    "    username=ConfigEnv.NEO4J_USER,\n",
    "    password=ConfigEnv.NEO4J_PASSWORD,\n",
    "    index_name=\"contextIndex\",\n",
    "    text_node_property=\"text_content\",  # Need to define if it is not default\n",
    ")"
   ]
  },
  {
   "cell_type": "code",
   "execution_count": null,
   "metadata": {},
   "outputs": [],
   "source": [
    "existing_index.similarity_search(\"hey\")"
   ]
  },
  {
   "cell_type": "code",
   "execution_count": null,
   "metadata": {},
   "outputs": [],
   "source": [
    "neo4j_connection.execute_query(\"\"\"SHOW INDEXES\n",
    "       YIELD name, type, labelsOrTypes, properties, options\n",
    "       WHERE type = 'VECTOR'\"\"\", params={})"
   ]
  },
  {
   "cell_type": "code",
   "execution_count": null,
   "metadata": {},
   "outputs": [],
   "source": [
    "\n",
    "index_name = \"context_index\"  # default index name\n",
    "\n",
    "existing_graph = Neo4jVector.from_existing_graph(\n",
    "    embedding=embedding_model,\n",
    "    url=ConfigEnv.NEO4J_URI,\n",
    "    username=ConfigEnv.NEO4J_USER,\n",
    "    password=ConfigEnv.NEO4J_PASSWORD,\n",
    "    index_name=\"context_index\",\n",
    "    node_label=\"CONTEXT\",\n",
    "    # text_node_properties=[\"text_content\"],\n",
    "    embedding_node_property=\"embedding\",\n",
    ")"
   ]
  },
  {
   "cell_type": "code",
   "execution_count": null,
   "metadata": {},
   "outputs": [],
   "source": [
    "existing_graph.search(\"Utilization behavior (UB) consists of reaching out and using objects in the environment in an automatic mann\", search_type=\"mmr\")"
   ]
  },
  {
   "cell_type": "code",
   "execution_count": null,
   "metadata": {},
   "outputs": [],
   "source": [
    "\n",
    "\n",
    "def run_retriever(benchmark_data: list, retriever) -> dict:\n",
    "    results = {}\n",
    "    for sample in tqdm(benchmark_data, desc=\"Executing retriever...\"):\n",
    "        sample_id = sample.get('id')\n",
    "        question = sample.get('question')\n",
    "        retrieved_data = retriever.invoke(question)\n",
    "        results[sample_id] = retrieved_data\n",
    "    return results\n",
    "\n",
    "results = run_retriever(benchmark_data=data, retriever=vector_search_tool)\n",
    "results"
   ]
  },
  {
   "cell_type": "code",
   "execution_count": null,
   "metadata": {},
   "outputs": [],
   "source": [
    "\n",
    "\n",
    "metrics, new_evaluator = run_evaluation_on_retrieved_chunks(\n",
    "    retrieval_results=results,\n",
    "    benchmark_data=data\n",
    ")\n",
    "print(metrics)"
   ]
  },
  {
   "cell_type": "code",
   "execution_count": null,
   "metadata": {},
   "outputs": [],
   "source": []
  },
  {
   "cell_type": "code",
   "execution_count": null,
   "metadata": {},
   "outputs": [],
   "source": []
  },
  {
   "cell_type": "markdown",
   "metadata": {},
   "source": [
    "### RAGAS METRICS"
   ]
  },
  {
   "cell_type": "code",
   "execution_count": null,
   "metadata": {},
   "outputs": [],
   "source": [
    "vector_search_tool = VectorSimilaritySearchTool(\n",
    "        llm=llm,\n",
    "        embedding_model=embedding_model,\n",
    "        neo4j_connection=neo4j_connection,\n",
    "        return_direct=False,\n",
    "    )"
   ]
  },
  {
   "cell_type": "code",
   "execution_count": null,
   "metadata": {},
   "outputs": [],
   "source": [
    "results = vector_search_tool.invoke(\"What is the implication of histone lysine methylation in medulloblastoma?\")"
   ]
  },
  {
   "cell_type": "code",
   "execution_count": null,
   "metadata": {},
   "outputs": [],
   "source": [
    "print(results['answer'])"
   ]
  },
  {
   "cell_type": "code",
   "execution_count": null,
   "metadata": {},
   "outputs": [],
   "source": [
    "contexts = [sample['content'] for sample in results['context']]\n",
    "contexts"
   ]
  },
  {
   "cell_type": "code",
   "execution_count": null,
   "metadata": {},
   "outputs": [],
   "source": [
    "from ragas.llms import LangchainLLMWrapper\n",
    "\n",
    "llm = ChatModel(provider=\"google\", model_name=\"gemini-2.0-flash-lite\").initialize_model()\n",
    "evaluator_llm = LangchainLLMWrapper(llm)"
   ]
  },
  {
   "cell_type": "code",
   "execution_count": null,
   "metadata": {},
   "outputs": [],
   "source": [
    "\n",
    "from ragas.dataset_schema import SingleTurnSample\n",
    "from ragas.metrics import ContextRelevance\n",
    "\n",
    "sample = SingleTurnSample(\n",
    "    user_input=\"What is the implication of histone lysine methylation in medulloblastoma?\",\n",
    "    retrieved_contexts=contexts\n",
    ")\n",
    "\n",
    "scorer = ContextRelevance(llm=evaluator_llm)\n",
    "score = await scorer.single_turn_ascore(sample)\n",
    "print(score)"
   ]
  },
  {
   "cell_type": "code",
   "execution_count": null,
   "metadata": {},
   "outputs": [],
   "source": [
    "from ragas import EvaluationDataset\n",
    "\n",
    "\n",
    "dataset = []\n",
    "dataset.append(\n",
    "        {\n",
    "            \"id\": 1,\n",
    "            \"user_input\": \"What is the implication of histone lysine methylation in medulloblastoma?\",\n",
    "            \"retrieved_contexts\": contexts,\n",
    "            \"response\": \"Histone lysine methylation, particularly at H3K9, is implicated in the pathogenesis of medulloblastoma. Copy number aberrations in genes involved in writing, reading, removing, and blocking histone lysine methylation suggest that defective control of the histone code contributes to the development of this cancer. Additionally, the study found that restoration of expression of genes controlling H3K9 methylation greatly diminishes proliferation of medulloblastoma in vitro.\",\n",
    "            \"reference\": \"Aberrant patterns of H3K4, H3K9, and H3K27 histone lysine methylation were shown to result in histone code alterations, which induce changes in gene expression, and affect the proliferation rate of cells in medulloblastoma.\", # expected response\n",
    "        }\n",
    "    )\n",
    "evaluation_dataset = EvaluationDataset.from_list(dataset)"
   ]
  },
  {
   "cell_type": "code",
   "execution_count": null,
   "metadata": {},
   "outputs": [],
   "source": [
    "from ragas import evaluate\n",
    "from ragas.llms import LangchainLLMWrapper\n",
    "from ragas.embeddings import LangchainEmbeddingsWrapper\n",
    "from ragas.metrics import LLMContextPrecisionWithReference, ContextRecall, ResponseRelevancy, FactualCorrectness\n",
    "\n",
    "evaluator_llm = LangchainLLMWrapper(llm)\n",
    "evaluator_embedding = LangchainEmbeddingsWrapper(embedding_model)\n",
    "\n",
    "context_precision = LLMContextPrecisionWithReference()\n",
    "context_recall = ContextRecall()\n",
    "response_relevancy = ResponseRelevancy()\n",
    "factual_correctness = FactualCorrectness()\n",
    "\n",
    "result = evaluate(\n",
    "    dataset=evaluation_dataset,\n",
    "    metrics=[context_precision, context_recall, response_relevancy, factual_correctness],\n",
    "    llm=evaluator_llm,\n",
    "    embeddings=evaluator_embedding\n",
    ")\n",
    "\n",
    "result"
   ]
  },
  {
   "cell_type": "code",
   "execution_count": null,
   "metadata": {},
   "outputs": [],
   "source": []
  },
  {
   "cell_type": "code",
   "execution_count": null,
   "metadata": {},
   "outputs": [],
   "source": [
    "# read paquet data\n",
    "import os\n",
    "import pandas as pd\n",
    "from configs.config import ConfigPath\n",
    "\n",
    "from data_collection.reader import BioASQDataReader"
   ]
  },
  {
   "cell_type": "code",
   "execution_count": null,
   "metadata": {},
   "outputs": [],
   "source": [
    "asq_reader = BioASQDataReader()\n",
    "data = asq_reader.read_parquet_file(file_path=os.path.join(ConfigPath.RAW_DATA_DIR, \"bioasq_train.parquet\"))"
   ]
  },
  {
   "cell_type": "code",
   "execution_count": null,
   "metadata": {},
   "outputs": [],
   "source": [
    "for sample in data:\n",
    "    if 20007090 in sample[\"relevant_passage_ids\"]:\n",
    "        print(sample)\n",
    "        print(data.index(sample))\n",
    "        break"
   ]
  },
  {
   "cell_type": "code",
   "execution_count": null,
   "metadata": {},
   "outputs": [],
   "source": [
    "asq_reader.get_data_to_dict()"
   ]
  },
  {
   "cell_type": "code",
   "execution_count": null,
   "metadata": {},
   "outputs": [],
   "source": [
    "from data_collection.fetcher import PubMedArticleFetcher\n",
    "\n",
    "fetcher = PubMedArticleFetcher()"
   ]
  },
  {
   "cell_type": "code",
   "execution_count": null,
   "metadata": {},
   "outputs": [],
   "source": [
    "results = fetcher.fetch_articles(pmids=['20007090'])"
   ]
  },
  {
   "cell_type": "code",
   "execution_count": null,
   "metadata": {},
   "outputs": [],
   "source": []
  },
  {
   "cell_type": "code",
   "execution_count": null,
   "metadata": {},
   "outputs": [],
   "source": []
  }
 ],
 "metadata": {
  "kernelspec": {
   "display_name": ".venv",
   "language": "python",
   "name": "python3"
  },
  "language_info": {
   "codemirror_mode": {
    "name": "ipython",
    "version": 3
   },
   "file_extension": ".py",
   "mimetype": "text/x-python",
   "name": "python",
   "nbconvert_exporter": "python",
   "pygments_lexer": "ipython3",
   "version": "3.10.0"
  }
 },
 "nbformat": 4,
 "nbformat_minor": 2
}
