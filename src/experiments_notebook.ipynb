{
 "cells": [
  {
   "cell_type": "markdown",
   "metadata": {},
   "source": [
    "#### Imports"
   ]
  },
  {
   "cell_type": "code",
   "execution_count": 1,
   "metadata": {},
   "outputs": [],
   "source": [
    "import os\n",
    "import json\n",
    "from tqdm import tqdm\n",
    "\n",
    "from configs import ConfigPath\n",
    "from data_preprocessing.text_splitter import TextSplitter\n",
    "from utils.utils import read_json_file\n",
    "from llms.embedding_model import EmbeddingModel\n",
    "from knowledge_graph.loader import GraphLoader\n",
    "from knowledge_graph.crud import GraphCrud\n",
    "from configs.config import ConfigEnv\n",
    "from knowledge_graph.connection import Neo4jConnection\n",
    "from llms.llm import LLM\n",
    "from retrieval.tools.vector_search_tool import VectorSearchTool\n"
   ]
  },
  {
   "cell_type": "markdown",
   "metadata": {},
   "source": [
    "#### Initializations"
   ]
  },
  {
   "cell_type": "code",
   "execution_count": 2,
   "metadata": {},
   "outputs": [
    {
     "name": "stderr",
     "output_type": "stream",
     "text": [
      "2025-03-05 23:38:17,061 [DEBUG] embedding_model - CUDA is available, using GPU\n",
      "2025-03-05 23:38:33,451 [DEBUG] embedding_model - Embedding model initialized: neuml/pubmedbert-base-embeddings\n"
     ]
    }
   ],
   "source": [
    "# models\n",
    "embedding_model = EmbeddingModel()\n",
    "llm = LLM.from_name(model_name=\"mixtral-8x7b-32768\")"
   ]
  },
  {
   "cell_type": "code",
   "execution_count": 3,
   "metadata": {},
   "outputs": [
    {
     "name": "stderr",
     "output_type": "stream",
     "text": [
      "2025-03-05 23:38:38,565 [DEBUG] connection - Connection successful!\n"
     ]
    }
   ],
   "source": [
    "# data\n",
    "data = read_json_file(file_path=os.path.join(ConfigPath.RAW_DATA_DIR, \"pqa_labeled.json\"))  \n",
    "\n",
    "# modules\n",
    "text_splitter = TextSplitter()\n",
    "neo4j_connection = Neo4jConnection(uri=ConfigEnv.NEO4J_URI, \n",
    "                 user=ConfigEnv.NEO4J_USER,\n",
    "                 password=ConfigEnv.NEO4J_PASSWORD,\n",
    "                 database=ConfigEnv.NEO4J_DB)\n",
    "crud = GraphCrud(neo4j_connection=neo4j_connection)\n",
    "graph_loader = GraphLoader(text_splitter=text_splitter,\n",
    "                           embedding_model=embedding_model,\n",
    "                           crud=crud,\n",
    "                           data=data)\n",
    "\n",
    "vector_search_tool = VectorSearchTool(\n",
    "    llm=llm,\n",
    "    embedding_model=embedding_model,\n",
    "    neo4j_connection=neo4j_connection,\n",
    "    return_direct=False\n",
    ")\n"
   ]
  },
  {
   "cell_type": "code",
   "execution_count": 4,
   "metadata": {},
   "outputs": [
    {
     "name": "stderr",
     "output_type": "stream",
     "text": [
      "2025-03-05 23:38:39,539 [INFO] vector_search_tool - Results: [{'content': 'Telephone counseling and tailored print communications have emerged as promising methods for promoting mammography screening. However, there has been little research testing, within the same randomized field trial, of the efficacy of these two methods compared to a high-quality usual care system for enhancing screening. This study addressed the question: Compared to usual care, is tailored telephone counseling more effective than tailored print materials for promoting mammography screening? Three-year randomized field trial. One thousand ninety-nine women aged 50 and older recruited from a health maintenance organization in North Carolina. Women were randomized to 1 of 3 groups: (1) usual care, (2) tailored print communications, and (3) tailored telephone counseling. Adherence to mammography screening based on self-reports obtained during 1995, 1996, and 1997. Compared to usual care alone, telephone counseling promoted a significantly higher proportion of women having mammograms on schedule (71% vs 61%) than did tailored print (67% vs 61%) but only after the first year of intervention (during 1996). Furthermore, compared to usual care, telephone counseling was more effective than tailored print materials at promoting being on schedule with screening during 1996 and 1997 among women who were off-schedule during the previous year.', 'score': 0.7409293055534363}, {'content': 'Electronic health records have the potential to facilitate family history use by primary care physicians (PCPs) to provide personalized care. The objective of this study was to determine whether automated, at-the-visit tailored prompts about family history risk change PCP behavior. Automated, tailored prompts highlighting familial risk for heart disease, stroke, diabetes, and breast, colorectal, or ovarian cancer were implemented during 2011 to 2012. Medical records of a cohort of community-based primary care patients, aged 35 to 65 years, who previously participated in our Family Healthware study and had a moderate or strong familial risk for any of the 6 diseases were subsequently reviewed. The main outcome measures were PCP response to the prompts, adding family history risk to problem summary lists, and patient screening status for each disease. The 492 eligible patients had 847 visits during the study period; 152 visits had no documentation of response to a family history prompt. Of the remaining 695 visits, physician responses were reviewed family history (n = 372, 53.5%), discussed family history (n = 159, 22.9%), not addressed (n = 155, 22.3%), and reviewed family history and ordered tests/referrals (n = 5, 0.7%). There was no significant change in problem summary list documentation of risk status or screening interventions for any of the 6 diseases.', 'score': 0.6702985763549805}, {'content': 'Limited and conflicting data exist on an association between mammographic density (MD) and re-excision rates after breast-conserving surgery (BCS). Additionally, the correlation of MD with resection of unnecessary margins during initial BCS is unknown. All women with a diagnosis of breast cancer from 2003 to 2012 and enrolled in a larger study on MD were evaluated. Operative and pathology reports were reviewed to determine margin resection and involvement. Mammographic density was determined both by breast imaging-reporting and data system (BI-RADS) classification and by an automated software program (Volpara Solutions). Additional margins were deemed unnecessary if the lumpectomy specimen margin was free of invasive tumor [≥2 mm for ductal carcinoma in situ (DCIS)] or if further re-excision was needed. Of 655 patients, 398 (60.8%) had BCS, whereas 226 (34.5%) underwent initial mastectomy. The women with denser breasts (BI-RADS 3 or 4) underwent initial mastectomy more frequently than the women with less dense breasts (40.0 vs. 30.5%, respectively; p = 0.0118). Of the patients with BCS, 166 (41.7%) required separate re-excision. Additional margins were taken during BCS in 192 (48.2%) patients, with 151 (78.6%) proving to be unnecessary. In the bivariable analysis, the patients with denser breasts according to BI-RADS classification and volumetric density showed a trend toward requiring more frequent re-excision, but this association was not seen in the multivariable analysis. The rate of unnecessary margins did not differ by breast density. In the multivariate analysis, the re-excision rates increased with DCIS (p<0.0003) and decreased with resection of additional margins (p = 0.0043).', 'score': 0.6643319129943848}, {'content': \"Broad-based electronic health information exchange (HIE), in which patients' clinical data follow them between care delivery settings, is expected to produce large quality gains and cost savings. Although these benefits are assumed to result from reducing redundant care, there is limited supporting empirical evidence. To evaluate whether HIE adoption is associated with decreases in repeat imaging in emergency departments (EDs).DATA SOURCE/ ED discharge data from the State Emergency Department Databases for California and Florida for 2007-2010 were merged with Health Information Management Systems Society data that report hospital HIE participation. Using regression with ED fixed effects and trends, we performed a retrospective analysis of the impact of HIE participation on repeat imaging, comparing 37 EDs that initiated HIE participation during the study period to 410 EDs that did not participate in HIE during the same period. Within 3 common types of imaging tests [computed tomography (CT), ultrasound, and chest x-ray), we defined a repeat image for a given patient as the same study in the same body region performed within 30 days at unaffiliated EDs. In our sample there were 20,139 repeat CTs (representing 14.7% of those cases with CT in the index visit), 13,060 repeat ultrasounds (20.7% of ultrasound cases), and 29,703 repeat chest x-rays (19.5% of x-ray cases). HIE was associated with reduced probability of repeat ED imaging in all 3 modalities: -8.7 percentage points for CT [95% confidence interval (CI): -14.7, -2.7], -9.1 percentage points for ultrasound (95% CI: -17.2, -1.1), and -13.0 percentage points for chest x-ray (95% CI: -18.3, -7.7), reflecting reductions of 44%-67% relative to sample means.\", 'score': 0.6607517004013062}, {'content': 'To compare adherence to follow-up recommendations for colposcopy or repeated Papanicolaou (Pap) smears for women with previously abnormal Pap smear results. Retrospective cohort study. Three northern California family planning clinics. All women with abnormal Pap smear results referred for initial colposcopy and a random sample of those referred for repeated Pap smear. Medical records were located and reviewed for 90 of 107 women referred for colposcopy and 153 of 225 women referred for repeated Pap smears. Routine clinic protocols for follow-up--telephone call, letter, or certified letter--were applied without regard to the type of abnormality seen on a Pap smear or recommended examination. Documented adherence to follow-up within 8 months of an abnormal result. Attempts to contact the patients for follow-up, adherence to follow-up recommendations, and patient characteristics were abstracted from medical records. The probability of adherence to follow-up vs the number of follow-up attempts was modeled with survival analysis. Cox proportional hazards models were used to examine multivariate relationships related to adherence. The rate of overall adherence to follow-up recommendations was 56.0% (136/243). Adherence to a second colposcopy was not significantly different from that to a repeated Pap smear (odds ratio, 1.40; 95% confidence interval, 0.80-2.46). The use of as many as 3 patient reminders substantially improved adherence to follow-up. Women without insurance and women attending 1 of the 3 clinics were less likely to adhere to any follow-up recommendation (hazard ratio for no insurance, 0.43 [95% confidence interval, 0.20-0.93], and for clinic, 0.35 [95% confidence interval, 0.15-0.73]).', 'score': 0.658433198928833}, {'content': 'Female citizens of Sami (the indigenous people of Norway) municipalities in northern Norway have a low risk of breast cancer. The objective of this study was to describe the attendance rate and outcome of the Norwegian Breast Cancer Screening Program (NBCSP) in the Sami-speaking municipalities and a control group. A retrospective registry-based study. The 8 municipalities included in the administration area of the Sami language law (Sami) were matched with a control group of 11 municipalities (non-Sami). Population data were accessed from Statistics Norway. Data regarding invitations and outcome in the NBCSP during the period 2001-2010 was derived from the Cancer Registry of Norway (CRN). The NBCSP targets women aged 50-69 years. Rates and percentages were compared using chi-square test with a p-value<0.05 as statistical significant. The attendance rate in the NBCSP was 78% in the Sami and 75% in the non-Sami population (p<0.01). The recall rates were 2.4 and 3.3% in the Sami and non-Sami population, respectively (p<0.01). The rate of invasive screen detected cancer was not significantly lower in the Sami group (p=0.14). The percentage of all breast cancers detected in the NBCSP among the Sami (67%) was lower compared with the non-Sami population (86%, p=0.06).', 'score': 0.6575610637664795}, {'content': \"Updated guidelines for the screening and management of cervical cancer in the United States recommend starting Papanicolaou (Pap) testing at age 21 and screening less frequently with less aggressive management for abnormalities. We sought to examine updated Pap test screening guidelines and how they may affect the detection of invasive cervical cancer, especially among women<30 years of age. Patients diagnosed at Brigham and Women's Hospital with invasive cervical cancer between 2002 and 2012 were retrospectively identified. Prior screening history was obtained and patients were divided into two groups based on age<30 years or age ≥30 years. The two groups were then compared with respect to demographics, pathological findings, and time to diagnosis. A total of 288 patients with invasive cervical carcinoma were identified. Among these patients, 109 had adequate information on prior screening history. Invasive adenocarcinoma (IAC) was diagnosed in 37 (33.94%) patients, whereas 64 (58.72%) patients were diagnosed with invasive squamous cell carcinoma (ISCC). The remaining eight patients were diagnosed with other types of cancers of the cervix. A total of 13 patients were younger than 30 while 96 patients were 30 or older. The mean time from normal Pap to diagnosis of IAC was 15 months in patients younger than 30 years of age compared to 56 months in patients aged 30 and older (p\\u2009<\\u20090.001). The mean time from normal Pap to diagnosis of ISCC was 38 months in patients younger than 30 years of age and 82 months in patients aged 30 and older (p\\u2009=\\u20090.018).\", 'score': 0.6501468420028687}, {'content': \"Many insurance payors mandate that bariatric surgery candidates undergo a medically supervised weight management (MSWM) program as a prerequisite for surgery. However, there is little evidence to support this requirement. We evaluated in a randomized controlled trial the hypothesis that participation in a MSWM program does not predict outcomes after laparoscopic adjustable gastric banding (LAGB) in a publicly insured population. This pilot randomized trial was conducted in a large academic urban public hospital. Patients who met NIH consensus criteria for bariatric surgery and whose insurance did not require a mandatory 6-month MSWM program were randomized to a MSWM program with monthly visits over 6 months (individual or group) or usual care for 6 months and then followed for bariatric surgery outcomes postoperatively. Demographics, weight, and patient behavior scores, including patient adherence, eating behavior, patient activation, and physical activity, were collected at baseline and at 6 months (immediately preoperatively and postoperatively). A total of 55 patients were enrolled in the study with complete follow-up on 23 patients. Participants randomized to a MSWM program attended an average of 2 sessions preoperatively. The majority of participants were female and non-Caucasian, mean age was 46 years, average income was less than $20,000/year, and most had Medicaid as their primary insurer, consistent with the demographics of the hospital's bariatric surgery program. Data analysis included both intention-to-treat and completers' analyses. No significant differences in weight loss and most patient behaviors were found between the two groups postoperatively, suggesting that participation in a MSWM program did not improve weight loss outcomes for LAGB. Participation in a MSWM program did appear to have a positive effect on physical activity postoperatively.\", 'score': 0.6444926857948303}, {'content': 'By requiring or encouraging enrollees to obtain a usual source of care, managed care programs hope to improve access to care without incurring higher costs. (1) To examine the effects of managed care on the likelihood of low-income persons having a usual source of care and a usual physician, and; (2) To examine the association between usual source of care and access. Cross-sectional survey of households conducted during 1996 and 1997. A nationally representative sample of 14,271 low-income persons. Usual source of care, usual physician, managed care enrollment, managed care penetration. High managed care penetration in the community is associated with a lower likelihood of having a usual source of care for uninsured persons (54.8% vs. 62.2% in low penetration areas) as well as a lower likelihood of having a usual physician (60% vs. 72.8%). Managed care has only marginal effects on the likelihood of having a usual source of care for privately insured and Medicaid beneficiaries. Having a usual physician substantially reduces unmet medical needs for the insured but less so for the uninsured.', 'score': 0.6443213224411011}, {'content': 'In an attempt to improve the care they provide for their patients with breast cancer, the authors\\' institution developed a multidisciplinary breast cancer clinic (MDBCC) to offer \"one-stop shopping\" consultation and support for newly diagnosed breast cancer patients. One hundred sixty-two patients, the control group for this study, were evaluated at Henry Ford Hospital during the year prior to the opening of the MDBCC. These patients, who were referred in the traditional sequential consultation manner, were compared with the first 177 patients seen during the first year of the clinic\\'s operation. Retrospective chart reviews were conducted to assess treatment timeliness, and anonymous questionnaires were used to assess patient satisfaction. The authors found that the MDBCC increased patient satisfaction by encouraging involvement of patients\\' families and friends and by helping patients make treatment decisions (P<0.001). The time between diagnosis and the initiation of treatment was also significantly decreased (42.2 days vs. 29.6 days; P<0.0008).', 'score': 0.6404727697372437}]\n"
     ]
    },
    {
     "name": "stdout",
     "output_type": "stream",
     "text": [
      "No.\n",
      "\n",
      "The context provided does not contain information about tailored interventions increasing mammography use among HMO women. Instead, it discusses the efficacy of telephone counseling and tailored print materials compared to usual care in promoting mammography screening.\n"
     ]
    }
   ],
   "source": [
    "answer = vector_search_tool.invoke(\"Can tailored interventions increase mammography use among HMO women?\")\n",
    "print(answer)"
   ]
  },
  {
   "cell_type": "markdown",
   "metadata": {},
   "source": [
    "### Nodes deletion"
   ]
  },
  {
   "cell_type": "code",
   "execution_count": null,
   "metadata": {},
   "outputs": [],
   "source": [
    "context_alias = \"context\"\n",
    "context_label = \"CONTEXT\"\n",
    "context_index_name = \"contextEmbeddings\"\n",
    "k = 5\n",
    "threshold = 0.5\n",
    "query = \"Programmed cell death (PCD) is the regulated death of cells within an organism. \"\n",
    "query_embedding = embedding_model.embed_query(text=query)\n",
    "\n",
    "VECTOR_SEARCH_QUERY = f\"\"\"MATCH ({context_alias}:{context_label})\n",
    "WITH {context_alias},\n",
    "    vector.similarity.cosine($query, {context_alias}.embedding) AS score\n",
    "    ORDER BY score DESCENDING\n",
    "    LIMIT $k WHERE score > $threshold\n",
    "RETURN {context_alias}.text_content as content, score as score\"\"\"\n",
    "print(VECTOR_SEARCH_QUERY)"
   ]
  },
  {
   "cell_type": "code",
   "execution_count": null,
   "metadata": {},
   "outputs": [],
   "source": [
    "results = neo4j_connection.execute_query(VECTOR_SEARCH_QUERY, \n",
    "                                           {\"k\": k, \n",
    "                                            \"query\": query_embedding, \n",
    "                                            \"threshold\": threshold,\n",
    "                                            \"context_alias\": context_alias,\n",
    "                                            \"context_label\": context_label})\n",
    "\n",
    "results\n",
    "\n"
   ]
  }
 ],
 "metadata": {
  "kernelspec": {
   "display_name": ".venv",
   "language": "python",
   "name": "python3"
  },
  "language_info": {
   "codemirror_mode": {
    "name": "ipython",
    "version": 3
   },
   "file_extension": ".py",
   "mimetype": "text/x-python",
   "name": "python",
   "nbconvert_exporter": "python",
   "pygments_lexer": "ipython3",
   "version": "3.10.0"
  }
 },
 "nbformat": 4,
 "nbformat_minor": 2
}
