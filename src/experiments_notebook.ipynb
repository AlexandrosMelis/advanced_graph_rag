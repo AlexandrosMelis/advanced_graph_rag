{
 "cells": [
  {
   "cell_type": "markdown",
   "metadata": {},
   "source": [
    "#### Imports"
   ]
  },
  {
   "cell_type": "code",
   "execution_count": 1,
   "metadata": {},
   "outputs": [],
   "source": [
    "import os\n",
    "import json\n",
    "from tqdm import tqdm\n",
    "\n",
    "from configs import ConfigPath\n",
    "from data_preprocessing.text_splitter import TextSplitter\n",
    "from utils.utils import read_json_file\n",
    "from llms.embedding_model import EmbeddingModel\n",
    "from knowledge_graph.loader import GraphLoader\n",
    "from knowledge_graph.crud import GraphCrud\n",
    "from configs.config import ConfigEnv\n",
    "from knowledge_graph.connection import Neo4jConnection"
   ]
  },
  {
   "cell_type": "markdown",
   "metadata": {},
   "source": [
    "#### Initializations"
   ]
  },
  {
   "cell_type": "code",
   "execution_count": null,
   "metadata": {},
   "outputs": [],
   "source": [
    "# models\n",
    "embedding_model = EmbeddingModel()"
   ]
  },
  {
   "cell_type": "code",
   "execution_count": 3,
   "metadata": {},
   "outputs": [
    {
     "name": "stderr",
     "output_type": "stream",
     "text": [
      "2025-03-04 19:05:24,235 [DEBUG] connection - Connection successful!\n"
     ]
    }
   ],
   "source": [
    "# data\n",
    "data = read_json_file(file_path=os.path.join(ConfigPath.RAW_DATA_DIR, \"pqa_labeled.json\"))  \n",
    "\n",
    "# modules\n",
    "text_splitter = TextSplitter()\n",
    "neo4j_connection = Neo4jConnection(uri=ConfigEnv.NEO4J_URI, \n",
    "                 user=ConfigEnv.NEO4J_USER,\n",
    "                 password=ConfigEnv.NEO4J_PASSWORD,\n",
    "                 database=ConfigEnv.NEO4J_DB)\n",
    "crud = GraphCrud(neo4j_connection=neo4j_connection)\n",
    "graph_loader = GraphLoader(text_splitter=text_splitter,\n",
    "                           embedding_model=embedding_model,\n",
    "                           crud=crud,\n",
    "                           data=data)\n"
   ]
  },
  {
   "cell_type": "markdown",
   "metadata": {},
   "source": [
    "### Nodes deletion"
   ]
  },
  {
   "cell_type": "code",
   "execution_count": null,
   "metadata": {},
   "outputs": [],
   "source": []
  }
 ],
 "metadata": {
  "kernelspec": {
   "display_name": ".venv",
   "language": "python",
   "name": "python3"
  },
  "language_info": {
   "codemirror_mode": {
    "name": "ipython",
    "version": 3
   },
   "file_extension": ".py",
   "mimetype": "text/x-python",
   "name": "python",
   "nbconvert_exporter": "python",
   "pygments_lexer": "ipython3",
   "version": "3.10.0"
  }
 },
 "nbformat": 4,
 "nbformat_minor": 2
}
